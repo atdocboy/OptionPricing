{
 "cells": [
  {
   "cell_type": "code",
   "execution_count": 66,
   "metadata": {},
   "outputs": [],
   "source": [
    "import pandas as pd\n",
    "import numpy as np\n",
    "from sklearn.utils import class_weight\n",
    "from sklearn.preprocessing import StandardScaler,MinMaxScaler"
   ]
  },
  {
   "cell_type": "code",
   "execution_count": 67,
   "metadata": {},
   "outputs": [],
   "source": [
    "approach = 1"
   ]
  },
  {
   "cell_type": "code",
   "execution_count": 68,
   "metadata": {},
   "outputs": [],
   "source": [
    "if(approach==1):\n",
    "    data=pd.read_csv(\"/home/sharan/Desktop/Option Pricing Work/Work/nifty_FULL_feature_set_ecdf_new_step2.csv\",index = False)\n",
    "elif(approach==2):\n",
    "    data=pd.read_csv(\"/home/sharan/Desktop/Option Pricing Work/Work/nifty_19-20_feature_set_ecdf_new_step2.csv\",index = False)\n",
    "data=data.loc[data['ttm']>3,:]\n",
    "data=data.loc[data['ttm']<=45,:]\n",
    "bound=np.percentile(data['percentage'],100)\n",
    "data=data.loc[data['percentage']<bound]"
   ]
  },
  {
   "cell_type": "code",
   "execution_count": 69,
   "metadata": {},
   "outputs": [
    {
     "data": {
      "text/plain": [
       "13517"
      ]
     },
     "execution_count": 69,
     "metadata": {},
     "output_type": "execute_result"
    }
   ],
   "source": [
    "len(data)\n",
    "# if (data.loc[:, 'percentage'] >= 5) is True:\n",
    "#     data.loc[:, 'Date']\n",
    "# data.loc[data[\"percentage\"] >= 5]"
   ]
  },
  {
   "cell_type": "code",
   "execution_count": 70,
   "metadata": {},
   "outputs": [
    {
     "data": {
      "text/plain": [
       "array([[<matplotlib.axes._subplots.AxesSubplot object at 0x7f8e62f569e8>]],\n",
       "      dtype=object)"
      ]
     },
     "execution_count": 70,
     "metadata": {},
     "output_type": "execute_result"
    },
    {
     "data": {
      "image/png": "[encoded data removed]",
      "text/plain": [
       "<matplotlib.figure.Figure at 0x7f8e62e15240>"
      ]
     },
     "metadata": {},
     "output_type": "display_data"
    }
   ],
   "source": [
    "# original Data\n",
    "data.hist(column='percentage', bins =50)"
   ]
  },
  {
   "cell_type": "code",
   "execution_count": 71,
   "metadata": {},
   "outputs": [],
   "source": [
    "maxVal=5\n",
    "minVal=0"
   ]
  },
  {
   "cell_type": "code",
   "execution_count": 72,
   "metadata": {},
   "outputs": [
    {
     "name": "stdout",
     "output_type": "stream",
     "text": [
      "13517\n"
     ]
    }
   ],
   "source": [
    "print(len(data))"
   ]
  },
  {
   "cell_type": "code",
   "execution_count": 73,
   "metadata": {},
   "outputs": [
    {
     "name": "stdout",
     "output_type": "stream",
     "text": [
      "0.1\n"
     ]
    }
   ],
   "source": [
    "bins=50\n",
    "\n",
    "step=(maxVal-minVal)/bins\n",
    "print(step)"
   ]
  },
  {
   "cell_type": "code",
   "execution_count": 74,
   "metadata": {
    "scrolled": true
   },
   "outputs": [
    {
     "name": "stdout",
     "output_type": "stream",
     "text": [
      "[0.0, 0.1, 0.2, 0.30000000000000004, 0.4, 0.5, 0.6000000000000001, 0.7000000000000001, 0.8, 0.9, 1.0, 1.1, 1.2000000000000002, 1.3, 1.4000000000000001, 1.5, 1.6, 1.7000000000000002, 1.8, 1.9000000000000001, 2.0, 2.1, 2.2, 2.3000000000000003, 2.4000000000000004, 2.5, 2.6, 2.7, 2.8000000000000003, 2.9000000000000004, 3.0, 3.1, 3.2, 3.3000000000000003, 3.4000000000000004, 3.5, 3.6, 3.7, 3.8000000000000003, 3.9000000000000004, 4.0, 4.1000000000000005, 4.2, 4.3, 4.4, 4.5, 4.6000000000000005, 4.7, 4.800000000000001, 4.9]\n"
     ]
    }
   ],
   "source": [
    "# print(step)\n",
    "thresh=[]\n",
    "for i in range(0,bins):\n",
    "    val=(minVal+(i*step))\n",
    "    val=val\n",
    "    thresh.append(val)\n",
    "    \n",
    "print(thresh)"
   ]
  },
  {
   "cell_type": "code",
   "execution_count": 75,
   "metadata": {
    "scrolled": true
   },
   "outputs": [
    {
     "name": "stdout",
     "output_type": "stream",
     "text": [
      "Class 49:\n",
      "174\n",
      "Class 48:\n",
      "57\n",
      "Class 47:\n",
      "65\n",
      "Class 46:\n",
      "77\n",
      "Class 45:\n",
      "89\n",
      "Class 44:\n",
      "101\n",
      "Class 43:\n",
      "137\n",
      "Class 42:\n",
      "143\n",
      "Class 41:\n",
      "141\n",
      "Class 40:\n",
      "143\n",
      "Class 39:\n",
      "145\n",
      "Class 38:\n",
      "165\n",
      "Class 37:\n",
      "182\n",
      "Class 36:\n",
      "191\n",
      "Class 35:\n",
      "165\n",
      "Class 34:\n",
      "178\n",
      "Class 33:\n",
      "160\n",
      "Class 32:\n",
      "172\n",
      "Class 31:\n",
      "200\n",
      "Class 30:\n",
      "198\n",
      "Class 29:\n",
      "202\n",
      "Class 28:\n",
      "182\n",
      "Class 27:\n",
      "220\n",
      "Class 26:\n",
      "234\n",
      "Class 25:\n",
      "217\n",
      "Class 24:\n",
      "204\n",
      "Class 23:\n",
      "230\n",
      "Class 22:\n",
      "250\n",
      "Class 21:\n",
      "280\n",
      "Class 20:\n",
      "236\n",
      "Class 19:\n",
      "257\n",
      "Class 18:\n",
      "275\n",
      "Class 17:\n",
      "296\n",
      "Class 16:\n",
      "278\n",
      "Class 15:\n",
      "314\n",
      "Class 14:\n",
      "306\n",
      "Class 13:\n",
      "322\n",
      "Class 12:\n",
      "352\n",
      "Class 11:\n",
      "338\n",
      "Class 10:\n",
      "376\n",
      "Class 9:\n",
      "419\n",
      "Class 8:\n",
      "405\n",
      "Class 7:\n",
      "453\n",
      "Class 6:\n",
      "456\n",
      "Class 5:\n",
      "497\n",
      "Class 4:\n",
      "510\n",
      "Class 3:\n",
      "543\n",
      "Class 2:\n",
      "571\n",
      "Class 1:\n",
      "651\n",
      "Class 0:\n",
      "760\n"
     ]
    }
   ],
   "source": [
    "Target=[-1] * len(data)\n",
    "data['Target']=Target\n",
    "\n",
    "for i in range(len(thresh)-1,-1,-1):\n",
    "    data.loc[np.logical_and(data['percentage']>=thresh[i],data['Target']==-1),'Target']=i\n",
    "    print(\"Class {}:\".format(i))\n",
    "    print(len(data.loc[data['Target']==i]))\n",
    "#     print(len(data.loc[data['Target']==i])/len(data)*100)\n",
    "\n",
    "data = data.dropna()\n",
    "# /home/sharan/Desktop/Option Pricing Work/Work/nifty_2015_2018_feature_set_ecdf_new_FINAL.csv\n",
    "\n",
    "    data.to_csv('/home/sharan/Desktop/Option Pricing Work/Work/nifty_2015_2018_feature_set_ecdf_new_FINAL.csv',index=False)\n",
    "elif(approach==2):\n",
    "    data.to_csv('/home/sharan/Desktop/Option Pricing Work/Work/nifty_19-20_feature_set_ecdf_new_FINAL.csv',index=False)\n"
   ]
  },
  {
   "cell_type": "code",
   "execution_count": 76,
   "metadata": {},
   "outputs": [
    {
     "name": "stdout",
     "output_type": "stream",
     "text": [
      "13517\n"
     ]
    }
   ],
   "source": [
    "print(len(data))"
   ]
  },
  {
   "cell_type": "code",
   "execution_count": 77,
   "metadata": {},
   "outputs": [
    {
     "data": {
      "text/html": [
       "<div>\n",
       "<style scoped>\n",
       "    .dataframe tbody tr th:only-of-type {\n",
       "        vertical-align: middle;\n",
       "    }\n",
       "\n",
       "    .dataframe tbody tr th {\n",
       "        vertical-align: top;\n",
       "    }\n",
       "\n",
       "    .dataframe thead th {\n",
       "        text-align: right;\n",
       "    }\n",
       "</style>\n",
       "<table border=\"1\" class=\"dataframe\">\n",
       "  <thead>\n",
       "    <tr style=\"text-align: right;\">\n",
       "      <th></th>\n",
       "      <th>A</th>\n",
       "      <th>B</th>\n",
       "      <th>C</th>\n",
       "    </tr>\n",
       "  </thead>\n",
       "  <tbody>\n",
       "    <tr>\n",
       "      <th>0</th>\n",
       "      <td>1</td>\n",
       "      <td>NaN</td>\n",
       "      <td>1</td>\n",
       "    </tr>\n",
       "    <tr>\n",
       "      <th>1</th>\n",
       "      <td>1</td>\n",
       "      <td>2.0</td>\n",
       "      <td>2</td>\n",
       "    </tr>\n",
       "    <tr>\n",
       "      <th>2</th>\n",
       "      <td>2</td>\n",
       "      <td>3.0</td>\n",
       "      <td>1</td>\n",
       "    </tr>\n",
       "    <tr>\n",
       "      <th>3</th>\n",
       "      <td>1</td>\n",
       "      <td>4.0</td>\n",
       "      <td>1</td>\n",
       "    </tr>\n",
       "    <tr>\n",
       "      <th>4</th>\n",
       "      <td>2</td>\n",
       "      <td>5.0</td>\n",
       "      <td>2</td>\n",
       "    </tr>\n",
       "  </tbody>\n",
       "</table>\n",
       "</div>"
      ],
      "text/plain": [
       "   A    B  C\n",
       "0  1  NaN  1\n",
       "1  1  2.0  2\n",
       "2  2  3.0  1\n",
       "3  1  4.0  1\n",
       "4  2  5.0  2"
      ]
     },
     "execution_count": 77,
     "metadata": {},
     "output_type": "execute_result"
    }
   ],
   "source": [
    "df = pd.DataFrame({'A': [1, 1, 2, 1, 2],\n",
    "                   'B': [np.nan, 2, 3, 4, 5],\n",
    "                   'C': [1, 2, 1, 1, 2]}, columns=['A', 'B', 'C'])\n",
    "df"
   ]
  },
  {
   "cell_type": "code",
   "execution_count": 78,
   "metadata": {},
   "outputs": [
    {
     "data": {
      "text/html": [
       "<div>\n",
       "<style scoped>\n",
       "    .dataframe tbody tr th:only-of-type {\n",
       "        vertical-align: middle;\n",
       "    }\n",
       "\n",
       "    .dataframe tbody tr th {\n",
       "        vertical-align: top;\n",
       "    }\n",
       "\n",
       "    .dataframe thead th {\n",
       "        text-align: right;\n",
       "    }\n",
       "</style>\n",
       "<table border=\"1\" class=\"dataframe\">\n",
       "  <thead>\n",
       "    <tr style=\"text-align: right;\">\n",
       "      <th></th>\n",
       "      <th>B</th>\n",
       "      <th>C</th>\n",
       "    </tr>\n",
       "    <tr>\n",
       "      <th>A</th>\n",
       "      <th></th>\n",
       "      <th></th>\n",
       "    </tr>\n",
       "  </thead>\n",
       "  <tbody>\n",
       "    <tr>\n",
       "      <th>1</th>\n",
       "      <td>3.0</td>\n",
       "      <td>1.333333</td>\n",
       "    </tr>\n",
       "    <tr>\n",
       "      <th>2</th>\n",
       "      <td>4.0</td>\n",
       "      <td>1.500000</td>\n",
       "    </tr>\n",
       "  </tbody>\n",
       "</table>\n",
       "</div>"
      ],
      "text/plain": [
       "     B         C\n",
       "A               \n",
       "1  3.0  1.333333\n",
       "2  4.0  1.500000"
      ]
     },
     "execution_count": 78,
     "metadata": {},
     "output_type": "execute_result"
    }
   ],
   "source": [
    "df.groupby('A').mean()"
   ]
  }
 ],
 "metadata": {
  "kernelspec": {
   "display_name": "Python 3",
   "language": "python",
   "name": "python3"
  },
  "language_info": {
   "codemirror_mode": {
    "name": "ipython",
    "version": 3
   },
   "file_extension": ".py",
   "mimetype": "text/x-python",
   "name": "python",
   "nbconvert_exporter": "python",
   "pygments_lexer": "ipython3",
   "version": "3.6.6"
  }
 },
 "nbformat": 4,
 "nbformat_minor": 2
}
