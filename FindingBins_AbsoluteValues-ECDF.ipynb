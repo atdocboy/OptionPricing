{
 "cells": [
  {
   "cell_type": "code",
   "execution_count": 1,
   "metadata": {},
   "outputs": [],
   "source": [
    "import pandas as pd\n",
    "import numpy as np\n",
    "from sklearn.utils import class_weight\n",
    "from sklearn.preprocessing import StandardScaler,MinMaxScaler"
   ]
  },
  {
   "cell_type": "code",
   "execution_count": 2,
   "metadata": {},
   "outputs": [],
   "source": [
    "# Path settings\n",
    "\n",
    "path_var = 1 \n",
    "\n",
    "if (path_var == 1):\n",
    "    filepath = '/home/docboy/Desktop/Option_Pricing/datasets/'\n",
    "\n",
    "else:\n",
    "    filepath = '/home/sharan/Desktop/Option_Pricing/datasets/'"
   ]
  },
  {
   "cell_type": "code",
   "execution_count": 3,
   "metadata": {},
   "outputs": [],
   "source": [
    "data = pd.read_csv(filepath + 'SBIN_feature_set_ECDF_STEP_2_SCALED.csv')\n",
    "\n",
    "# data = pd.read_csv(filepath + 'NIFTY50_feature_set_ECDF_STEP_2.csv')"
   ]
  },
  {
   "cell_type": "code",
   "execution_count": 4,
   "metadata": {},
   "outputs": [],
   "source": [
    "data=data.loc[data['ttm']>3,:]\n",
    "data=data.loc[data['ttm']<=45,:]\n",
    "bound=np.percentile(data['percentage'],100)\n",
    "data=data.loc[data['percentage']<bound]"
   ]
  },
  {
   "cell_type": "code",
   "execution_count": 5,
   "metadata": {},
   "outputs": [
    {
     "data": {
      "text/plain": [
       "4699"
      ]
     },
     "execution_count": 5,
     "metadata": {},
     "output_type": "execute_result"
    }
   ],
   "source": [
    "len(data)\n",
    "# if (data.loc[:, 'percentage'] >= 5) is True:\n",
    "#     data.loc[:, 'Date']\n",
    "# data.loc[data[\"percentage\"] >= 5]"
   ]
  },
  {
   "cell_type": "code",
   "execution_count": 6,
   "metadata": {},
   "outputs": [
    {
     "data": {
      "text/plain": [
       "array([[<matplotlib.axes._subplots.AxesSubplot object at 0x7f34c4622128>]],\n",
       "      dtype=object)"
      ]
     },
     "execution_count": 6,
     "metadata": {},
     "output_type": "execute_result"
    }
   ],
   "source": [
    "# original Data\n",
    "data.hist(column='percentage', bins =70)"
   ]
  },
  {
   "cell_type": "code",
   "execution_count": 7,
   "metadata": {},
   "outputs": [],
   "source": [
    "maxVal=5\n",
    "minVal=0"
   ]
  },
  {
   "cell_type": "code",
   "execution_count": 8,
   "metadata": {},
   "outputs": [
    {
     "name": "stdout",
     "output_type": "stream",
     "text": [
      "4699\n"
     ]
    }
   ],
   "source": [
    "print(len(data))"
   ]
  },
  {
   "cell_type": "code",
   "execution_count": 9,
   "metadata": {},
   "outputs": [
    {
     "name": "stdout",
     "output_type": "stream",
     "text": [
      "0.1\n"
     ]
    }
   ],
   "source": [
    "bins=50\n",
    "\n",
    "step=(maxVal-minVal)/bins\n",
    "print(step)"
   ]
  },
  {
   "cell_type": "code",
   "execution_count": 10,
   "metadata": {
    "scrolled": true
   },
   "outputs": [
    {
     "name": "stdout",
     "output_type": "stream",
     "text": [
      "[0.0, 0.1, 0.2, 0.30000000000000004, 0.4, 0.5, 0.6000000000000001, 0.7000000000000001, 0.8, 0.9, 1.0, 1.1, 1.2000000000000002, 1.3, 1.4000000000000001, 1.5, 1.6, 1.7000000000000002, 1.8, 1.9000000000000001, 2.0, 2.1, 2.2, 2.3000000000000003, 2.4000000000000004, 2.5, 2.6, 2.7, 2.8000000000000003, 2.9000000000000004, 3.0, 3.1, 3.2, 3.3000000000000003, 3.4000000000000004, 3.5, 3.6, 3.7, 3.8000000000000003, 3.9000000000000004, 4.0, 4.1000000000000005, 4.2, 4.3, 4.4, 4.5, 4.6000000000000005, 4.7, 4.800000000000001, 4.9]\n"
     ]
    }
   ],
   "source": [
    "# print(step)\n",
    "thresh=[]\n",
    "for i in range(0,bins):\n",
    "    val=(minVal+(i*step))\n",
    "    val=val\n",
    "    thresh.append(val)\n",
    "    \n",
    "print(thresh)"
   ]
  },
  {
   "cell_type": "code",
   "execution_count": 11,
   "metadata": {
    "scrolled": true
   },
   "outputs": [
    {
     "name": "stdout",
     "output_type": "stream",
     "text": [
      "Class 49:\n",
      "388\n",
      "Class 48:\n",
      "58\n",
      "Class 47:\n",
      "61\n",
      "Class 46:\n",
      "73\n",
      "Class 45:\n",
      "72\n",
      "Class 44:\n",
      "83\n",
      "Class 43:\n",
      "85\n",
      "Class 42:\n",
      "104\n",
      "Class 41:\n",
      "94\n",
      "Class 40:\n",
      "107\n",
      "Class 39:\n",
      "113\n",
      "Class 38:\n",
      "107\n",
      "Class 37:\n",
      "94\n",
      "Class 36:\n",
      "126\n",
      "Class 35:\n",
      "120\n",
      "Class 34:\n",
      "126\n",
      "Class 33:\n",
      "126\n",
      "Class 32:\n",
      "130\n",
      "Class 31:\n",
      "137\n",
      "Class 30:\n",
      "119\n",
      "Class 29:\n",
      "129\n",
      "Class 28:\n",
      "118\n",
      "Class 27:\n",
      "131\n",
      "Class 26:\n",
      "140\n",
      "Class 25:\n",
      "130\n",
      "Class 24:\n",
      "132\n",
      "Class 23:\n",
      "130\n",
      "Class 22:\n",
      "103\n",
      "Class 21:\n",
      "113\n",
      "Class 20:\n",
      "132\n",
      "Class 19:\n",
      "123\n",
      "Class 18:\n",
      "100\n",
      "Class 17:\n",
      "103\n",
      "Class 16:\n",
      "82\n",
      "Class 15:\n",
      "100\n",
      "Class 14:\n",
      "76\n",
      "Class 13:\n",
      "72\n",
      "Class 12:\n",
      "61\n",
      "Class 11:\n",
      "70\n",
      "Class 10:\n",
      "54\n",
      "Class 9:\n",
      "53\n",
      "Class 8:\n",
      "61\n",
      "Class 7:\n",
      "35\n",
      "Class 6:\n",
      "39\n",
      "Class 5:\n",
      "33\n",
      "Class 4:\n",
      "29\n",
      "Class 3:\n",
      "17\n",
      "Class 2:\n",
      "10\n",
      "Class 1:\n",
      "0\n",
      "Class 0:\n",
      "0\n"
     ]
    }
   ],
   "source": [
    "Target=[-1] * len(data)\n",
    "data['Target']=Target\n",
    "\n",
    "for i in range(len(thresh)-1,-1,-1):\n",
    "    data.loc[np.logical_and(data['percentage']>=thresh[i],data['Target']==-1),'Target']=i\n",
    "    print(\"Class {}:\".format(i))\n",
    "    print(len(data.loc[data['Target']==i]))\n",
    "#     print(len(data.loc[data['Target']==i])/len(data)*100)\n",
    "\n",
    "data = data.dropna()"
   ]
  },
  {
   "cell_type": "code",
   "execution_count": 12,
   "metadata": {},
   "outputs": [],
   "source": [
    "data.to_csv(filepath + 'SBIN_feature_set_ECDF_complete_SCALED.csv', index =  False)\n",
    "\n",
    "\n",
    "# data.to_csv(filepath + 'NIFTY50_feature_set_ECDF_complete.csv', index =  False)"
   ]
  },
  {
   "cell_type": "code",
   "execution_count": null,
   "metadata": {},
   "outputs": [],
   "source": []
  }
 ],
 "metadata": {
  "kernelspec": {
   "display_name": "Python 3",
   "language": "python",
   "name": "python3"
  },
  "language_info": {
   "codemirror_mode": {
    "name": "ipython",
    "version": 3
   },
   "file_extension": ".py",
   "mimetype": "text/x-python",
   "name": "python",
   "nbconvert_exporter": "python",
   "pygments_lexer": "ipython3",
   "version": "3.7.3"
  }
 },
 "nbformat": 4,
 "nbformat_minor": 2
}
