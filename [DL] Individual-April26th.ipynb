{
 "cells": [
  {
   "cell_type": "code",
   "execution_count": 1,
   "metadata": {},
   "outputs": [
    {
     "name": "stderr",
     "output_type": "stream",
     "text": [
      "Using TensorFlow backend.\n",
      "/home/sharan/anaconda3/lib/python3.6/site-packages/tensorflow/python/framework/dtypes.py:517: FutureWarning: Passing (type, 1) or '1type' as a synonym of type is deprecated; in a future version of numpy, it will be understood as (type, (1,)) / '(1,)type'.\n",
      "  _np_qint8 = np.dtype([(\"qint8\", np.int8, 1)])\n",
      "/home/sharan/anaconda3/lib/python3.6/site-packages/tensorflow/python/framework/dtypes.py:518: FutureWarning: Passing (type, 1) or '1type' as a synonym of type is deprecated; in a future version of numpy, it will be understood as (type, (1,)) / '(1,)type'.\n",
      "  _np_quint8 = np.dtype([(\"quint8\", np.uint8, 1)])\n",
      "/home/sharan/anaconda3/lib/python3.6/site-packages/tensorflow/python/framework/dtypes.py:519: FutureWarning: Passing (type, 1) or '1type' as a synonym of type is deprecated; in a future version of numpy, it will be understood as (type, (1,)) / '(1,)type'.\n",
      "  _np_qint16 = np.dtype([(\"qint16\", np.int16, 1)])\n",
      "/home/sharan/anaconda3/lib/python3.6/site-packages/tensorflow/python/framework/dtypes.py:520: FutureWarning: Passing (type, 1) or '1type' as a synonym of type is deprecated; in a future version of numpy, it will be understood as (type, (1,)) / '(1,)type'.\n",
      "  _np_quint16 = np.dtype([(\"quint16\", np.uint16, 1)])\n",
      "/home/sharan/anaconda3/lib/python3.6/site-packages/tensorflow/python/framework/dtypes.py:521: FutureWarning: Passing (type, 1) or '1type' as a synonym of type is deprecated; in a future version of numpy, it will be understood as (type, (1,)) / '(1,)type'.\n",
      "  _np_qint32 = np.dtype([(\"qint32\", np.int32, 1)])\n",
      "/home/sharan/anaconda3/lib/python3.6/site-packages/tensorflow/python/framework/dtypes.py:526: FutureWarning: Passing (type, 1) or '1type' as a synonym of type is deprecated; in a future version of numpy, it will be understood as (type, (1,)) / '(1,)type'.\n",
      "  np_resource = np.dtype([(\"resource\", np.ubyte, 1)])\n"
     ]
    }
   ],
   "source": [
    "import numpy as np\n",
    "import matplotlib.pyplot as plt\n",
    "from scipy import stats\n",
    "import pandas as pd\n",
    "import math\n",
    "import keras\n",
    "from sklearn.model_selection import train_test_split\n",
    "from keras.callbacks import EarlyStopping\n",
    "from sklearn.preprocessing import StandardScaler,MinMaxScaler,RobustScaler\n",
    "from sklearn.utils import class_weight\n",
    "from keras import optimizers\n",
    "from sklearn.preprocessing import OneHotEncoder\n",
    "import matplotlib.pyplot as plt\n",
    "from keras.models import load_model\n",
    "import joblib\n",
    "import py_vollib.black_scholes.implied_volatility\n",
    "import multiprocessing\n",
    "from multiprocessing import Pool\n",
    "import os\n",
    "import py_vollib.black_scholes.implied_volatility as vb\n",
    "%matplotlib inline"
   ]
  },
  {
   "cell_type": "code",
   "execution_count": 2,
   "metadata": {},
   "outputs": [],
   "source": [
    "# Set all file paths\n",
    "\n",
    "## ---->>> File paths for datasets\n",
    "\n",
    "nfty = '/home/sharan/Desktop/Option Pricing Work/Work/nifty_2015_2018_feature_set_COV_new_FINAL.csv'\n",
    "# b_nfty = '/home/sharan/Desktop/Option Pricing Work/Work/BANKNIFTY_feature_setFinal_0.02_Cov.csv'\n",
    "\n",
    "nfty_ecdf = '/home/sharan/Desktop/Option Pricing Work/Work/nifty_2015_2018_feature_set_ecdf_new_FINAL.csv'\n",
    "# b_nfty_ecdf = '/home/sharan/Desktop/Option Pricing Work/Work/BANKNIFTY_feature_set_FINAL_ecdf.csv'\n",
    "\n",
    "\n",
    "\n",
    "\n",
    "## ---->>> File paths for saving models and pickle bits\n",
    "save_model = '/home/sharan/Desktop/Option Pricing Work/Work/'\n",
    "save_pickle = '/home/sharan/Desktop/Option Pricing Work/Work/NewTTM/'\n"
   ]
  },
  {
   "cell_type": "code",
   "execution_count": 3,
   "metadata": {},
   "outputs": [
    {
     "name": "stdout",
     "output_type": "stream",
     "text": [
      "Approach var set to :: 2\n"
     ]
    }
   ],
   "source": [
    "# Set the automated variables + Plus drop all useless columns approach specific\n",
    "\n",
    "\n",
    "###########################\n",
    "###############################################\n",
    "\n",
    "approach = 2                       #------------------>>> # Change value as needed\n",
    "\n",
    "###############################################\n",
    "###########################\n",
    "\n",
    "\n",
    "if (approach == 1):\n",
    "    feats = pd.read_csv(nfty_ecdf)\n",
    "    print ('Approach var set to ECDF')\n",
    "    \n",
    "    dropNames = ['date', 'percentage','strike','spot','opPrice']\n",
    "    \n",
    "#     b_feats = pd.read_csv(b_nfty_ecdf)\n",
    "    \n",
    "else:\n",
    "    feats = pd.read_csv(nfty)\n",
    "    print ('Approach var set to :: '+ str(approach))\n",
    "    \n",
    "#     b_feats = pd.read_csv(b_nfty)\n",
    "    \n",
    "    if (approach == 2):\n",
    "        dropNames= ['date', 'percentage','strike','spot','opPrice','change_oi','ts_atr','prevOp','avg_atmError']\n",
    "        \n",
    "    else:\n",
    "#         feats=feats[feats['change_oi']!=-5000]\n",
    "        dropNames= ['date', 'percentage','strike','spot','opPrice','ts_atr','change_oi']\n",
    "        \n",
    "\n",
    "###################\n",
    "\n",
    "X=feats.iloc[:,:-1]\n",
    "Y=feats.loc[:,'Target']\n",
    "\n",
    "X = X.drop(dropNames, axis = 1)    \n",
    "    \n",
    "\n",
    "\n",
    "# b_X = b_feats.iloc[:,:-1]\n",
    "# b_Y = b_feats.loc[:,'Target']\n",
    "# b_X = b_X.drop(dropNames, axis = 1)    \n",
    "\n",
    "\n"
   ]
  },
  {
   "cell_type": "code",
   "execution_count": 4,
   "metadata": {},
   "outputs": [
    {
     "data": {
      "text/plain": [
       "Index(['close_mean', 'close_sd', 'open_mean', 'open_sd', 'high_mean',\n",
       "       'high_sd', 'low_mean', 'low_sd', 'close_lr_open_lr_cov',\n",
       "       'close_lr_high_lr_cov', 'close_lr_low_lr_cov', 'open_lr_high_lr_cov',\n",
       "       'open_lr_low_lr_cov', 'high_lr_low_lr_cov', 'ttm', 'atmError',\n",
       "       'yield03'],\n",
       "      dtype='object')"
      ]
     },
     "execution_count": 4,
     "metadata": {},
     "output_type": "execute_result"
    }
   ],
   "source": [
    "X.columns"
   ]
  },
  {
   "cell_type": "code",
   "execution_count": 5,
   "metadata": {},
   "outputs": [],
   "source": [
    "# Start the scaling process\n",
    "\n",
    "featNames = list(X)  \n",
    "scaler = RobustScaler()\n",
    "X = scaler.fit_transform(X)\n",
    "X = pd.DataFrame(X, columns = featNames)\n"
   ]
  },
  {
   "cell_type": "code",
   "execution_count": 6,
   "metadata": {},
   "outputs": [
    {
     "name": "stdout",
     "output_type": "stream",
     "text": [
      "Scaler saved to path :: /home/sharan/Desktop/Option Pricing Work/Work/NewTTM/DL_SCALER_NIFTY_0.02_Expt2.model\n"
     ]
    }
   ],
   "source": [
    "# # Save the scalar file\n",
    "\n",
    "joblib.dump(scaler, save_pickle+'DL_SCALER_NIFTY_0.02_Expt'+str(approach)+'.model')\n",
    "print(\"Scaler saved to path ::\", save_pickle+'DL_SCALER_NIFTY_0.02_Expt'+str(approach)+'.model' )"
   ]
  },
  {
   "cell_type": "code",
   "execution_count": 7,
   "metadata": {},
   "outputs": [
    {
     "name": "stdout",
     "output_type": "stream",
     "text": [
      "[0.35568421 0.4152381  0.47341506 0.49782689 0.53003922 0.54390342\n",
      " 0.59280702 0.59673289 0.66745679 0.64515513 0.71893617 0.79976331\n",
      " 0.76795455 0.83950311 0.88339869 0.86089172 0.9723741  0.91324324\n",
      " 0.98656934 1.05182879 1.14542373 0.96542857 1.08128    1.17530435\n",
      " 1.32509804 1.24571429 1.15521368 1.22872727 1.48527473 1.33821782\n",
      " 1.36525253 1.3516     1.57162791 1.6895     1.51865169 1.63830303\n",
      " 1.41528796 1.48527473 1.63830303 1.86427586 1.89034965 1.91716312\n",
      " 1.89034965 1.97313869 2.67643564 3.03730337 3.51064935 4.15876923\n",
      " 4.74245614 1.55356322]\n"
     ]
    }
   ],
   "source": [
    "class_weights = class_weight.compute_class_weight('balanced',np.unique(Y),Y)\n",
    "print(class_weights)"
   ]
  },
  {
   "cell_type": "code",
   "execution_count": 8,
   "metadata": {},
   "outputs": [
    {
     "data": {
      "text/plain": [
       "['/home/sharan/Desktop/Option Pricing Work/Work/NewTTM/DL_ONEHOT_NIFTY_0.02_Expt2.model']"
      ]
     },
     "execution_count": 8,
     "metadata": {},
     "output_type": "execute_result"
    }
   ],
   "source": [
    "onehot = OneHotEncoder(sparse=False)\n",
    "Y = Y.values\n",
    "Y = Y.reshape(len(Y), 1)\n",
    "Y = onehot.fit_transform(Y)\n",
    "joblib.dump(onehot, save_pickle+'DL_ONEHOT_NIFTY_0.02_Expt'+str(approach)+'.model')"
   ]
  },
  {
   "cell_type": "code",
   "execution_count": 9,
   "metadata": {},
   "outputs": [
    {
     "name": "stdout",
     "output_type": "stream",
     "text": [
      "X & Y_Dim of Train is (10813, 17) (10813, 50)\n",
      "X & Y_Dim of Test is (2703, 17) (2703, 50)\n"
     ]
    }
   ],
   "source": [
    "# Split the train and test sets without random optimizations\n",
    "\n",
    "\n",
    "a = len(feats)\n",
    "split_val = round(a*0.8)\n",
    "\n",
    "# Removing the Random splits\n",
    "\n",
    "X_train = X.iloc[0:split_val, :]\n",
    "X_test = X.iloc[split_val:, :]\n",
    "Y_train = Y[:split_val]\n",
    "Y_test = Y[split_val:]\n",
    "print ('X & Y_Dim of Train is', X_train.shape, Y_train.shape)\n",
    "print ('X & Y_Dim of Test is', X_test.shape, Y_test.shape)\n",
    "\n",
    "\n"
   ]
  },
  {
   "cell_type": "code",
   "execution_count": 10,
   "metadata": {},
   "outputs": [
    {
     "name": "stdout",
     "output_type": "stream",
     "text": [
      "_________________________________________________________________\n",
      "Layer (type)                 Output Shape              Param #   \n",
      "=================================================================\n",
      "dense_1 (Dense)              (None, 128)               2304      \n",
      "_________________________________________________________________\n",
      "dense_2 (Dense)              (None, 64)                8256      \n",
      "_________________________________________________________________\n",
      "dense_3 (Dense)              (None, 50)                3250      \n",
      "=================================================================\n",
      "Total params: 13,810\n",
      "Trainable params: 13,810\n",
      "Non-trainable params: 0\n",
      "_________________________________________________________________\n",
      "Train on 10813 samples, validate on 2703 samples\n",
      "Epoch 1/50\n",
      "10813/10813 [==============================] - 1s 127us/step - loss: 3.5445 - acc: 0.0618 - val_loss: 3.3851 - val_acc: 0.0844\n",
      "Epoch 2/50\n",
      "10813/10813 [==============================] - 1s 72us/step - loss: 2.8593 - acc: 0.1297 - val_loss: 2.9292 - val_acc: 0.1384\n",
      "Epoch 3/50\n",
      "10813/10813 [==============================] - 1s 68us/step - loss: 2.5291 - acc: 0.1876 - val_loss: 2.6835 - val_acc: 0.1713\n",
      "Epoch 4/50\n",
      "10813/10813 [==============================] - 1s 73us/step - loss: 2.3336 - acc: 0.2183 - val_loss: 2.5008 - val_acc: 0.1961\n",
      "Epoch 5/50\n",
      "10813/10813 [==============================] - 1s 64us/step - loss: 2.2027 - acc: 0.2425 - val_loss: 2.3846 - val_acc: 0.2209\n",
      "Epoch 6/50\n",
      "10813/10813 [==============================] - 1s 67us/step - loss: 2.1156 - acc: 0.2593 - val_loss: 2.2893 - val_acc: 0.2190\n",
      "Epoch 7/50\n",
      "10813/10813 [==============================] - 1s 65us/step - loss: 2.0513 - acc: 0.2678 - val_loss: 2.2270 - val_acc: 0.2227\n",
      "Epoch 8/50\n",
      "10813/10813 [==============================] - 1s 70us/step - loss: 2.0109 - acc: 0.2720 - val_loss: 2.1825 - val_acc: 0.2290\n",
      "Epoch 9/50\n",
      "10813/10813 [==============================] - 1s 64us/step - loss: 1.9756 - acc: 0.2765 - val_loss: 2.1399 - val_acc: 0.2334\n",
      "Epoch 10/50\n",
      "10813/10813 [==============================] - 1s 63us/step - loss: 1.9465 - acc: 0.2807 - val_loss: 2.1179 - val_acc: 0.2471\n",
      "Epoch 11/50\n",
      "10813/10813 [==============================] - 1s 63us/step - loss: 1.9211 - acc: 0.2909 - val_loss: 2.1060 - val_acc: 0.2283\n",
      "Epoch 12/50\n",
      "10813/10813 [==============================] - 1s 59us/step - loss: 1.8990 - acc: 0.2971 - val_loss: 2.0655 - val_acc: 0.2457\n",
      "Epoch 13/50\n",
      "10813/10813 [==============================] - 1s 64us/step - loss: 1.8846 - acc: 0.2990 - val_loss: 2.0428 - val_acc: 0.2346\n",
      "Epoch 14/50\n",
      "10813/10813 [==============================] - 1s 58us/step - loss: 1.8683 - acc: 0.2990 - val_loss: 2.0270 - val_acc: 0.2512\n",
      "Epoch 15/50\n",
      "10813/10813 [==============================] - 1s 59us/step - loss: 1.8510 - acc: 0.3054 - val_loss: 2.0246 - val_acc: 0.2579\n",
      "Epoch 16/50\n",
      "10813/10813 [==============================] - 1s 60us/step - loss: 1.8459 - acc: 0.3036 - val_loss: 2.0053 - val_acc: 0.2505\n",
      "Epoch 17/50\n",
      "10813/10813 [==============================] - 1s 60us/step - loss: 1.8332 - acc: 0.3058 - val_loss: 1.9669 - val_acc: 0.2638\n",
      "Epoch 18/50\n",
      "10813/10813 [==============================] - 1s 59us/step - loss: 1.8165 - acc: 0.3152 - val_loss: 1.9890 - val_acc: 0.2586\n",
      "Epoch 19/50\n",
      "10813/10813 [==============================] - 1s 63us/step - loss: 1.8078 - acc: 0.3108 - val_loss: 1.9650 - val_acc: 0.2549\n",
      "Epoch 20/50\n",
      "10813/10813 [==============================] - 1s 60us/step - loss: 1.7960 - acc: 0.3190 - val_loss: 1.9641 - val_acc: 0.2634\n",
      "Epoch 21/50\n",
      "10813/10813 [==============================] - 1s 60us/step - loss: 1.7900 - acc: 0.3194 - val_loss: 1.9683 - val_acc: 0.2553\n",
      "Epoch 22/50\n",
      "10813/10813 [==============================] - 1s 60us/step - loss: 1.7774 - acc: 0.3223 - val_loss: 1.9651 - val_acc: 0.2645\n",
      "Epoch 23/50\n",
      "10813/10813 [==============================] - 1s 67us/step - loss: 1.7707 - acc: 0.3214 - val_loss: 1.9631 - val_acc: 0.2593\n",
      "Epoch 24/50\n",
      "10813/10813 [==============================] - 1s 60us/step - loss: 1.7577 - acc: 0.3359 - val_loss: 1.9510 - val_acc: 0.2616\n",
      "Epoch 25/50\n",
      "10813/10813 [==============================] - 1s 63us/step - loss: 1.7523 - acc: 0.3320 - val_loss: 1.9256 - val_acc: 0.2697\n",
      "Epoch 26/50\n",
      "10813/10813 [==============================] - 1s 63us/step - loss: 1.7394 - acc: 0.3389 - val_loss: 1.9280 - val_acc: 0.2649\n",
      "Epoch 27/50\n",
      "10813/10813 [==============================] - 1s 59us/step - loss: 1.7386 - acc: 0.3389 - val_loss: 1.9392 - val_acc: 0.2593\n",
      "Epoch 28/50\n",
      "10813/10813 [==============================] - 1s 60us/step - loss: 1.7259 - acc: 0.3365 - val_loss: 1.9193 - val_acc: 0.2745\n",
      "Epoch 29/50\n",
      "10813/10813 [==============================] - 1s 62us/step - loss: 1.7204 - acc: 0.3420 - val_loss: 1.9294 - val_acc: 0.2616\n",
      "Epoch 30/50\n",
      "10813/10813 [==============================] - 1s 68us/step - loss: 1.7123 - acc: 0.3387 - val_loss: 1.9088 - val_acc: 0.2786\n",
      "Epoch 31/50\n",
      "10813/10813 [==============================] - 1s 60us/step - loss: 1.7045 - acc: 0.3459 - val_loss: 1.8934 - val_acc: 0.2723\n",
      "Epoch 32/50\n",
      "10813/10813 [==============================] - 1s 63us/step - loss: 1.7001 - acc: 0.3517 - val_loss: 1.9057 - val_acc: 0.2638\n",
      "Epoch 33/50\n",
      "10813/10813 [==============================] - 1s 58us/step - loss: 1.6929 - acc: 0.3501 - val_loss: 1.8998 - val_acc: 0.2667\n",
      "Epoch 34/50\n",
      "10813/10813 [==============================] - 1s 74us/step - loss: 1.6817 - acc: 0.3571 - val_loss: 1.9072 - val_acc: 0.2730\n",
      "Epoch 35/50\n",
      "10813/10813 [==============================] - 1s 67us/step - loss: 1.6785 - acc: 0.3531 - val_loss: 1.8703 - val_acc: 0.2764\n",
      "Epoch 36/50\n",
      "10813/10813 [==============================] - 1s 66us/step - loss: 1.6724 - acc: 0.3554 - val_loss: 1.8745 - val_acc: 0.2745\n",
      "Epoch 37/50\n",
      "10813/10813 [==============================] - 1s 66us/step - loss: 1.6688 - acc: 0.3533 - val_loss: 1.8949 - val_acc: 0.2782\n",
      "Epoch 38/50\n",
      "10813/10813 [==============================] - 1s 69us/step - loss: 1.6611 - acc: 0.3598 - val_loss: 1.8830 - val_acc: 0.2760\n",
      "Epoch 39/50\n",
      "10813/10813 [==============================] - 1s 76us/step - loss: 1.6542 - acc: 0.3568 - val_loss: 1.8868 - val_acc: 0.2878\n",
      "Epoch 40/50\n",
      "10813/10813 [==============================] - 1s 71us/step - loss: 1.6465 - acc: 0.3657 - val_loss: 1.8825 - val_acc: 0.2834\n",
      "Epoch 41/50\n",
      "10813/10813 [==============================] - 1s 64us/step - loss: 1.6425 - acc: 0.3658 - val_loss: 1.9276 - val_acc: 0.2808\n",
      "Epoch 42/50\n",
      "10813/10813 [==============================] - 1s 66us/step - loss: 1.6373 - acc: 0.3662 - val_loss: 1.8803 - val_acc: 0.2863\n",
      "Epoch 43/50\n",
      "10813/10813 [==============================] - 1s 63us/step - loss: 1.6283 - acc: 0.3678 - val_loss: 1.8512 - val_acc: 0.2871\n",
      "Epoch 44/50\n",
      "10813/10813 [==============================] - 1s 64us/step - loss: 1.6223 - acc: 0.3764 - val_loss: 1.8836 - val_acc: 0.2823\n",
      "Epoch 45/50\n",
      "10813/10813 [==============================] - 1s 64us/step - loss: 1.6189 - acc: 0.3740 - val_loss: 1.8747 - val_acc: 0.2819\n",
      "Epoch 46/50\n",
      "10813/10813 [==============================] - 1s 65us/step - loss: 1.6103 - acc: 0.3744 - val_loss: 1.8527 - val_acc: 0.2767\n",
      "Epoch 47/50\n",
      "10813/10813 [==============================] - 1s 60us/step - loss: 1.6074 - acc: 0.3824 - val_loss: 1.8636 - val_acc: 0.2756\n",
      "Epoch 48/50\n",
      "10813/10813 [==============================] - 1s 67us/step - loss: 1.5984 - acc: 0.3856 - val_loss: 1.8650 - val_acc: 0.2889\n",
      "Epoch 49/50\n",
      "10813/10813 [==============================] - 1s 68us/step - loss: 1.5966 - acc: 0.3820 - val_loss: 1.8607 - val_acc: 0.2863\n",
      "Epoch 50/50\n",
      "10813/10813 [==============================] - 1s 65us/step - loss: 1.5896 - acc: 0.3819 - val_loss: 1.8632 - val_acc: 0.2741\n"
     ]
    }
   ],
   "source": [
    "# opt=optimizers.Adam(lr=0.00012);\n",
    "opt=optimizers.Adam(lr=0.0005);\n",
    "model = keras.models.Sequential()\n",
    "model.add(keras.layers.Dense(units=128, activation='relu',input_dim=X_train.shape[1]))\n",
    "# model.add(keras.layers.Dropout(0.5))\n",
    "# model.add(keras.layers.Dense(units=128, activation='relu'))\n",
    "# model.add(keras.layers.Dropout(0.6))\n",
    "model.add(keras.layers.Dense(units=64, activation='relu'))\n",
    "# model.add(keras.layers.Dropout(0.6))\n",
    "model.add(keras.layers.Dense(units=50, activation='softmax'))\n",
    "model.summary()\n",
    "model.compile(loss='categorical_crossentropy',\n",
    "  optimizer=opt,\n",
    "  metrics=['accuracy'],)\n",
    "history=model.fit(X_train, Y_train,\n",
    "  batch_size=32,\n",
    "  epochs=50,\n",
    "  verbose=1,\n",
    "#   class_weight=class_weights,\n",
    "  validation_data=(X_test, Y_test),\n",
    "  shuffle=True)"
   ]
  },
  {
   "cell_type": "code",
   "execution_count": 11,
   "metadata": {},
   "outputs": [
    {
     "data": {
      "image/png": "[encoded data removed]",
      "text/plain": [
       "<matplotlib.figure.Figure at 0x7feeabaaf828>"
      ]
     },
     "metadata": {},
     "output_type": "display_data"
    },
    {
     "data": {
      "image/png": "[encoded data removed]",
      "text/plain": [
       "<matplotlib.figure.Figure at 0x7feea8322470>"
      ]
     },
     "metadata": {},
     "output_type": "display_data"
    }
   ],
   "source": [
    "plt.plot(history.history['acc'])\n",
    "plt.plot(history.history['val_acc'])\n",
    "plt.title('model accuracy')\n",
    "plt.ylabel('accuracy')\n",
    "plt.xlabel('epoch')\n",
    "plt.legend(['train', 'test'], loc='upper left')\n",
    "plt.show()\n",
    "plt.plot(history.history['loss'])\n",
    "plt.plot(history.history['val_loss'])\n",
    "plt.title('model loss')\n",
    "plt.ylabel('loss')\n",
    "plt.xlabel('epoch')\n",
    "plt.legend(['train', 'test'], loc='upper left')\n",
    "plt.show()"
   ]
  },
  {
   "cell_type": "code",
   "execution_count": 12,
   "metadata": {},
   "outputs": [
    {
     "name": "stdout",
     "output_type": "stream",
     "text": [
      "Model saved to path :: /home/sharan/Desktop/Option Pricing Work/Work/DL_NIFTY_0.02_Expt2.model\n"
     ]
    }
   ],
   "source": [
    "# Saving the model\n",
    "joblib.dump(model, save_model+'DL_NIFTY_0.02_Expt'+str(approach)+'.model')\n",
    "print(\"Model saved to path ::\", save_model+'DL_NIFTY_0.02_Expt'+str(approach)+'.model' )"
   ]
  },
  {
   "cell_type": "code",
   "execution_count": 13,
   "metadata": {},
   "outputs": [
    {
     "name": "stdout",
     "output_type": "stream",
     "text": [
      "Test accuracy: 27.41398446336306\n"
     ]
    }
   ],
   "source": [
    "score = model.evaluate(X_test, Y_test, verbose=0)\n",
    "print('Test accuracy:', score[1]*100)\n",
    "\n",
    "Y_pred=model.predict(X_test)\n",
    "Y_pred=np.argmax(Y_pred,axis=1)"
   ]
  },
  {
   "cell_type": "code",
   "execution_count": 14,
   "metadata": {},
   "outputs": [
    {
     "name": "stdout",
     "output_type": "stream",
     "text": [
      "13.155752867184612\n"
     ]
    }
   ],
   "source": [
    "OGY_test=onehot.inverse_transform(Y_test)\n",
    "# OGY_test=sum(OGY_test, [])\n",
    "OGY_test=OGY_test.ravel()\n",
    "# print(OGY_test)\n",
    "\n",
    "# # Check if Binwidth value exists\n",
    "maxVal=5\n",
    "minVal=0\n",
    "\n",
    "width = maxVal - minVal\n",
    "\n",
    "num_bins = 50\n",
    "\n",
    "\n",
    "bin_width = width/num_bins\n",
    "# print(bin_width)\n",
    "\n",
    "# Normalized Error Metric (NEM)\n",
    "\n",
    "dist_sum = 0\n",
    "for i in range(len(Y_pred)):\n",
    "    dist = abs(Y_pred[i] - OGY_test[i])\n",
    "    dist_sum = dist_sum + dist\n",
    "    \n",
    "print((dist_sum*bin_width)/len(Y_test)*100)"
   ]
  },
  {
   "cell_type": "code",
   "execution_count": 15,
   "metadata": {},
   "outputs": [
    {
     "name": "stdout",
     "output_type": "stream",
     "text": [
      "              precision    recall  f1-score   support\n",
      "\n",
      "           0       0.84      0.92      0.88       153\n",
      "           1       0.62      0.59      0.60        88\n",
      "           2       0.57      0.54      0.55        63\n",
      "           3       0.50      0.46      0.48        50\n",
      "           4       0.34      0.51      0.41        49\n",
      "           5       0.17      0.19      0.18        36\n",
      "           6       0.34      0.22      0.27        50\n",
      "           7       0.38      0.21      0.27        53\n",
      "           8       0.26      0.26      0.26        42\n",
      "           9       0.38      0.27      0.32        62\n",
      "          10       0.40      0.38      0.39        55\n",
      "          11       0.21      0.33      0.25        45\n",
      "          12       0.30      0.12      0.17        57\n",
      "          13       0.21      0.29      0.24        55\n",
      "          14       0.04      0.03      0.04        64\n",
      "          15       0.21      0.35      0.26        57\n",
      "          16       0.00      0.00      0.00        60\n",
      "          17       0.17      0.04      0.06        84\n",
      "          18       0.20      0.63      0.31        75\n",
      "          19       0.00      0.00      0.00        71\n",
      "          20       0.14      0.08      0.10        60\n",
      "          21       0.26      0.50      0.34        76\n",
      "          22       0.14      0.01      0.02        85\n",
      "          23       0.18      0.27      0.22        62\n",
      "          24       0.15      0.15      0.15        61\n",
      "          25       0.19      0.23      0.21        70\n",
      "          26       0.26      0.31      0.28        80\n",
      "          27       0.17      0.02      0.03        66\n",
      "          28       0.11      0.33      0.17        51\n",
      "          29       0.00      0.00      0.00        66\n",
      "          30       0.30      0.04      0.08        68\n",
      "          31       0.19      0.32      0.24        66\n",
      "          32       0.20      0.30      0.24        57\n",
      "          33       0.17      0.02      0.04        50\n",
      "          34       0.12      0.20      0.15        46\n",
      "          35       0.15      0.09      0.11        47\n",
      "          36       0.17      0.27      0.21        56\n",
      "          37       0.18      0.15      0.16        47\n",
      "          38       0.15      0.12      0.13        50\n",
      "          39       0.16      0.14      0.15        36\n",
      "          40       0.19      0.52      0.28        42\n",
      "          41       0.19      0.08      0.11        37\n",
      "          42       0.30      0.07      0.11        46\n",
      "          43       0.26      0.24      0.25        34\n",
      "          44       0.20      0.55      0.29        20\n",
      "          45       0.00      0.00      0.00        13\n",
      "          46       0.00      0.00      0.00         9\n",
      "          47       0.00      0.00      0.00         5\n",
      "          48       0.00      0.00      0.00        11\n",
      "          49       0.54      0.82      0.65        17\n",
      "\n",
      "    accuracy                           0.27      2703\n",
      "   macro avg       0.22      0.24      0.21      2703\n",
      "weighted avg       0.26      0.27      0.25      2703\n",
      "\n"
     ]
    },
    {
     "name": "stderr",
     "output_type": "stream",
     "text": [
      "/home/sharan/anaconda3/lib/python3.6/site-packages/sklearn/metrics/_classification.py:1268: UndefinedMetricWarning: Precision and F-score are ill-defined and being set to 0.0 in labels with no predicted samples. Use `zero_division` parameter to control this behavior.\n",
      "  _warn_prf(average, modifier, msg_start, len(result))\n"
     ]
    }
   ],
   "source": [
    "from sklearn.metrics import confusion_matrix,classification_report\n",
    "print(classification_report(OGY_test, Y_pred))"
   ]
  },
  {
   "cell_type": "markdown",
   "metadata": {},
   "source": [
    "DL_NEM = []\n",
    "DL_D_NEM = []\n",
    "\n",
    "path=\"/home/sharan/Desktop/Option Pricing Work/Work/Serial GBM Runs/\"\n",
    "\n",
    "sigma = np.linspace(0.01, 0.2, 20)\n",
    "\n",
    "for si in sigma:\n",
    "    si=round(si,2)\n",
    "    feats = pd.read_csv(path+\"GBM_feature_set_final_ecdf_\"+str(si)+\".csv\")\n",
    "    X=feats.iloc[:,:-1]\n",
    "    X['atmError']=X['atmError']*100\n",
    "    Y=feats.loc[:,'Target']\n",
    "    dr = ['percentage']\n",
    "    X = X.drop(dr, axis = 1)\n",
    "    featNames=list(X)\n",
    "    X = scaler.transform(X)\n",
    "    X = pd.DataFrame(X, columns=featNames)\n",
    "    \n",
    "    Y = Y.values\n",
    "    \n",
    "    Y_pred = model.predict(X)\n",
    "    Y_pred = np.argmax(Y_pred,axis=1)\n",
    "    \n",
    "    dist_sum = 0\n",
    "    d_dist_sum = 0\n",
    "    for i in range(len(Y_pred)):\n",
    "        dist = abs(Y_pred[i] - Y[i]) # NEM\n",
    "        d_dist = (Y_pred[i] - Y[i]) # Directional NEM (NEM without the mod)\n",
    "        \n",
    "        dist_sum = dist_sum + dist # NEM\n",
    "        d_dist_sum = d_dist_sum + d_dist\n",
    "    \n",
    "    nem = (dist_sum*bin_width)/len(Y)*100\n",
    "    d_nem = (d_dist_sum*bin_width)/len(Y)*100\n",
    "    \n",
    "    DL_NEM.append(nem)\n",
    "    DL_D_NEM.append(d_nem)\n",
    "    \n",
    "dresults=pd.DataFrame({'sigma' : sigma, \n",
    "              'nem': DL_NEM, \n",
    "              'd_nem' : DL_D_NEM})\n",
    "dresults.to_csv(path+\"DresultsGBM.csv\" ,index=False)    "
   ]
  },
  {
   "cell_type": "markdown",
   "metadata": {},
   "source": [
    "DL_NEM = []\n",
    "DL_D_NEM = []\n",
    "path=\"/home/sharan/Desktop/Option Pricing Work/Work/Binomial/\"\n",
    "\n",
    "U=[]\n",
    "D=[]\n",
    "for i in range(1,10):\n",
    "    u=1+(i*pow(10,-3))\n",
    "    d=1/u\n",
    "    U.append(u)\n",
    "    D.append(d)\n",
    "\n",
    "for u in U:\n",
    "    u=round(u,5)\n",
    "    feats = pd.read_csv(path+\"BM_feature_set_final_ecdf_\"+str(u)+\".csv\")\n",
    "    X=feats.iloc[:,:-1]\n",
    "    X['atmError']=X['atmError']*100\n",
    "    Y=feats.loc[:,'Target']\n",
    "    dr = ['percentage']\n",
    "    X = X.drop(dr, axis = 1)\n",
    "    featNames=list(X)    \n",
    "    X = scaler.transform(X)\n",
    "    X = pd.DataFrame(X, columns=featNames)\n",
    "    \n",
    "    Y = Y.values\n",
    "    \n",
    "    Y_pred = model.predict(X)\n",
    "    Y_pred = np.argmax(Y_pred,axis=1)\n",
    "    \n",
    "    dist_sum = 0\n",
    "    d_dist_sum = 0\n",
    "    for i in range(len(Y_pred)):\n",
    "        dist = abs(Y_pred[i] - Y[i]) # NEM\n",
    "        d_dist = (Y_pred[i] - Y[i]) # Directional NEM (NEM without the mod)\n",
    "        \n",
    "        dist_sum = dist_sum + dist # NEM\n",
    "        d_dist_sum = d_dist_sum + d_dist\n",
    "    \n",
    "    nem = (dist_sum*bin_width)/len(Y)*100\n",
    "    d_nem = (d_dist_sum*bin_width)/len(Y)*100\n",
    "    \n",
    "    DL_NEM.append(nem)\n",
    "    DL_D_NEM.append(d_nem)\n",
    "    \n",
    "dresults=pd.DataFrame({'U' : U, \n",
    "              'nem': DL_NEM, \n",
    "              'd_nem' : DL_D_NEM})\n",
    "dresults.to_csv(path+\"DresultsBM.csv\" ,index=False)    "
   ]
  },
  {
   "cell_type": "markdown",
   "metadata": {},
   "source": [
    "def worker(date,UnderlyingPrice, StrikePrice, InterestRate, Daystoexpiration,l_callPrice,h_callPrice,a_callPrice):\n",
    "#     implied_volatility(price, S, K, t, r, flag)\n",
    "#     l_iv=vb.implied_volatility(l_callPrice, UnderlyingPrice, StrikePrice, Daystoexpiration/365, InterestRate/100, 'c')\n",
    "#     h_iv=vb.implied_volatility(h_callPrice, UnderlyingPrice, StrikePrice, Daystoexpiration/365, InterestRate/100, 'c')\n",
    "    a_iv=vb.implied_volatility(a_callPrice, UnderlyingPrice, StrikePrice, Daystoexpiration/365, InterestRate/100, 'c')\n",
    "    return [date,a_iv]"
   ]
  },
  {
   "cell_type": "markdown",
   "metadata": {},
   "source": [
    "test_latest_ecdf=\"/home/sharan/Desktop/Option Pricing Work/Work/nifty_19-20_feature_set_ecdf_new_FINAL.csv\"\n",
    "latest_ecdf_feats = pd.read_csv(test_latest_ecdf)\n",
    "\n",
    "dropNames = ['date', 'percentage','strike','spot','opPrice']\n",
    "\n",
    "X_latest=latest_ecdf_feats.iloc[:,:-1]\n",
    "Y_latest=latest_ecdf_feats.loc[:,'Target']\n",
    "X_latest = X_latest.drop(dropNames, axis = 1)\n",
    "\n",
    "featNames = list(X_latest)  \n",
    "X_latest = scaler.transform(X_latest)\n",
    "X_latest = pd.DataFrame(X_latest, columns = featNames)\n",
    "Y_latest = Y_latest.values\n",
    "Y_latest = Y_latest.reshape(len(Y_latest), 1)\n",
    "Y_latest = onehot.transform(Y_latest)\n",
    "score = model.evaluate(X_latest, Y_latest, verbose=0)\n",
    "\n",
    "Y_latest_pred=model.predict(X_latest)\n",
    "Y_latest_pred=np.argmax(Y_latest_pred,axis=1)\n",
    "\n",
    "OGY_latest=onehot.inverse_transform(Y_latest)\n",
    "\n",
    "OGY_latest=OGY_latest.ravel()\n",
    "# print(OGY_latest_test)\n",
    "\n",
    "# # Check if Binwidth value exists\n",
    "maxVal=5\n",
    "minVal=0\n",
    "\n",
    "width = maxVal - minVal\n",
    "\n",
    "num_bins = 50\n",
    "\n",
    "\n",
    "bin_width = width/num_bins\n",
    "# print(bin_width)\n",
    "\n",
    "\n",
    "dist_sum = 0\n",
    "step = 0.1\n",
    "\n",
    "date=[]\n",
    "lower_iv=[]\n",
    "higher_iv=[]\n",
    "actual_iv=[]\n",
    "\n",
    "params=[]\n",
    "\n",
    "total_res=[]\n",
    "\n",
    "for i in range(len(Y_latest_pred)):    \n",
    "    \n",
    "    lower_bound_opPrice = ((Y_latest_pred[i]*step) * latest_ecdf_feats.loc[i,'strike'])/100\n",
    "    \n",
    "    higher_bound_opPrice = (( (Y_latest_pred[i]+1) * step) * latest_ecdf_feats.loc[i,'strike'])/100\n",
    "    \n",
    "    actual_opPrice = latest_ecdf_feats.loc[i,'opPrice']\n",
    "    \n",
    "    print(\"\\nDate={}\".format(latest_ecdf_feats.loc[i,'date']))\n",
    "    print(\"Lower={}\".format(lower_bound_opPrice))\n",
    "    print(\"Higher={}\".format(higher_bound_opPrice))\n",
    "    print(\"Actual={}\".format(actual_opPrice))    \n",
    "    print(\"S={}\".format(latest_ecdf_feats.loc[i,'spot']))\n",
    "    print(\"K={}\".format(latest_ecdf_feats.loc[i,'strike']))\n",
    "    print(\"TTM={}\".format(latest_ecdf_feats.loc[i,'ttm']))\n",
    "    print(\"R={}\".format(latest_ecdf_feats.loc[i,'yield03']))    \n",
    "    \n",
    "#     params.append((latest_ecdf_feats.loc[i,'date'],latest_ecdf_feats.loc[i,'spot'], \n",
    "#                    latest_ecdf_feats.loc[i,'strike'],\n",
    "#                    latest_ecdf_feats.loc[i,'yield03'], latest_ecdf_feats.loc[i,'ttm'],\n",
    "#                   lower_bound_opPrice,higher_bound_opPrice,actual_opPrice))\n",
    "\n",
    "    res_list=worker(latest_ecdf_feats.loc[i,'date'],latest_ecdf_feats.loc[i,'spot'], \n",
    "                   latest_ecdf_feats.loc[i,'strike'],\n",
    "                   latest_ecdf_feats.loc[i,'yield03'], latest_ecdf_feats.loc[i,'ttm'],\n",
    "                  lower_bound_opPrice,higher_bound_opPrice,actual_opPrice)\n",
    "    \n",
    "    total_res.append(res_list)\n",
    "#     break\n",
    "\n",
    "# IV=[]\n",
    "# pool = Pool()\n",
    "# for res in pool.starmap(worker,params):    \n",
    "#     IV.append(res)\n",
    "    \n",
    "# pool.close()\n",
    "\n",
    "\n",
    "    \n",
    "#     date.append(latest_ecdf_feats.loc[i,'date'])\n",
    "    \n",
    "#     lower_bound_opPrice = ((Y_latest_pred[i]*step) * latest_ecdf_feats.loc[i,'strike'])/100\n",
    "#     print(\"\\nLower={}\".format(lower_bound_opPrice))\n",
    "# #     print(\"OpPrice={}\".format(lower_bound_opPrice))\n",
    "# #     print(\"S={}\".format(latest_ecdf_feats.loc[i,'spot']))\n",
    "# #     print(\"K={}\".format(latest_ecdf_feats.loc[i,'strike']))\n",
    "# #     print(\"TTM={}\".format(latest_ecdf_feats.loc[i,'ttm']/365))\n",
    "# #     print(\"R={}\".format(latest_ecdf_feats.loc[i,'yield03']))\n",
    "#     #BS([UnderlyingPrice, StrikePrice, InterestRate, Daystoexpiration],callPrice=x)\n",
    "#     l_iv = mibian.BS([latest_ecdf_feats.loc[i,'spot'], latest_ecdf_feats.loc[i,'strike'],\n",
    "#                    latest_ecdf_feats.loc[i,'yield03'], latest_ecdf_feats.loc[i,'ttm']],\n",
    "#                                callPrice=lower_bound_opPrice)\n",
    "\n",
    "#     lower_iv.append(l_iv.impliedVolatility)\n",
    "#     print(lower_iv)\n",
    "    \n",
    "#     higher_bound_opPrice = (( (Y_latest_pred[i]+1) * step) * latest_ecdf_feats.loc[i,'strike'])/100\n",
    "#     print(\"Higher={}\".format(higher_bound_opPrice))\n",
    "    \n",
    "#     h_iv = mibian.BS([latest_ecdf_feats.loc[i,'spot'], latest_ecdf_feats.loc[i,'strike'],\n",
    "#                    latest_ecdf_feats.loc[i,'yield03'], latest_ecdf_feats.loc[i,'ttm']],\n",
    "#                                callPrice=higher_bound_opPrice)\n",
    "    \n",
    "#     higher_iv.append(h_iv.impliedVolatility)\n",
    "#     print(higher_iv)\n",
    "\n",
    "#     actual_opPrice = latest_ecdf_feats.loc[i,'opPrice']\n",
    "#     print(\"Actual={}\".format(actual_opPrice))\n",
    "    \n",
    "#     a_iv = mibian.BS([latest_ecdf_feats.loc[i,'spot'], latest_ecdf_feats.loc[i,'strike'],\n",
    "#                    latest_ecdf_feats.loc[i,'yield03'], latest_ecdf_feats.loc[i,'ttm']],\n",
    "#                                callPrice=actual_opPrice)\n",
    "    \n",
    "#     actual_iv.append(a_iv.impliedVolatility)    \n",
    "#     print(actual_iv)\n",
    "#     break"
   ]
  },
  {
   "cell_type": "markdown",
   "metadata": {},
   "source": [
    "vola_names=['Date','LowerBoundIV','HigherBoundIV','ActualIV']\n",
    "vola_dataSet=pd.DataFrame.from_records(IV, columns=vola_names)\n",
    "vola_dataSet"
   ]
  },
  {
   "cell_type": "markdown",
   "metadata": {},
   "source": [
    "Lower=317.8\n",
    "Higher=329.1500000000001\n",
    "Actual=324.8\n",
    "S=11713.2\n",
    "K=11350.0\n",
    "TTM=2.0\n",
    "R=6.18"
   ]
  }
 ],
 "metadata": {
  "kernelspec": {
   "display_name": "Python 3",
   "language": "python",
   "name": "python3"
  },
  "language_info": {
   "codemirror_mode": {
    "name": "ipython",
    "version": 3
   },
   "file_extension": ".py",
   "mimetype": "text/x-python",
   "name": "python",
   "nbconvert_exporter": "python",
   "pygments_lexer": "ipython3",
   "version": "3.6.6"
  }
 },
 "nbformat": 4,
 "nbformat_minor": 2
}
