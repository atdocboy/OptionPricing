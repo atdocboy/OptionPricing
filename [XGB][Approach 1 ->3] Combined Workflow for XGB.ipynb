{
 "cells": [
  {
   "cell_type": "code",
   "execution_count": 1,
   "metadata": {},
   "outputs": [],
   "source": [
    "# import all libraries\n",
    "import pandas as pd\n",
    "import joblib\n",
    "import pickle\n",
    "from sklearn.model_selection import train_test_split\n",
    "from xgboost import XGBClassifier, XGBRegressor\n",
    "from sklearn.metrics import accuracy_score, classification_report\n",
    "from sklearn.preprocessing import StandardScaler,MinMaxScaler, RobustScaler\n",
    "import matplotlib as plt\n",
    "from xgboost import plot_importance\n",
    "import matplotlib.pyplot as plt\n",
    "import statistics as stats\n",
    "import numpy as np"
   ]
  },
  {
   "cell_type": "code",
   "execution_count": 2,
   "metadata": {},
   "outputs": [],
   "source": [
    "# Path settings\n",
    "\n",
    "\n",
    "path_var = 1 \n",
    "\n",
    "if (path_var == 1):\n",
    "    filepath = '/home/docboy/Desktop/Option_Pricing/datasets/'\n",
    "    modelpath = '/home/docboy/Desktop/Option_Pricing/pickles/'\n",
    "\n",
    "\n",
    "else:\n",
    "    filepath = '/home/sharan/Desktop/Option_Pricing/datasets/'\n",
    "    mdoelpath = '/home/sharan/Desktop/Option_Pricing/pickles/'\n",
    "\n",
    "\n",
    "\n",
    "nfty = filepath + 'NIFTY50_feature_set_COV_complete.csv'\n",
    "nfty_ecdf = filepath + 'NIFTY50_feature_set_ECDF_complete.csv'\n",
    "    \n",
    "bnfty = filepath + 'BANKNIFTY_feature_set_COV_complete.csv'\n",
    "bnfty_ecdf = filepath + 'BANKNIFTY_feature_set_ECDF_complete.csv'\n"
   ]
  },
  {
   "cell_type": "code",
   "execution_count": 3,
   "metadata": {
    "scrolled": true
   },
   "outputs": [
    {
     "name": "stdout",
     "output_type": "stream",
     "text": [
      "Approach var set to :: 3\n"
     ]
    }
   ],
   "source": [
    "# Set the automated variables + Plus drop all useless columns approach specific\n",
    "\n",
    "\n",
    "###########################\n",
    "###############################################\n",
    "\n",
    "approach = 3                      #------------------>>> # Change value as needed\n",
    "\n",
    "###############################################\n",
    "###########################\n",
    "\n",
    "\n",
    "if (approach == 1):\n",
    "    feats = pd.read_csv(nfty_ecdf)\n",
    "    print ('Approach var set to ECDF')\n",
    "    \n",
    "    dropNames = ['date', 'percentage','strike','spot','opPrice']\n",
    "    \n",
    "    b_feats = pd.read_csv(bnfty_ecdf)\n",
    "    \n",
    "else:\n",
    "    feats = pd.read_csv(nfty)\n",
    "    print ('Approach var set to :: '+ str(approach))\n",
    "    \n",
    "    b_feats = pd.read_csv(bnfty)\n",
    "    \n",
    "    if (approach == 2):\n",
    "        dropNames= ['date', 'percentage','strike','spot','opPrice','change_oi','ts_atr','prevOp','avg_atmError']\n",
    "        \n",
    "    else:\n",
    "        dropNames= ['date', 'percentage','strike','spot','opPrice','ts_atr','change_oi']\n",
    "        \n",
    "###################\n",
    "\n",
    "X=feats.iloc[:,:-1]\n",
    "Y=feats.loc[:,'Target']\n",
    "X = X.drop(dropNames, axis = 1)    \n",
    "\n",
    "\n",
    "\n",
    "b_X = b_feats.iloc[:,:-1]\n",
    "b_Y = b_feats.loc[:,'Target']\n",
    "b_X = b_X.drop(dropNames, axis = 1)    \n",
    "\n",
    "\n"
   ]
  },
  {
   "cell_type": "code",
   "execution_count": 4,
   "metadata": {},
   "outputs": [
    {
     "data": {
      "text/plain": [
       "Index(['close_mean', 'close_sd', 'open_mean', 'open_sd', 'high_mean',\n",
       "       'high_sd', 'low_mean', 'low_sd', 'close_lr_open_lr_cov',\n",
       "       'close_lr_high_lr_cov', 'close_lr_low_lr_cov', 'open_lr_high_lr_cov',\n",
       "       'open_lr_low_lr_cov', 'high_lr_low_lr_cov', 'avg_atmError', 'prevOp',\n",
       "       'ttm', 'atmError', 'yield03'],\n",
       "      dtype='object')"
      ]
     },
     "execution_count": 4,
     "metadata": {},
     "output_type": "execute_result"
    }
   ],
   "source": [
    "X.columns"
   ]
  },
  {
   "cell_type": "code",
   "execution_count": 5,
   "metadata": {},
   "outputs": [],
   "source": [
    "# Start the scaling process\n",
    "\n",
    "featNames = list(X)  \n",
    "scaler = RobustScaler()\n",
    "X = scaler.fit_transform(X)\n",
    "X = pd.DataFrame(X, columns = featNames)\n"
   ]
  },
  {
   "cell_type": "code",
   "execution_count": 6,
   "metadata": {},
   "outputs": [
    {
     "name": "stdout",
     "output_type": "stream",
     "text": [
      "Scaler saved to path :: /home/docboy/Desktop/Option_Pricing/pickles/SCALER_NIFTY50_Expt3.model\n"
     ]
    }
   ],
   "source": [
    "# # Save the scalar file\n",
    "\n",
    "joblib.dump(scaler, modelpath + 'SCALER_NIFTY50_Expt' + str(approach) + '.model')\n",
    "print(\"Scaler saved to path ::\", modelpath + 'SCALER_NIFTY50_Expt' + str(approach) + '.model')"
   ]
  },
  {
   "cell_type": "code",
   "execution_count": 7,
   "metadata": {},
   "outputs": [
    {
     "name": "stdout",
     "output_type": "stream",
     "text": [
      "X & Y_Dim of Train is (10813, 19) (10813,)\n",
      "X & Y_Dim of Test is (2703, 19) (2703,)\n"
     ]
    }
   ],
   "source": [
    "# Split the train and test sets without random optimizations\n",
    "\n",
    "\n",
    "a = len(feats)\n",
    "split_val = round(a*0.8)\n",
    "\n",
    "# Removing the Random splits\n",
    "\n",
    "X_train = X.iloc[0:split_val, :]\n",
    "X_test = X.iloc[split_val:, :]\n",
    "Y_train = Y.iloc[:split_val]\n",
    "Y_test = Y.iloc[split_val:]\n",
    "print ('X & Y_Dim of Train is', X_train.shape, Y_train.shape)\n",
    "print ('X & Y_Dim of Test is', X_test.shape, Y_test.shape)\n",
    "\n",
    "Y_test=Y_test.values\n",
    "Y_train=Y_train.values\n",
    "\n"
   ]
  },
  {
   "cell_type": "code",
   "execution_count": 8,
   "metadata": {},
   "outputs": [
    {
     "name": "stdout",
     "output_type": "stream",
     "text": [
      "CPU times: user 3min 4s, sys: 632 ms, total: 3min 4s\n",
      "Wall time: 50.3 s\n",
      "XGBClassifier(base_score=0.5, booster='gbtree', colsample_bylevel=1,\n",
      "              colsample_bynode=1, colsample_bytree=1, gamma=0,\n",
      "              learning_rate=0.4, max_delta_step=0, max_depth=4,\n",
      "              min_child_weight=1, missing=None, n_estimators=200, n_jobs=4,\n",
      "              nthread=None, objective='multi:softprob', random_state=0,\n",
      "              reg_alpha=0, reg_lambda=1, scale_pos_weight=1, seed=None,\n",
      "              silent=None, subsample=1, verbosity=1)\n"
     ]
    }
   ],
   "source": [
    "# param = \n",
    "model = XGBClassifier(n_estimators = 200, max_depth = 4, learning_rate = 0.4, n_jobs=4)\n",
    "%time model.fit(X_train, Y_train)\n",
    "print(model)\n",
    "\n"
   ]
  },
  {
   "cell_type": "code",
   "execution_count": 9,
   "metadata": {},
   "outputs": [],
   "source": [
    "k = model.predict(X_test)"
   ]
  },
  {
   "cell_type": "code",
   "execution_count": 10,
   "metadata": {},
   "outputs": [
    {
     "name": "stdout",
     "output_type": "stream",
     "text": [
      "NEM ::  0.15331113577506475\n"
     ]
    }
   ],
   "source": [
    "# Normalized Error Metric (NEM)\n",
    "\n",
    "bin_width = 0.1    # Note the uniform binning!!!!!!!!\n",
    "dist_sum = 0\n",
    "for i in range(len(k)):\n",
    "    dist = abs(k[i] - Y_test[i])\n",
    "    dist_sum = dist_sum + dist\n",
    "    \n",
    "print(\"NEM :: \", (dist_sum*bin_width)/len(Y_test))"
   ]
  },
  {
   "cell_type": "code",
   "execution_count": 11,
   "metadata": {},
   "outputs": [
    {
     "data": {
      "text/plain": [
       "27.67295597484277"
      ]
     },
     "execution_count": 11,
     "metadata": {},
     "output_type": "execute_result"
    }
   ],
   "source": [
    "accuracy_score(Y_test, k)*100\n",
    "# print(classification_report(Y_test, k))"
   ]
  },
  {
   "cell_type": "code",
   "execution_count": 12,
   "metadata": {},
   "outputs": [
    {
     "name": "stdout",
     "output_type": "stream",
     "text": [
      "Model saved to path :: /home/docboy/Desktop/Option_Pricing/pickles/NIFTY50_Expt_NEW3.model\n"
     ]
    }
   ],
   "source": [
    "# Saving the model\n",
    "joblib.dump(model, modelpath + 'NIFTY50_Expt' + str(approach) + '.model')\n",
    "print(\"Model saved to path ::\", modelpath + 'NIFTY50_Expt_NEW' + str(approach) + '.model' )"
   ]
  },
  {
   "cell_type": "code",
   "execution_count": 13,
   "metadata": {},
   "outputs": [
    {
     "data": {
      "image/png": "[encoded data removed]",
      "text/plain": [
       "<Figure size 1440x1800 with 1 Axes>"
      ]
     },
     "metadata": {
      "needs_background": "light"
     },
     "output_type": "display_data"
    }
   ],
   "source": [
    "plt.rcParams['figure.figsize'] = [20, 25]\n",
    "plot_importance(model)\n",
    "plt.show()"
   ]
  },
  {
   "cell_type": "markdown",
   "metadata": {},
   "source": [
    "# Port Part"
   ]
  },
  {
   "cell_type": "code",
   "execution_count": 14,
   "metadata": {},
   "outputs": [
    {
     "name": "stdout",
     "output_type": "stream",
     "text": [
      "b_X & b_Y_Dim of Test is (20414, 19) (20414,)\n"
     ]
    }
   ],
   "source": [
    "### Begin Port Part\n",
    "\n",
    "# Scale the dataset according to saved scaler\n",
    "\n",
    "featNames = list(b_X)\n",
    "b_X = scaler.transform(b_X)\n",
    "b_X = pd.DataFrame(b_X, columns = featNames)\n",
    "\n",
    "\n",
    "# Split the dataset\n",
    "\n",
    "\n",
    "b_X_test = b_X.iloc[:, :]\n",
    "b_Y_test = b_Y.iloc[:]\n",
    "print ('b_X & b_Y_Dim of Test is', b_X_test.shape, b_Y_test.shape)\n",
    "\n",
    "b_Y_test = b_Y_test.values"
   ]
  },
  {
   "cell_type": "code",
   "execution_count": 15,
   "metadata": {},
   "outputs": [],
   "source": [
    "pred = model.predict(b_X_test)"
   ]
  },
  {
   "cell_type": "code",
   "execution_count": 16,
   "metadata": {},
   "outputs": [
    {
     "name": "stdout",
     "output_type": "stream",
     "text": [
      "NEM :: 0.23210541785049474\n"
     ]
    }
   ],
   "source": [
    "dist_sum = 0\n",
    "for i in range(len(pred)):\n",
    "    dist = abs(pred[i] - b_Y_test[i])\n",
    "    dist_sum = dist_sum + dist\n",
    "    \n",
    "print(\"NEM ::\", (dist_sum*bin_width)/len(b_Y_test))"
   ]
  },
  {
   "cell_type": "markdown",
   "metadata": {},
   "source": [
    "path=\"/home/sharan/Desktop/Option Pricing Work/Work/Serial GBM Runs/\"\n",
    "X_NEM = []\n",
    "X_D_NEM = []\n",
    "sigma = np.linspace(0.01, 0.2, 20)\n",
    "\n",
    "\n",
    "for si in sigma:\n",
    "    si=round(si,2)\n",
    "    feats = pd.read_csv(path+\"GBM_feature_set_final_ecdf_\"+str(si)+\".csv\")\n",
    "    X=feats.iloc[:,:-1]\n",
    "    X['atmError']=X['atmError']*100\n",
    "    Y=feats.loc[:,'Target']\n",
    "    dr = ['percentage']\n",
    "    X = X.drop(dr, axis = 1)\n",
    "    featNames=list(X)    \n",
    "    X = scaler.transform(X)\n",
    "    X = pd.DataFrame(X, columns=featNames)\n",
    "    \n",
    "    Y = Y.values\n",
    "    \n",
    "    Y_pred = model.predict(X)\n",
    "    \n",
    "    dist_sum = 0\n",
    "    d_dist_sum = 0\n",
    "    for i in range(len(Y_pred)):\n",
    "        dist = abs(Y_pred[i] - Y[i]) # NEM\n",
    "        d_dist = (Y_pred[i] - Y[i]) # Directional NEM (NEM without the mod)\n",
    "        \n",
    "        dist_sum = dist_sum + dist # NEM\n",
    "        d_dist_sum = d_dist_sum + d_dist\n",
    "    \n",
    "    nem = (dist_sum*bin_width)/len(Y)*100\n",
    "    d_nem = (d_dist_sum*bin_width)/len(Y)*100\n",
    "    \n",
    "    X_NEM.append(nem)\n",
    "    X_D_NEM.append(d_nem)\n",
    "\n",
    "xresults=pd.DataFrame({'sigma' : sigma, \n",
    "              'nem': X_NEM, \n",
    "              'd_nem' : X_D_NEM})\n",
    "xresults.to_csv(path+\"XresultsGBM.csv\" ,index=False)"
   ]
  },
  {
   "cell_type": "markdown",
   "metadata": {},
   "source": [
    "path=\"/home/sharan/Desktop/Option Pricing Work/Work/Serial GBM Runs/\"\n",
    "X_NEM = []\n",
    "X_D_NEM = []\n",
    "sigma = np.linspace(0.01, 0.2, 20)\n",
    "\n",
    "\n",
    "for si in sigma:\n",
    "    si=round(si,2)\n",
    "    feats = pd.read_csv(path+\"GBM_feature_set_final_ecdf_\"+str(si)+\".csv\")\n",
    "    X=feats.iloc[:,:-1]\n",
    "    X['atmError']=X['atmError']*100\n",
    "    Y=feats.loc[:,'Target']\n",
    "    dr = ['percentage']\n",
    "    X = X.drop(dr, axis = 1)\n",
    "    featNames=list(X)    \n",
    "    X = scaler.transform(X)\n",
    "    X = pd.DataFrame(X, columns=featNames)\n",
    "    \n",
    "    Y = Y.values\n",
    "    \n",
    "    Y_pred = model.predict(X)\n",
    "    \n",
    "    dist_sum = 0\n",
    "    d_dist_sum = 0\n",
    "    for i in range(len(Y_pred)):\n",
    "        dist = abs(Y_pred[i] - Y[i]) # NEM\n",
    "        d_dist = (Y_pred[i] - Y[i]) # Directional NEM (NEM without the mod)\n",
    "        \n",
    "        dist_sum = dist_sum + dist # NEM\n",
    "        d_dist_sum = d_dist_sum + d_dist\n",
    "    \n",
    "    nem = (dist_sum*bin_width)/len(Y)*100\n",
    "    d_nem = (d_dist_sum*bin_width)/len(Y)*100\n",
    "    \n",
    "    X_NEM.append(nem)\n",
    "    X_D_NEM.append(d_nem)\n",
    "\n",
    "xresults=pd.DataFrame({'sigma' : sigma, \n",
    "              'nem': X_NEM, \n",
    "              'd_nem' : X_D_NEM})\n",
    "xresults.to_csv(path+\"XresultsGBM.csv\" ,index=False)"
   ]
  },
  {
   "cell_type": "markdown",
   "metadata": {},
   "source": [
    "path=\"/home/sharan/Desktop/Option Pricing Work/Work/Binomial/\"\n",
    "\n",
    "U=[]\n",
    "D=[]\n",
    "for i in range(1,10):\n",
    "    u=1+(i*pow(10,-3))\n",
    "    d=1/u\n",
    "    U.append(u)\n",
    "    D.append(d)\n",
    "\n",
    "X_NEM = []\n",
    "X_D_NEM = []\n",
    "\n",
    "for u in U:\n",
    "    u=round(u,5)\n",
    "    feats = pd.read_csv(path+\"BM_feature_set_final_ecdf_\"+str(u)+\".csv\")\n",
    "    X=feats.iloc[:,:-1]\n",
    "    X['atmError']=X['atmError']*100\n",
    "    Y=feats.loc[:,'Target']\n",
    "    dr = ['percentage']\n",
    "    X = X.drop(dr, axis = 1)\n",
    "    featNames=list(X)    \n",
    "    X = scaler.transform(X)\n",
    "    X = pd.DataFrame(X, columns=featNames)\n",
    "   \n",
    "    Y=Y.values\n",
    "    \n",
    "    k = model.predict(X)\n",
    "    dist_sum = 0\n",
    "    d_dist_sum = 0\n",
    "    for i in range(len(k)):\n",
    "        dist = abs(k[i] - Y[i]) # NEM\n",
    "        d_dist = (k[i] - Y[i]) # Directional NEM (NEM without the mod)\n",
    "        \n",
    "        dist_sum = dist_sum + dist # NEM\n",
    "        d_dist_sum = d_dist_sum + d_dist\n",
    "    \n",
    "    nem = (dist_sum*bin_width)/len(Y)*100\n",
    "    d_nem = (d_dist_sum*bin_width)/len(Y)*100\n",
    "    \n",
    "    X_NEM.append(nem)\n",
    "    X_D_NEM.append(d_nem)\n",
    "\n",
    "xresults=pd.DataFrame({'U' : U, \n",
    "              'nem': X_NEM, \n",
    "              'd_nem' : X_D_NEM})\n",
    "xresults.to_csv(path+\"XresultsBM.csv\" ,index=False)"
   ]
  }
 ],
 "metadata": {
  "kernelspec": {
   "display_name": "Python 3",
   "language": "python",
   "name": "python3"
  },
  "language_info": {
   "codemirror_mode": {
    "name": "ipython",
    "version": 3
   },
   "file_extension": ".py",
   "mimetype": "text/x-python",
   "name": "python",
   "nbconvert_exporter": "python",
   "pygments_lexer": "ipython3",
   "version": "3.7.3"
  }
 },
 "nbformat": 4,
 "nbformat_minor": 2
}
