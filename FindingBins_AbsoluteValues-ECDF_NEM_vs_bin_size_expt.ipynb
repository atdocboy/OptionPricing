{
 "cells": [
  {
   "cell_type": "code",
   "execution_count": 1,
   "metadata": {},
   "outputs": [],
   "source": [
    "import pandas as pd\n",
    "import numpy as np\n",
    "from sklearn.utils import class_weight\n",
    "from sklearn.preprocessing import StandardScaler,MinMaxScaler, RobustScaler\n",
    "import joblib\n",
    "import pickle\n",
    "from sklearn.model_selection import train_test_split\n",
    "from xgboost import XGBClassifier, XGBRegressor\n",
    "from sklearn.metrics import accuracy_score, classification_report\n",
    "import matplotlib as plt\n",
    "from xgboost import plot_importance\n",
    "import matplotlib.pyplot as plt\n",
    "import statistics as stats\n"
   ]
  },
  {
   "cell_type": "code",
   "execution_count": 2,
   "metadata": {},
   "outputs": [],
   "source": [
    "# Path settings\n",
    "\n",
    "path_var = 1 \n",
    "\n",
    "if (path_var == 1):\n",
    "    filepath = '/home/docboy/Desktop/Option_Pricing/datasets/'\n",
    "\n",
    "else:\n",
    "    filepath = '/home/sharan/Desktop/Option_Pricing/datasets/'"
   ]
  },
  {
   "cell_type": "code",
   "execution_count": 3,
   "metadata": {},
   "outputs": [],
   "source": [
    "# data = pd.read_csv(filepath + 'BANKNIFTY_feature_set_ECDF_STEP_2.csv')\n",
    "\n",
    "data = pd.read_csv(filepath + 'NIFTY50_feature_set_ECDF_STEP_2.csv')"
   ]
  },
  {
   "cell_type": "code",
   "execution_count": 4,
   "metadata": {},
   "outputs": [],
   "source": [
    "data=data.loc[data['ttm']>3,:]\n",
    "data=data.loc[data['ttm']<=45,:]\n",
    "bound=np.percentile(data['percentage'],100)\n",
    "data=data.loc[data['percentage']<bound]"
   ]
  },
  {
   "cell_type": "code",
   "execution_count": 5,
   "metadata": {},
   "outputs": [
    {
     "data": {
      "text/plain": [
       "13517"
      ]
     },
     "execution_count": 5,
     "metadata": {},
     "output_type": "execute_result"
    }
   ],
   "source": [
    "len(data)\n",
    "# if (data.loc[:, 'percentage'] >= 5) is True:\n",
    "#     data.loc[:, 'Date']\n",
    "# data.loc[data[\"percentage\"] >= 5]"
   ]
  },
  {
   "cell_type": "code",
   "execution_count": 6,
   "metadata": {},
   "outputs": [
    {
     "data": {
      "text/plain": [
       "array([[<matplotlib.axes._subplots.AxesSubplot object at 0x7f3928edb0b8>]],\n",
       "      dtype=object)"
      ]
     },
     "execution_count": 6,
     "metadata": {},
     "output_type": "execute_result"
    },
    {
     "data": {
      "image/png": "[encoded data removed]",
      "text/plain": [
       "<Figure size 432x288 with 1 Axes>"
      ]
     },
     "metadata": {
      "needs_background": "light"
     },
     "output_type": "display_data"
    }
   ],
   "source": [
    "# original Data\n",
    "data.hist(column='percentage', bins =50)"
   ]
  },
  {
   "cell_type": "code",
   "execution_count": 7,
   "metadata": {},
   "outputs": [],
   "source": [
    "maxVal=5\n",
    "minVal=0"
   ]
  },
  {
   "cell_type": "code",
   "execution_count": 8,
   "metadata": {},
   "outputs": [
    {
     "data": {
      "text/plain": [
       "array([  5.        ,  15.26315789,  25.52631579,  35.78947368,\n",
       "        46.05263158,  56.31578947,  66.57894737,  76.84210526,\n",
       "        87.10526316,  97.36842105, 107.63157895, 117.89473684,\n",
       "       128.15789474, 138.42105263, 148.68421053, 158.94736842,\n",
       "       169.21052632, 179.47368421, 189.73684211, 200.        ])"
      ]
     },
     "execution_count": 8,
     "metadata": {},
     "output_type": "execute_result"
    }
   ],
   "source": [
    "np.linspace(5, 200, 20)"
   ]
  },
  {
   "cell_type": "code",
   "execution_count": 19,
   "metadata": {},
   "outputs": [
    {
     "name": "stdout",
     "output_type": "stream",
     "text": [
      "Number of bins is : 5\n",
      "X & Y_Dim of Train is (10814, 22) (10814,)\n",
      "X & Y_Dim of Test is (2703, 22) (2703,)\n",
      "CPU times: user 16.8 s, sys: 76 ms, total: 16.9 s\n",
      "Wall time: 4.42 s\n",
      "XGBClassifier(base_score=0.5, booster='gbtree', colsample_bylevel=1,\n",
      "              colsample_bynode=1, colsample_bytree=1, gamma=0,\n",
      "              learning_rate=0.4, max_delta_step=0, max_depth=4,\n",
      "              min_child_weight=1, missing=None, n_estimators=200, n_jobs=4,\n",
      "              nthread=None, objective='multi:softprob', random_state=0,\n",
      "              reg_alpha=0, reg_lambda=1, scale_pos_weight=1, seed=None,\n",
      "              silent=None, subsample=1, verbosity=1)\n",
      "NEM ::  0.15057343692193859\n",
      "Number of bins is : 15\n",
      "X & Y_Dim of Train is (10814, 22) (10814,)\n",
      "X & Y_Dim of Test is (2703, 22) (2703,)\n",
      "CPU times: user 58.5 s, sys: 344 ms, total: 58.8 s\n",
      "Wall time: 16.6 s\n",
      "XGBClassifier(base_score=0.5, booster='gbtree', colsample_bylevel=1,\n",
      "              colsample_bynode=1, colsample_bytree=1, gamma=0,\n",
      "              learning_rate=0.4, max_delta_step=0, max_depth=4,\n",
      "              min_child_weight=1, missing=None, n_estimators=200, n_jobs=4,\n",
      "              nthread=None, objective='multi:softprob', random_state=0,\n",
      "              reg_alpha=0, reg_lambda=1, scale_pos_weight=1, seed=None,\n",
      "              silent=None, subsample=1, verbosity=1)\n",
      "NEM ::  0.17659390800345295\n",
      "Number of bins is : 26\n",
      "X & Y_Dim of Train is (10814, 22) (10814,)\n",
      "X & Y_Dim of Test is (2703, 22) (2703,)\n",
      "CPU times: user 1min 35s, sys: 384 ms, total: 1min 35s\n",
      "Wall time: 26.5 s\n",
      "XGBClassifier(base_score=0.5, booster='gbtree', colsample_bylevel=1,\n",
      "              colsample_bynode=1, colsample_bytree=1, gamma=0,\n",
      "              learning_rate=0.4, max_delta_step=0, max_depth=4,\n",
      "              min_child_weight=1, missing=None, n_estimators=200, n_jobs=4,\n",
      "              nthread=None, objective='multi:softprob', random_state=0,\n",
      "              reg_alpha=0, reg_lambda=1, scale_pos_weight=1, seed=None,\n",
      "              silent=None, subsample=1, verbosity=1)\n",
      "NEM ::  0.1809954751131222\n",
      "Number of bins is : 36\n",
      "X & Y_Dim of Train is (10814, 22) (10814,)\n",
      "X & Y_Dim of Test is (2703, 22) (2703,)\n",
      "CPU times: user 1min 56s, sys: 312 ms, total: 1min 56s\n",
      "Wall time: 30.5 s\n",
      "XGBClassifier(base_score=0.5, booster='gbtree', colsample_bylevel=1,\n",
      "              colsample_bynode=1, colsample_bytree=1, gamma=0,\n",
      "              learning_rate=0.4, max_delta_step=0, max_depth=4,\n",
      "              min_child_weight=1, missing=None, n_estimators=200, n_jobs=4,\n",
      "              nthread=None, objective='multi:softprob', random_state=0,\n",
      "              reg_alpha=0, reg_lambda=1, scale_pos_weight=1, seed=None,\n",
      "              silent=None, subsample=1, verbosity=1)\n",
      "NEM ::  0.18287293953220704\n",
      "Number of bins is : 46\n",
      "X & Y_Dim of Train is (10814, 22) (10814,)\n",
      "X & Y_Dim of Test is (2703, 22) (2703,)\n",
      "CPU times: user 2min 24s, sys: 304 ms, total: 2min 24s\n",
      "Wall time: 36.9 s\n",
      "XGBClassifier(base_score=0.5, booster='gbtree', colsample_bylevel=1,\n",
      "              colsample_bynode=1, colsample_bytree=1, gamma=0,\n",
      "              learning_rate=0.4, max_delta_step=0, max_depth=4,\n",
      "              min_child_weight=1, missing=None, n_estimators=200, n_jobs=4,\n",
      "              nthread=None, objective='multi:softprob', random_state=0,\n",
      "              reg_alpha=0, reg_lambda=1, scale_pos_weight=1, seed=None,\n",
      "              silent=None, subsample=1, verbosity=1)\n",
      "NEM ::  0.18835754153999582\n",
      "Number of bins is : 57\n",
      "X & Y_Dim of Train is (10814, 22) (10814,)\n",
      "X & Y_Dim of Test is (2703, 22) (2703,)\n",
      "CPU times: user 3min 6s, sys: 544 ms, total: 3min 6s\n",
      "Wall time: 48.9 s\n",
      "XGBClassifier(base_score=0.5, booster='gbtree', colsample_bylevel=1,\n",
      "              colsample_bynode=1, colsample_bytree=1, gamma=0,\n",
      "              learning_rate=0.4, max_delta_step=0, max_depth=4,\n",
      "              min_child_weight=1, missing=None, n_estimators=200, n_jobs=4,\n",
      "              nthread=None, objective='multi:softprob', random_state=0,\n",
      "              reg_alpha=0, reg_lambda=1, scale_pos_weight=1, seed=None,\n",
      "              silent=None, subsample=1, verbosity=1)\n",
      "NEM ::  0.18975018011176664\n",
      "Number of bins is : 67\n",
      "X & Y_Dim of Train is (10814, 22) (10814,)\n",
      "X & Y_Dim of Test is (2703, 22) (2703,)\n",
      "CPU times: user 4min 11s, sys: 1.18 s, total: 4min 12s\n",
      "Wall time: 1min 11s\n",
      "XGBClassifier(base_score=0.5, booster='gbtree', colsample_bylevel=1,\n",
      "              colsample_bynode=1, colsample_bytree=1, gamma=0,\n",
      "              learning_rate=0.4, max_delta_step=0, max_depth=4,\n",
      "              min_child_weight=1, missing=None, n_estimators=200, n_jobs=4,\n",
      "              nthread=None, objective='multi:softprob', random_state=0,\n",
      "              reg_alpha=0, reg_lambda=1, scale_pos_weight=1, seed=None,\n",
      "              silent=None, subsample=1, verbosity=1)\n",
      "NEM ::  0.18550422140131748\n",
      "Number of bins is : 78\n",
      "X & Y_Dim of Train is (10814, 22) (10814,)\n",
      "X & Y_Dim of Test is (2703, 22) (2703,)\n",
      "CPU times: user 4min 23s, sys: 920 ms, total: 4min 24s\n",
      "Wall time: 1min 9s\n",
      "XGBClassifier(base_score=0.5, booster='gbtree', colsample_bylevel=1,\n",
      "              colsample_bynode=1, colsample_bytree=1, gamma=0,\n",
      "              learning_rate=0.4, max_delta_step=0, max_depth=4,\n",
      "              min_child_weight=1, missing=None, n_estimators=200, n_jobs=4,\n",
      "              nthread=None, objective='multi:softprob', random_state=0,\n",
      "              reg_alpha=0, reg_lambda=1, scale_pos_weight=1, seed=None,\n",
      "              silent=None, subsample=1, verbosity=1)\n",
      "NEM ::  0.19145394006659266\n",
      "Number of bins is : 88\n",
      "X & Y_Dim of Train is (10814, 22) (10814,)\n",
      "X & Y_Dim of Test is (2703, 22) (2703,)\n",
      "CPU times: user 4min 49s, sys: 800 ms, total: 4min 50s\n",
      "Wall time: 1min 15s\n",
      "XGBClassifier(base_score=0.5, booster='gbtree', colsample_bylevel=1,\n",
      "              colsample_bynode=1, colsample_bytree=1, gamma=0,\n",
      "              learning_rate=0.4, max_delta_step=0, max_depth=4,\n",
      "              min_child_weight=1, missing=None, n_estimators=200, n_jobs=4,\n",
      "              nthread=None, objective='multi:softprob', random_state=0,\n",
      "              reg_alpha=0, reg_lambda=1, scale_pos_weight=1, seed=None,\n",
      "              silent=None, subsample=1, verbosity=1)\n",
      "NEM ::  0.18947802105404768\n",
      "Number of bins is : 98\n",
      "X & Y_Dim of Train is (10814, 22) (10814,)\n",
      "X & Y_Dim of Test is (2703, 22) (2703,)\n",
      "CPU times: user 5min 20s, sys: 828 ms, total: 5min 21s\n",
      "Wall time: 1min 22s\n",
      "XGBClassifier(base_score=0.5, booster='gbtree', colsample_bylevel=1,\n",
      "              colsample_bynode=1, colsample_bytree=1, gamma=0,\n",
      "              learning_rate=0.4, max_delta_step=0, max_depth=4,\n",
      "              min_child_weight=1, missing=None, n_estimators=200, n_jobs=4,\n",
      "              nthread=None, objective='multi:softprob', random_state=0,\n",
      "              reg_alpha=0, reg_lambda=1, scale_pos_weight=1, seed=None,\n",
      "              silent=None, subsample=1, verbosity=1)\n",
      "NEM ::  0.19117080794581987\n",
      "Number of bins is : 109\n",
      "X & Y_Dim of Train is (10814, 22) (10814,)\n",
      "X & Y_Dim of Test is (2703, 22) (2703,)\n",
      "CPU times: user 5min 57s, sys: 900 ms, total: 5min 58s\n",
      "Wall time: 1min 32s\n",
      "XGBClassifier(base_score=0.5, booster='gbtree', colsample_bylevel=1,\n",
      "              colsample_bynode=1, colsample_bytree=1, gamma=0,\n",
      "              learning_rate=0.4, max_delta_step=0, max_depth=4,\n",
      "              min_child_weight=1, missing=None, n_estimators=200, n_jobs=4,\n",
      "              nthread=None, objective='multi:softprob', random_state=0,\n",
      "              reg_alpha=0, reg_lambda=1, scale_pos_weight=1, seed=None,\n",
      "              silent=None, subsample=1, verbosity=1)\n",
      "NEM ::  0.1909363364525315\n",
      "Number of bins is : 119\n",
      "X & Y_Dim of Train is (10814, 22) (10814,)\n",
      "X & Y_Dim of Test is (2703, 22) (2703,)\n",
      "CPU times: user 6min 36s, sys: 956 ms, total: 6min 37s\n",
      "Wall time: 1min 43s\n",
      "XGBClassifier(base_score=0.5, booster='gbtree', colsample_bylevel=1,\n",
      "              colsample_bynode=1, colsample_bytree=1, gamma=0,\n",
      "              learning_rate=0.4, max_delta_step=0, max_depth=4,\n",
      "              min_child_weight=1, missing=None, n_estimators=200, n_jobs=4,\n",
      "              nthread=None, objective='multi:softprob', random_state=0,\n",
      "              reg_alpha=0, reg_lambda=1, scale_pos_weight=1, seed=None,\n",
      "              silent=None, subsample=1, verbosity=1)\n",
      "NEM ::  0.1929539851456676\n",
      "Number of bins is : 129\n",
      "X & Y_Dim of Train is (10814, 22) (10814,)\n",
      "X & Y_Dim of Test is (2703, 22) (2703,)\n"
     ]
    },
    {
     "name": "stdout",
     "output_type": "stream",
     "text": [
      "CPU times: user 7min 6s, sys: 1.07 s, total: 7min 7s\n",
      "Wall time: 1min 49s\n",
      "XGBClassifier(base_score=0.5, booster='gbtree', colsample_bylevel=1,\n",
      "              colsample_bynode=1, colsample_bytree=1, gamma=0,\n",
      "              learning_rate=0.4, max_delta_step=0, max_depth=4,\n",
      "              min_child_weight=1, missing=None, n_estimators=200, n_jobs=4,\n",
      "              nthread=None, objective='multi:softprob', random_state=0,\n",
      "              reg_alpha=0, reg_lambda=1, scale_pos_weight=1, seed=None,\n",
      "              silent=None, subsample=1, verbosity=1)\n",
      "NEM ::  0.1940422212471357\n",
      "Number of bins is : 140\n",
      "X & Y_Dim of Train is (10814, 22) (10814,)\n",
      "X & Y_Dim of Test is (2703, 22) (2703,)\n",
      "CPU times: user 7min 44s, sys: 1.08 s, total: 7min 45s\n",
      "Wall time: 1min 59s\n",
      "XGBClassifier(base_score=0.5, booster='gbtree', colsample_bylevel=1,\n",
      "              colsample_bynode=1, colsample_bytree=1, gamma=0,\n",
      "              learning_rate=0.4, max_delta_step=0, max_depth=4,\n",
      "              min_child_weight=1, missing=None, n_estimators=200, n_jobs=4,\n",
      "              nthread=None, objective='multi:softprob', random_state=0,\n",
      "              reg_alpha=0, reg_lambda=1, scale_pos_weight=1, seed=None,\n",
      "              silent=None, subsample=1, verbosity=1)\n",
      "NEM ::  0.19593309021721894\n",
      "Number of bins is : 150\n",
      "X & Y_Dim of Train is (10814, 22) (10814,)\n",
      "X & Y_Dim of Test is (2703, 22) (2703,)\n",
      "CPU times: user 9min 11s, sys: 2.44 s, total: 9min 14s\n",
      "Wall time: 2min 32s\n",
      "XGBClassifier(base_score=0.5, booster='gbtree', colsample_bylevel=1,\n",
      "              colsample_bynode=1, colsample_bytree=1, gamma=0,\n",
      "              learning_rate=0.4, max_delta_step=0, max_depth=4,\n",
      "              min_child_weight=1, missing=None, n_estimators=200, n_jobs=4,\n",
      "              nthread=None, objective='multi:softprob', random_state=0,\n",
      "              reg_alpha=0, reg_lambda=1, scale_pos_weight=1, seed=None,\n",
      "              silent=None, subsample=1, verbosity=1)\n",
      "NEM ::  0.19584412381304722\n"
     ]
    }
   ],
   "source": [
    "bin_val = []\n",
    "em = []\n",
    "for j in np.linspace(5, 150, 15):\n",
    "    bins = round(j)\n",
    "    bins = bins.astype(int)\n",
    "    step=(maxVal-minVal)/bins\n",
    "    print('Number of bins is :', bins)\n",
    "    \n",
    "\n",
    "    bin_val.append(bins)    \n",
    "    \n",
    "    thresh=[]\n",
    "    for k in range(0,bins):\n",
    "        val=(minVal+(k*step))\n",
    "        val=val\n",
    "        thresh.append(val)\n",
    "        \n",
    "    Target=[-1] * len(data)\n",
    "    data['Target']=Target\n",
    "\n",
    "    for i in range(len(thresh)-1,-1,-1):\n",
    "        data.loc[np.logical_and(data['percentage']>=thresh[i],data['Target']==-1),'Target']=i\n",
    "#         print(\"Class {}:\".format(i))\n",
    "#         print(len(data.loc[data['Target']==i]))\n",
    "    data = data.dropna()\n",
    "    \n",
    "    \n",
    "    \n",
    "    feats = data\n",
    "    dropNames = ['date', 'percentage','strike','spot','opPrice']\n",
    "    X=feats.iloc[:,:-1]\n",
    "    Y=feats.loc[:,'Target']\n",
    "    X = X.drop(dropNames, axis = 1)\n",
    "    \n",
    "    \n",
    "    featNames = list(X)  \n",
    "    scaler = RobustScaler()\n",
    "    X = scaler.fit_transform(X)\n",
    "    X = pd.DataFrame(X, columns = featNames)\n",
    "    \n",
    "    a = len(feats)\n",
    "    split_val = round(a*0.8)\n",
    "\n",
    "    # Removing the Random splits\n",
    "\n",
    "    X_train = X.iloc[0:split_val, :]\n",
    "    X_test = X.iloc[split_val:, :]\n",
    "    Y_train = Y.iloc[:split_val]\n",
    "    Y_test = Y.iloc[split_val:]\n",
    "    print ('X & Y_Dim of Train is', X_train.shape, Y_train.shape)\n",
    "    print ('X & Y_Dim of Test is', X_test.shape, Y_test.shape)\n",
    "\n",
    "    Y_test=Y_test.values\n",
    "    Y_train=Y_train.values\n",
    "    \n",
    "    \n",
    "    model = XGBClassifier(n_estimators = 200, max_depth = 4, learning_rate = 0.4, n_jobs=4)\n",
    "    %time model.fit(X_train, Y_train)\n",
    "    print(model)\n",
    "\n",
    "    k = model.predict(X_test)\n",
    "    \n",
    "\n",
    "    \n",
    "    bin_width = step    # Note the uniform binning!!!!!!!!\n",
    "    dist_sum = 0\n",
    "    for p in range(len(k)):\n",
    "        dist = abs(k[p] - Y_test[p])\n",
    "        dist_sum = dist_sum + dist\n",
    "    \n",
    "    n_em = (dist_sum*bin_width)/len(Y_test)\n",
    "    em.append(n_em)\n",
    "  \n",
    "    print(\"NEM :: \", (dist_sum*bin_width)/len(Y_test))\n",
    "    \n",
    "    \n",
    "\n",
    "    "
   ]
  },
  {
   "cell_type": "code",
   "execution_count": 20,
   "metadata": {},
   "outputs": [],
   "source": [
    "h = {'EM':em, 'Bins':bin_val}\n",
    "\n",
    "l = pd.DataFrame(h)"
   ]
  },
  {
   "cell_type": "code",
   "execution_count": 21,
   "metadata": {},
   "outputs": [],
   "source": [
    "l.to_csv(filepath + 'em_vs_bins.csv', index = False)"
   ]
  },
  {
   "cell_type": "code",
   "execution_count": 22,
   "metadata": {},
   "outputs": [
    {
     "data": {
      "text/html": [
       "<div>\n",
       "<style scoped>\n",
       "    .dataframe tbody tr th:only-of-type {\n",
       "        vertical-align: middle;\n",
       "    }\n",
       "\n",
       "    .dataframe tbody tr th {\n",
       "        vertical-align: top;\n",
       "    }\n",
       "\n",
       "    .dataframe thead th {\n",
       "        text-align: right;\n",
       "    }\n",
       "</style>\n",
       "<table border=\"1\" class=\"dataframe\">\n",
       "  <thead>\n",
       "    <tr style=\"text-align: right;\">\n",
       "      <th></th>\n",
       "      <th>EM</th>\n",
       "      <th>Bins</th>\n",
       "    </tr>\n",
       "  </thead>\n",
       "  <tbody>\n",
       "    <tr>\n",
       "      <th>0</th>\n",
       "      <td>0.150573</td>\n",
       "      <td>5</td>\n",
       "    </tr>\n",
       "    <tr>\n",
       "      <th>1</th>\n",
       "      <td>0.176594</td>\n",
       "      <td>15</td>\n",
       "    </tr>\n",
       "    <tr>\n",
       "      <th>2</th>\n",
       "      <td>0.180995</td>\n",
       "      <td>26</td>\n",
       "    </tr>\n",
       "    <tr>\n",
       "      <th>3</th>\n",
       "      <td>0.182873</td>\n",
       "      <td>36</td>\n",
       "    </tr>\n",
       "    <tr>\n",
       "      <th>4</th>\n",
       "      <td>0.188358</td>\n",
       "      <td>46</td>\n",
       "    </tr>\n",
       "    <tr>\n",
       "      <th>5</th>\n",
       "      <td>0.189750</td>\n",
       "      <td>57</td>\n",
       "    </tr>\n",
       "    <tr>\n",
       "      <th>6</th>\n",
       "      <td>0.185504</td>\n",
       "      <td>67</td>\n",
       "    </tr>\n",
       "    <tr>\n",
       "      <th>7</th>\n",
       "      <td>0.191454</td>\n",
       "      <td>78</td>\n",
       "    </tr>\n",
       "    <tr>\n",
       "      <th>8</th>\n",
       "      <td>0.189478</td>\n",
       "      <td>88</td>\n",
       "    </tr>\n",
       "    <tr>\n",
       "      <th>9</th>\n",
       "      <td>0.191171</td>\n",
       "      <td>98</td>\n",
       "    </tr>\n",
       "    <tr>\n",
       "      <th>10</th>\n",
       "      <td>0.190936</td>\n",
       "      <td>109</td>\n",
       "    </tr>\n",
       "    <tr>\n",
       "      <th>11</th>\n",
       "      <td>0.192954</td>\n",
       "      <td>119</td>\n",
       "    </tr>\n",
       "    <tr>\n",
       "      <th>12</th>\n",
       "      <td>0.194042</td>\n",
       "      <td>129</td>\n",
       "    </tr>\n",
       "    <tr>\n",
       "      <th>13</th>\n",
       "      <td>0.195933</td>\n",
       "      <td>140</td>\n",
       "    </tr>\n",
       "    <tr>\n",
       "      <th>14</th>\n",
       "      <td>0.195844</td>\n",
       "      <td>150</td>\n",
       "    </tr>\n",
       "  </tbody>\n",
       "</table>\n",
       "</div>"
      ],
      "text/plain": [
       "          EM  Bins\n",
       "0   0.150573     5\n",
       "1   0.176594    15\n",
       "2   0.180995    26\n",
       "3   0.182873    36\n",
       "4   0.188358    46\n",
       "5   0.189750    57\n",
       "6   0.185504    67\n",
       "7   0.191454    78\n",
       "8   0.189478    88\n",
       "9   0.191171    98\n",
       "10  0.190936   109\n",
       "11  0.192954   119\n",
       "12  0.194042   129\n",
       "13  0.195933   140\n",
       "14  0.195844   150"
      ]
     },
     "execution_count": 22,
     "metadata": {},
     "output_type": "execute_result"
    }
   ],
   "source": [
    "l"
   ]
  },
  {
   "cell_type": "code",
   "execution_count": 26,
   "metadata": {},
   "outputs": [
    {
     "data": {
      "text/plain": [
       "<matplotlib.axes._subplots.AxesSubplot at 0x7f39269a4208>"
      ]
     },
     "execution_count": 26,
     "metadata": {},
     "output_type": "execute_result"
    },
    {
     "data": {
      "image/png": "[encoded data removed]",
      "text/plain": [
       "<Figure size 576x360 with 1 Axes>"
      ]
     },
     "metadata": {
      "needs_background": "light"
     },
     "output_type": "display_data"
    }
   ],
   "source": [
    "plt.rcParams['figure.figsize'] = [8, 5]\n",
    "l.plot(x = 'Bins', y = 'EM', xticks = bin_val)"
   ]
  },
  {
   "cell_type": "code",
   "execution_count": 38,
   "metadata": {},
   "outputs": [],
   "source": [
    "# data.to_csv(filepath + 'BANKNIFTY_feature_set_ECDF_complete.csv', index =  False)\n",
    "\n",
    "\n",
    "# # data.to_csv(filepath + 'NIFTY50_feature_set_ECDF_complete.csv', index =  False)"
   ]
  }
 ],
 "metadata": {
  "kernelspec": {
   "display_name": "Python 3",
   "language": "python",
   "name": "python3"
  },
  "language_info": {
   "codemirror_mode": {
    "name": "ipython",
    "version": 3
   },
   "file_extension": ".py",
   "mimetype": "text/x-python",
   "name": "python",
   "nbconvert_exporter": "python",
   "pygments_lexer": "ipython3",
   "version": "3.7.3"
  }
 },
 "nbformat": 4,
 "nbformat_minor": 2
}
