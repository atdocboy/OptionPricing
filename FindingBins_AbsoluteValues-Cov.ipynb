{
 "cells": [
  {
   "cell_type": "code",
   "execution_count": 15,
   "metadata": {},
   "outputs": [],
   "source": [
    "import pandas as pd\n",
    "import numpy as np\n",
    "from sklearn.utils import class_weight\n",
    "from sklearn.preprocessing import StandardScaler,MinMaxScaler"
   ]
  },
  {
   "cell_type": "code",
   "execution_count": 16,
   "metadata": {},
   "outputs": [],
   "source": [
    "# Path settings\n",
    "\n",
    "path_var = 1 \n",
    "\n",
    "if (path_var == 1):\n",
    "    filepath = '/home/docboy/Desktop/Option_Pricing/datasets/'\n",
    "\n",
    "else:\n",
    "    filepath = '/home/sharan/Desktop/Option_Pricing/datasets/'"
   ]
  },
  {
   "cell_type": "code",
   "execution_count": 17,
   "metadata": {},
   "outputs": [],
   "source": [
    "data = pd.read_csv(filepath + 'SBIN_feature_set_COV_STEP_2.csv')\n",
    "\n",
    "# data = pd.read_csv(filepath + 'NIFTY50_feature_set_COV_STEP_2.csv')"
   ]
  },
  {
   "cell_type": "code",
   "execution_count": 18,
   "metadata": {},
   "outputs": [
    {
     "data": {
      "text/plain": [
       "6205"
      ]
     },
     "execution_count": 18,
     "metadata": {},
     "output_type": "execute_result"
    }
   ],
   "source": [
    "len(data)"
   ]
  },
  {
   "cell_type": "code",
   "execution_count": 19,
   "metadata": {},
   "outputs": [],
   "source": [
    "data=data.loc[data['ttm']>3,:]\n",
    "data=data.loc[data['ttm']<=45,:]\n",
    "bound=np.percentile(data['percentage'],100)\n",
    "data=data.loc[data['percentage']<bound]"
   ]
  },
  {
   "cell_type": "code",
   "execution_count": 20,
   "metadata": {},
   "outputs": [],
   "source": [
    "maxVal=5\n",
    "minVal=0"
   ]
  },
  {
   "cell_type": "code",
   "execution_count": 21,
   "metadata": {},
   "outputs": [
    {
     "name": "stdout",
     "output_type": "stream",
     "text": [
      "MinVal:0\n",
      "MaxVal:5\n"
     ]
    }
   ],
   "source": [
    "print(\"MinVal:{}\".format(minVal))\n",
    "print(\"MaxVal:{}\".format(maxVal))"
   ]
  },
  {
   "cell_type": "code",
   "execution_count": 22,
   "metadata": {},
   "outputs": [
    {
     "data": {
      "text/plain": [
       "array([[<matplotlib.axes._subplots.AxesSubplot object at 0x7fd2b6523390>]],\n",
       "      dtype=object)"
      ]
     },
     "execution_count": 22,
     "metadata": {},
     "output_type": "execute_result"
    },
    {
     "data": {
      "image/png": "[encoded data removed]",
      "text/plain": [
       "<Figure size 432x288 with 1 Axes>"
      ]
     },
     "metadata": {
      "needs_background": "light"
     },
     "output_type": "display_data"
    }
   ],
   "source": [
    "data.hist(column='percentage',bins=50)"
   ]
  },
  {
   "cell_type": "code",
   "execution_count": 23,
   "metadata": {},
   "outputs": [
    {
     "name": "stdout",
     "output_type": "stream",
     "text": [
      "4819\n"
     ]
    }
   ],
   "source": [
    "print(len(data))"
   ]
  },
  {
   "cell_type": "code",
   "execution_count": 24,
   "metadata": {},
   "outputs": [
    {
     "name": "stdout",
     "output_type": "stream",
     "text": [
      "0.1\n"
     ]
    }
   ],
   "source": [
    "bins=50\n",
    "\n",
    "step=(maxVal-minVal)/bins\n",
    "print(step)"
   ]
  },
  {
   "cell_type": "code",
   "execution_count": 25,
   "metadata": {
    "scrolled": true
   },
   "outputs": [
    {
     "name": "stdout",
     "output_type": "stream",
     "text": [
      "[0.0, 0.1, 0.2, 0.30000000000000004, 0.4, 0.5, 0.6000000000000001, 0.7000000000000001, 0.8, 0.9, 1.0, 1.1, 1.2000000000000002, 1.3, 1.4000000000000001, 1.5, 1.6, 1.7000000000000002, 1.8, 1.9000000000000001, 2.0, 2.1, 2.2, 2.3000000000000003, 2.4000000000000004, 2.5, 2.6, 2.7, 2.8000000000000003, 2.9000000000000004, 3.0, 3.1, 3.2, 3.3000000000000003, 3.4000000000000004, 3.5, 3.6, 3.7, 3.8000000000000003, 3.9000000000000004, 4.0, 4.1000000000000005, 4.2, 4.3, 4.4, 4.5, 4.6000000000000005, 4.7, 4.800000000000001, 4.9]\n"
     ]
    }
   ],
   "source": [
    "# print(step)\n",
    "thresh=[]\n",
    "for i in range(0,bins):\n",
    "    val=(minVal+(i*step))\n",
    "    thresh.append(val)\n",
    "    \n",
    "print(thresh)"
   ]
  },
  {
   "cell_type": "code",
   "execution_count": 26,
   "metadata": {
    "scrolled": true
   },
   "outputs": [
    {
     "name": "stdout",
     "output_type": "stream",
     "text": [
      "Class 49:\n",
      "1088\n",
      "Class 48:\n",
      "89\n",
      "Class 47:\n",
      "98\n",
      "Class 46:\n",
      "86\n",
      "Class 45:\n",
      "87\n",
      "Class 44:\n",
      "103\n",
      "Class 43:\n",
      "100\n",
      "Class 42:\n",
      "108\n",
      "Class 41:\n",
      "103\n",
      "Class 40:\n",
      "115\n",
      "Class 39:\n",
      "95\n",
      "Class 38:\n",
      "117\n",
      "Class 37:\n",
      "129\n",
      "Class 36:\n",
      "91\n",
      "Class 35:\n",
      "111\n",
      "Class 34:\n",
      "98\n",
      "Class 33:\n",
      "118\n",
      "Class 32:\n",
      "104\n",
      "Class 31:\n",
      "118\n",
      "Class 30:\n",
      "110\n",
      "Class 29:\n",
      "109\n",
      "Class 28:\n",
      "114\n",
      "Class 27:\n",
      "98\n",
      "Class 26:\n",
      "74\n",
      "Class 25:\n",
      "111\n",
      "Class 24:\n",
      "106\n",
      "Class 23:\n",
      "105\n",
      "Class 22:\n",
      "82\n",
      "Class 21:\n",
      "92\n",
      "Class 20:\n",
      "87\n",
      "Class 19:\n",
      "62\n",
      "Class 18:\n",
      "91\n",
      "Class 17:\n",
      "63\n",
      "Class 16:\n",
      "54\n",
      "Class 15:\n",
      "61\n",
      "Class 14:\n",
      "62\n",
      "Class 13:\n",
      "54\n",
      "Class 12:\n",
      "44\n",
      "Class 11:\n",
      "46\n",
      "Class 10:\n",
      "58\n",
      "Class 9:\n",
      "30\n",
      "Class 8:\n",
      "36\n",
      "Class 7:\n",
      "30\n",
      "Class 6:\n",
      "25\n",
      "Class 5:\n",
      "29\n",
      "Class 4:\n",
      "15\n",
      "Class 3:\n",
      "8\n",
      "Class 2:\n",
      "5\n",
      "Class 1:\n",
      "0\n",
      "Class 0:\n",
      "0\n"
     ]
    }
   ],
   "source": [
    "Target=[-1] * len(data)\n",
    "data['Target']=Target\n",
    "\n",
    "for i in range(len(thresh)-1,-1,-1):\n",
    "    data.loc[np.logical_and(data['percentage']>=thresh[i],data['Target']==-1),'Target']=i\n",
    "    print(\"Class {}:\".format(i))\n",
    "    print(len(data.loc[data['Target']==i]))\n",
    "#     print(len(data.loc[data['Target']==i])/len(data)*100)\n",
    "\n",
    "data = data.dropna()"
   ]
  },
  {
   "cell_type": "code",
   "execution_count": 27,
   "metadata": {},
   "outputs": [],
   "source": [
    "data.to_csv(filepath + 'SBIN_feature_set_COV_complete.csv', index =  False)\n",
    "\n",
    "\n",
    "# data.to_csv(filepath + 'NIFTY50_feature_set_COV_complete.csv', index =  False)"
   ]
  },
  {
   "cell_type": "code",
   "execution_count": null,
   "metadata": {},
   "outputs": [],
   "source": []
  }
 ],
 "metadata": {
  "kernelspec": {
   "display_name": "Python 3",
   "language": "python",
   "name": "python3"
  },
  "language_info": {
   "codemirror_mode": {
    "name": "ipython",
    "version": 3
   },
   "file_extension": ".py",
   "mimetype": "text/x-python",
   "name": "python",
   "nbconvert_exporter": "python",
   "pygments_lexer": "ipython3",
   "version": "3.7.3"
  }
 },
 "nbformat": 4,
 "nbformat_minor": 2
}
