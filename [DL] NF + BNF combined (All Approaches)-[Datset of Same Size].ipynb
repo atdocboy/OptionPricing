{
 "cells": [
  {
   "cell_type": "code",
   "execution_count": 2,
   "metadata": {},
   "outputs": [
    {
     "name": "stderr",
     "output_type": "stream",
     "text": [
      "Using TensorFlow backend.\n",
      "/home/sharan/anaconda3/lib/python3.6/site-packages/tensorflow/python/framework/dtypes.py:517: FutureWarning: Passing (type, 1) or '1type' as a synonym of type is deprecated; in a future version of numpy, it will be understood as (type, (1,)) / '(1,)type'.\n",
      "  _np_qint8 = np.dtype([(\"qint8\", np.int8, 1)])\n",
      "/home/sharan/anaconda3/lib/python3.6/site-packages/tensorflow/python/framework/dtypes.py:518: FutureWarning: Passing (type, 1) or '1type' as a synonym of type is deprecated; in a future version of numpy, it will be understood as (type, (1,)) / '(1,)type'.\n",
      "  _np_quint8 = np.dtype([(\"quint8\", np.uint8, 1)])\n",
      "/home/sharan/anaconda3/lib/python3.6/site-packages/tensorflow/python/framework/dtypes.py:519: FutureWarning: Passing (type, 1) or '1type' as a synonym of type is deprecated; in a future version of numpy, it will be understood as (type, (1,)) / '(1,)type'.\n",
      "  _np_qint16 = np.dtype([(\"qint16\", np.int16, 1)])\n",
      "/home/sharan/anaconda3/lib/python3.6/site-packages/tensorflow/python/framework/dtypes.py:520: FutureWarning: Passing (type, 1) or '1type' as a synonym of type is deprecated; in a future version of numpy, it will be understood as (type, (1,)) / '(1,)type'.\n",
      "  _np_quint16 = np.dtype([(\"quint16\", np.uint16, 1)])\n",
      "/home/sharan/anaconda3/lib/python3.6/site-packages/tensorflow/python/framework/dtypes.py:521: FutureWarning: Passing (type, 1) or '1type' as a synonym of type is deprecated; in a future version of numpy, it will be understood as (type, (1,)) / '(1,)type'.\n",
      "  _np_qint32 = np.dtype([(\"qint32\", np.int32, 1)])\n",
      "/home/sharan/anaconda3/lib/python3.6/site-packages/tensorflow/python/framework/dtypes.py:526: FutureWarning: Passing (type, 1) or '1type' as a synonym of type is deprecated; in a future version of numpy, it will be understood as (type, (1,)) / '(1,)type'.\n",
      "  np_resource = np.dtype([(\"resource\", np.ubyte, 1)])\n"
     ]
    }
   ],
   "source": [
    "import numpy as np\n",
    "import matplotlib.pyplot as plt\n",
    "from scipy import stats\n",
    "import pandas as pd\n",
    "import math\n",
    "import keras\n",
    "from sklearn.model_selection import train_test_split\n",
    "from keras.callbacks import EarlyStopping\n",
    "from sklearn.preprocessing import StandardScaler,MinMaxScaler,RobustScaler\n",
    "from sklearn.utils import class_weight\n",
    "from keras import optimizers\n",
    "from sklearn.preprocessing import OneHotEncoder\n",
    "import matplotlib.pyplot as plt\n",
    "from keras.models import load_model\n",
    "import joblib\n",
    "# import py_vollib.black_scholes.implied_volatility\n",
    "import multiprocessing\n",
    "from multiprocessing import Pool\n",
    "import os\n",
    "# import py_vollib.black_scholes.implied_volatility as vb\n",
    "%matplotlib inline"
   ]
  },
  {
   "cell_type": "code",
   "execution_count": 3,
   "metadata": {},
   "outputs": [
    {
     "data": {
      "text/plain": [
       "'2.2.4'"
      ]
     },
     "execution_count": 3,
     "metadata": {},
     "output_type": "execute_result"
    }
   ],
   "source": [
    "keras.__version__"
   ]
  },
  {
   "cell_type": "code",
   "execution_count": 2,
   "metadata": {},
   "outputs": [],
   "source": [
    "# Path settings\n",
    "\n",
    "\n",
    "path_var = 2 \n",
    "\n",
    "if (path_var == 1):\n",
    "    filepath = '/home/docboy/Desktop/Option_Pricing/datasets/'\n",
    "    modelpath = '/home/docboy/Desktop/Option_Pricing/pickles/'\n",
    "\n",
    "\n",
    "else:\n",
    "    filepath = '/home/sharan/Desktop/OptionPricing-master/datasets/'\n",
    "    modelpath = '/home/sharan/Desktop/OptionPricing-master/pickles/'\n",
    "\n",
    "\n",
    "\n",
    "nfty = filepath + 'NIFTY50_feature_set_COV_complete.csv'\n",
    "nfty_ecdf = filepath + 'NIFTY50_feature_set_ECDF_complete.csv'\n",
    "    \n",
    "bnfty = filepath + 'BANKNIFTY_feature_set_COV_complete.csv'\n",
    "bnfty_ecdf = filepath + 'BANKNIFTY_feature_set_ECDF_complete.csv'\n"
   ]
  },
  {
   "cell_type": "code",
   "execution_count": 3,
   "metadata": {},
   "outputs": [
    {
     "name": "stdout",
     "output_type": "stream",
     "text": [
      "Approach var set to :: 3\n"
     ]
    }
   ],
   "source": [
    "# Set the automated variables + Plus drop all useless columns approach specific\n",
    "\n",
    "\n",
    "###########################\n",
    "###############################################\n",
    "\n",
    "approach = 3                     #------------------>>> # Change value as needed\n",
    "\n",
    "###############################################\n",
    "###########################\n",
    "\n",
    "\n",
    "if (approach == 1):\n",
    "    n_feats = pd.read_csv(nfty_ecdf)\n",
    "    print ('Approach var set to ECDF')\n",
    "    \n",
    "    dropNames = ['date', 'percentage','strike','spot','opPrice']\n",
    "    \n",
    "    b_feats = pd.read_csv(bnfty_ecdf)\n",
    "    \n",
    "else:\n",
    "    n_feats = pd.read_csv(nfty)\n",
    "    print ('Approach var set to :: '+ str(approach))\n",
    "    \n",
    "    b_feats = pd.read_csv(bnfty)\n",
    "    \n",
    "    if (approach == 2):\n",
    "        dropNames= ['date', 'percentage','strike','spot','opPrice','change_oi','ts_atr','prevOp','avg_atmError']\n",
    "        \n",
    "    else:\n",
    "        dropNames= ['date', 'percentage','strike','spot','opPrice','ts_atr','change_oi']\n",
    "        \n",
    "###################\n",
    "  "
   ]
  },
  {
   "cell_type": "code",
   "execution_count": 4,
   "metadata": {},
   "outputs": [],
   "source": [
    "n_feats = n_feats.drop(dropNames, axis = 1)\n",
    "b_feats = b_feats.drop(dropNames, axis = 1)"
   ]
  },
  {
   "cell_type": "code",
   "execution_count": 5,
   "metadata": {},
   "outputs": [],
   "source": [
    "diff = len(b_feats)-len(n_feats)\n",
    "b_feats = b_feats.iloc[diff:, :]\n",
    "b_feats = b_feats.reset_index(drop=True)"
   ]
  },
  {
   "cell_type": "code",
   "execution_count": 6,
   "metadata": {},
   "outputs": [],
   "source": [
    "\n",
    "feats = n_feats.append(b_feats, ignore_index=True)\n",
    "\n",
    "X=feats.iloc[:,:-1]\n",
    "Y=feats.loc[:,'Target']  "
   ]
  },
  {
   "cell_type": "code",
   "execution_count": 7,
   "metadata": {},
   "outputs": [
    {
     "data": {
      "text/plain": [
       "OneHotEncoder(categories='auto', drop=None, dtype=<class 'numpy.float64'>,\n",
       "              handle_unknown='error', sparse=False)"
      ]
     },
     "execution_count": 7,
     "metadata": {},
     "output_type": "execute_result"
    }
   ],
   "source": [
    "featNames = list(X)  \n",
    "scaler = RobustScaler()\n",
    "X = scaler.fit_transform(X)\n",
    "X = pd.DataFrame(X, columns = featNames)\n",
    "\n",
    "onehot = OneHotEncoder(sparse=False)\n",
    "Y = Y.values\n",
    "Y = Y.reshape(len(Y), 1)\n",
    "onehot.fit(Y)"
   ]
  },
  {
   "cell_type": "code",
   "execution_count": 8,
   "metadata": {},
   "outputs": [
    {
     "name": "stdout",
     "output_type": "stream",
     "text": [
      "X & Y_Dim of Train is (21626, 19) (21626, 50)\n",
      "X & Y_Dim of Test is (5406, 19) (5406, 50)\n"
     ]
    }
   ],
   "source": [
    "# Split the train and test sets without random optimizations\n",
    "\n",
    "\n",
    "a = len(n_feats)\n",
    "split_val = round(a*0.8)\n",
    "\n",
    "# Removing the Random splits\n",
    "\n",
    "Ntrain = n_feats.iloc[0:split_val, :]\n",
    "Ntest = n_feats.iloc[split_val:, :]\n",
    "\n",
    "b = len(b_feats)\n",
    "split_val = round(b*0.8)\n",
    "\n",
    "# Removing the Random splits\n",
    "\n",
    "Btrain = b_feats.iloc[0:split_val, :]\n",
    "Btest = b_feats.iloc[split_val:, :]\n",
    "\n",
    "\n",
    "train = Ntrain.append(Btrain, ignore_index=True)\n",
    "\n",
    "train = train.sample(frac=1).reset_index(drop=True)\n",
    "\n",
    "test = Ntest.append(Btest, ignore_index=True)\n",
    "\n",
    "test = test.sample(frac=1).reset_index(drop=True)\n",
    "\n",
    "X_train=train.iloc[:,:-1]\n",
    "X_train = scaler.transform(X_train)\n",
    "X_train = pd.DataFrame(X_train, columns = featNames)\n",
    "Y_train=train.loc[:,'Target']\n",
    "Y_train = Y_train.values\n",
    "Y_train = Y_train.reshape(len(Y_train), 1)\n",
    "Y_train = onehot.transform(Y_train)\n",
    "\n",
    "X_test=test.iloc[:,:-1]\n",
    "X_test = scaler.transform(X_test)\n",
    "X_test = pd.DataFrame(X_test, columns = featNames)\n",
    "Y_test=test.loc[:,'Target']\n",
    "Y_test = Y_test.values\n",
    "Y_test = Y_test.reshape(len(Y_test), 1)\n",
    "Y_test = onehot.transform(Y_test)\n",
    "\n",
    "print ('X & Y_Dim of Train is', X_train.shape, Y_train.shape)\n",
    "print ('X & Y_Dim of Test is', X_test.shape, Y_test.shape)"
   ]
  },
  {
   "cell_type": "code",
   "execution_count": 9,
   "metadata": {},
   "outputs": [
    {
     "name": "stdout",
     "output_type": "stream",
     "text": [
      "_________________________________________________________________\n",
      "Layer (type)                 Output Shape              Param #   \n",
      "=================================================================\n",
      "dense_1 (Dense)              (None, 128)               2560      \n",
      "_________________________________________________________________\n",
      "dense_2 (Dense)              (None, 64)                8256      \n",
      "_________________________________________________________________\n",
      "dense_3 (Dense)              (None, 50)                3250      \n",
      "=================================================================\n",
      "Total params: 14,066\n",
      "Trainable params: 14,066\n",
      "Non-trainable params: 0\n",
      "_________________________________________________________________\n",
      "Train on 21626 samples, validate on 5406 samples\n",
      "Epoch 1/45\n",
      "21626/21626 [==============================] - 2s 99us/step - loss: 3.6634 - acc: 0.0672 - val_loss: 3.3195 - val_acc: 0.0810\n",
      "Epoch 2/45\n",
      "21626/21626 [==============================] - 1s 65us/step - loss: 3.1506 - acc: 0.0976 - val_loss: 2.9516 - val_acc: 0.1080\n",
      "Epoch 3/45\n",
      "21626/21626 [==============================] - 2s 84us/step - loss: 2.8749 - acc: 0.1347 - val_loss: 2.7318 - val_acc: 0.1596\n",
      "Epoch 4/45\n",
      "21626/21626 [==============================] - 1s 64us/step - loss: 2.6843 - acc: 0.1664 - val_loss: 2.5757 - val_acc: 0.1791\n",
      "Epoch 5/45\n",
      "21626/21626 [==============================] - 1s 66us/step - loss: 2.5420 - acc: 0.1880 - val_loss: 2.4564 - val_acc: 0.2051\n",
      "Epoch 6/45\n",
      "21626/21626 [==============================] - 1s 60us/step - loss: 2.4313 - acc: 0.2104 - val_loss: 2.3569 - val_acc: 0.2151\n",
      "Epoch 7/45\n",
      "21626/21626 [==============================] - 1s 61us/step - loss: 2.3397 - acc: 0.2271 - val_loss: 2.2780 - val_acc: 0.2323\n",
      "Epoch 8/45\n",
      "21626/21626 [==============================] - 2s 72us/step - loss: 2.2619 - acc: 0.2437 - val_loss: 2.2079 - val_acc: 0.2518\n",
      "Epoch 9/45\n",
      "21626/21626 [==============================] - 2s 73us/step - loss: 2.1947 - acc: 0.2595 - val_loss: 2.1496 - val_acc: 0.2664\n",
      "Epoch 10/45\n",
      "21626/21626 [==============================] - 1s 65us/step - loss: 2.1383 - acc: 0.2707 - val_loss: 2.1022 - val_acc: 0.2675\n",
      "Epoch 11/45\n",
      "21626/21626 [==============================] - 1s 64us/step - loss: 2.0898 - acc: 0.2814 - val_loss: 2.0644 - val_acc: 0.2712\n",
      "Epoch 12/45\n",
      "21626/21626 [==============================] - 1s 66us/step - loss: 2.0485 - acc: 0.2912 - val_loss: 2.0258 - val_acc: 0.2808\n",
      "Epoch 13/45\n",
      "21626/21626 [==============================] - 1s 67us/step - loss: 2.0113 - acc: 0.2920 - val_loss: 1.9972 - val_acc: 0.2865\n",
      "Epoch 14/45\n",
      "21626/21626 [==============================] - 1s 69us/step - loss: 1.9799 - acc: 0.3040 - val_loss: 1.9735 - val_acc: 0.2893\n",
      "Epoch 15/45\n",
      "21626/21626 [==============================] - 2s 70us/step - loss: 1.9529 - acc: 0.3079 - val_loss: 1.9506 - val_acc: 0.2863\n",
      "Epoch 16/45\n",
      "21626/21626 [==============================] - 1s 66us/step - loss: 1.9294 - acc: 0.3136 - val_loss: 1.9352 - val_acc: 0.2839\n",
      "Epoch 17/45\n",
      "21626/21626 [==============================] - 1s 68us/step - loss: 1.9085 - acc: 0.3145 - val_loss: 1.9194 - val_acc: 0.2912\n",
      "Epoch 18/45\n",
      "21626/21626 [==============================] - 1s 66us/step - loss: 1.8902 - acc: 0.3186 - val_loss: 1.9040 - val_acc: 0.2858\n",
      "Epoch 19/45\n",
      "21626/21626 [==============================] - 2s 83us/step - loss: 1.8726 - acc: 0.3271 - val_loss: 1.8959 - val_acc: 0.2825\n",
      "Epoch 20/45\n",
      "21626/21626 [==============================] - 1s 60us/step - loss: 1.8579 - acc: 0.3251 - val_loss: 1.8823 - val_acc: 0.2893\n",
      "Epoch 21/45\n",
      "21626/21626 [==============================] - 1s 58us/step - loss: 1.8437 - acc: 0.3289 - val_loss: 1.8704 - val_acc: 0.2939\n",
      "Epoch 22/45\n",
      "21626/21626 [==============================] - 1s 58us/step - loss: 1.8319 - acc: 0.3289 - val_loss: 1.8623 - val_acc: 0.2960\n",
      "Epoch 23/45\n",
      "21626/21626 [==============================] - 1s 58us/step - loss: 1.8202 - acc: 0.3332 - val_loss: 1.8591 - val_acc: 0.2937\n",
      "Epoch 24/45\n",
      "21626/21626 [==============================] - 1s 58us/step - loss: 1.8102 - acc: 0.3325 - val_loss: 1.8506 - val_acc: 0.2952\n",
      "Epoch 25/45\n",
      "21626/21626 [==============================] - 1s 58us/step - loss: 1.7994 - acc: 0.3385 - val_loss: 1.8459 - val_acc: 0.2945\n",
      "Epoch 26/45\n",
      "21626/21626 [==============================] - 1s 58us/step - loss: 1.7897 - acc: 0.3408 - val_loss: 1.8478 - val_acc: 0.2943\n",
      "Epoch 27/45\n",
      "21626/21626 [==============================] - 1s 63us/step - loss: 1.7810 - acc: 0.3434 - val_loss: 1.8367 - val_acc: 0.2969\n",
      "Epoch 28/45\n",
      "21626/21626 [==============================] - 2s 80us/step - loss: 1.7741 - acc: 0.3435 - val_loss: 1.8327 - val_acc: 0.3011\n",
      "Epoch 29/45\n",
      "21626/21626 [==============================] - 1s 64us/step - loss: 1.7664 - acc: 0.3449 - val_loss: 1.8353 - val_acc: 0.2969\n",
      "Epoch 30/45\n",
      "21626/21626 [==============================] - 1s 63us/step - loss: 1.7577 - acc: 0.3485 - val_loss: 1.8328 - val_acc: 0.2941\n",
      "Epoch 31/45\n",
      "21626/21626 [==============================] - 1s 64us/step - loss: 1.7521 - acc: 0.3483 - val_loss: 1.8288 - val_acc: 0.2993\n",
      "Epoch 32/45\n",
      "21626/21626 [==============================] - 1s 64us/step - loss: 1.7449 - acc: 0.3479 - val_loss: 1.8271 - val_acc: 0.2958\n",
      "Epoch 33/45\n",
      "21626/21626 [==============================] - 2s 71us/step - loss: 1.7398 - acc: 0.3493 - val_loss: 1.8206 - val_acc: 0.3004\n",
      "Epoch 34/45\n",
      "21626/21626 [==============================] - 2s 73us/step - loss: 1.7335 - acc: 0.3542 - val_loss: 1.8158 - val_acc: 0.3043\n",
      "Epoch 35/45\n",
      "21626/21626 [==============================] - 1s 64us/step - loss: 1.7272 - acc: 0.3589 - val_loss: 1.8156 - val_acc: 0.3041\n",
      "Epoch 36/45\n",
      "21626/21626 [==============================] - 1s 66us/step - loss: 1.7212 - acc: 0.3589 - val_loss: 1.8179 - val_acc: 0.2999\n",
      "Epoch 37/45\n",
      "21626/21626 [==============================] - 1s 67us/step - loss: 1.7164 - acc: 0.3574 - val_loss: 1.8154 - val_acc: 0.2995\n",
      "Epoch 38/45\n",
      "21626/21626 [==============================] - 1s 65us/step - loss: 1.7113 - acc: 0.3574 - val_loss: 1.8167 - val_acc: 0.2954\n",
      "Epoch 39/45\n",
      "21626/21626 [==============================] - 1s 65us/step - loss: 1.7066 - acc: 0.3616 - val_loss: 1.8192 - val_acc: 0.2937\n",
      "Epoch 40/45\n",
      "21626/21626 [==============================] - 1s 67us/step - loss: 1.7011 - acc: 0.3599 - val_loss: 1.8107 - val_acc: 0.3013\n",
      "Epoch 41/45\n",
      "21626/21626 [==============================] - 1s 68us/step - loss: 1.6970 - acc: 0.3628 - val_loss: 1.8139 - val_acc: 0.2947\n",
      "Epoch 42/45\n",
      "21626/21626 [==============================] - 1s 67us/step - loss: 1.6925 - acc: 0.3627 - val_loss: 1.8145 - val_acc: 0.2978\n",
      "Epoch 43/45\n",
      "21626/21626 [==============================] - 1s 66us/step - loss: 1.6888 - acc: 0.3614 - val_loss: 1.8076 - val_acc: 0.2984\n",
      "Epoch 44/45\n",
      "21626/21626 [==============================] - 1s 66us/step - loss: 1.6850 - acc: 0.3641 - val_loss: 1.8152 - val_acc: 0.2952\n",
      "Epoch 45/45\n",
      "21626/21626 [==============================] - 1s 66us/step - loss: 1.6806 - acc: 0.3659 - val_loss: 1.8127 - val_acc: 0.2967\n"
     ]
    }
   ],
   "source": [
    "opt=optimizers.Adam(lr=0.00012);\n",
    "model = keras.models.Sequential()\n",
    "model.add(keras.layers.Dense(units=128, activation='relu',input_dim=X_train.shape[1]))\n",
    "# model.add(keras.layers.Dropout(0.5))\n",
    "# model.add(keras.layers.Dense(units=128, activation='relu'))\n",
    "# model.add(keras.layers.Dropout(0.6))\n",
    "model.add(keras.layers.Dense(units=64, activation='relu'))\n",
    "# model.add(keras.layers.Dropout(0.6))\n",
    "model.add(keras.layers.Dense(units=50, activation='softmax'))\n",
    "model.summary()\n",
    "model.compile(loss='categorical_crossentropy',\n",
    "  optimizer=opt,\n",
    "  metrics=['accuracy'],)\n",
    "history=model.fit(X_train, Y_train,\n",
    "  batch_size=32,\n",
    "  epochs=45,\n",
    "  verbose=1,\n",
    "#   class_weight=class_weights,\n",
    "  validation_data=(X_test, Y_test),\n",
    "  shuffle=True)"
   ]
  },
  {
   "cell_type": "code",
   "execution_count": 10,
   "metadata": {},
   "outputs": [
    {
     "data": {
      "image/png": "[encoded data removed]",
      "text/plain": [
       "<matplotlib.figure.Figure at 0x7fe3680e3c88>"
      ]
     },
     "metadata": {},
     "output_type": "display_data"
    },
    {
     "data": {
      "image/png": "[encoded data removed]",
      "text/plain": [
       "<matplotlib.figure.Figure at 0x7fe3680e04e0>"
      ]
     },
     "metadata": {},
     "output_type": "display_data"
    }
   ],
   "source": [
    "plt.plot(history.history['acc'])\n",
    "plt.plot(history.history['val_acc'])\n",
    "plt.title('model accuracy')\n",
    "plt.ylabel('accuracy')\n",
    "plt.xlabel('epoch')\n",
    "plt.legend(['train', 'test'], loc='upper left')\n",
    "plt.show()\n",
    "plt.plot(history.history['loss'])\n",
    "plt.plot(history.history['val_loss'])\n",
    "plt.title('model loss')\n",
    "plt.ylabel('loss')\n",
    "plt.xlabel('epoch')\n",
    "plt.legend(['train', 'test'], loc='upper left')\n",
    "plt.show()"
   ]
  },
  {
   "cell_type": "code",
   "execution_count": 11,
   "metadata": {},
   "outputs": [
    {
     "name": "stdout",
     "output_type": "stream",
     "text": [
      "Test accuracy: 29.67073622452873\n"
     ]
    }
   ],
   "source": [
    "score = model.evaluate(X_test, Y_test, verbose=0)\n",
    "print('Test accuracy:', score[1]*100)\n",
    "\n",
    "Y_pred=model.predict(X_test)\n",
    "Y_pred=np.argmax(Y_pred,axis=1)"
   ]
  },
  {
   "cell_type": "code",
   "execution_count": 12,
   "metadata": {},
   "outputs": [
    {
     "name": "stdout",
     "output_type": "stream",
     "text": [
      "0.13375878653348133\n"
     ]
    }
   ],
   "source": [
    "OGY_test=onehot.inverse_transform(Y_test)\n",
    "# OGY_test=sum(OGY_test, [])\n",
    "OGY_test=OGY_test.ravel()\n",
    "# print(OGY_test)\n",
    "\n",
    "# # Check if Binwidth value exists\n",
    "maxVal=5\n",
    "minVal=0\n",
    "\n",
    "width = maxVal - minVal\n",
    "\n",
    "num_bins = 50\n",
    "\n",
    "\n",
    "bin_width = width/num_bins\n",
    "# print(bin_width)\n",
    "\n",
    "# Normalized Error Metric (NEM)\n",
    "\n",
    "dist_sum = 0\n",
    "for i in range(len(Y_pred)):\n",
    "    dist = abs(Y_pred[i] - OGY_test[i])\n",
    "    dist_sum = dist_sum + dist\n",
    "    \n",
    "print((dist_sum*bin_width)/len(Y_test))"
   ]
  },
  {
   "cell_type": "markdown",
   "metadata": {},
   "source": [
    "# Testing BNF+NF on NF and BNF separately "
   ]
  },
  {
   "cell_type": "code",
   "execution_count": 13,
   "metadata": {},
   "outputs": [
    {
     "name": "stdout",
     "output_type": "stream",
     "text": [
      "NEM :: 0.12489826119126897\n"
     ]
    }
   ],
   "source": [
    "nf_Ytest = Ntest.loc[:, 'Target']\n",
    "nf_Xtest = Ntest.iloc[:, :-1]\n",
    "\n",
    "featNames = list(nf_Xtest)\n",
    "\n",
    "nf_Xtest = scaler.transform(nf_Xtest)\n",
    "# nf_Ytest = onehot.transform(nf_Ytest)\n",
    "\n",
    "nf_Xtest = pd.DataFrame(nf_Xtest, columns = featNames)\n",
    "\n",
    "\n",
    "pred = model.predict(nf_Xtest)\n",
    "\n",
    "pred = np.argmax(pred,axis=1)\n",
    "\n",
    "nf_Ytest=nf_Ytest.tolist()\n",
    "\n",
    "dist_sum = 0\n",
    "for i in range(len(pred)):\n",
    "    dist = abs(pred[i] - nf_Ytest[i])\n",
    "    dist_sum = dist_sum + dist\n",
    "    \n",
    "print(\"NEM ::\", (dist_sum*bin_width)/len(nf_Ytest))\n"
   ]
  },
  {
   "cell_type": "code",
   "execution_count": 14,
   "metadata": {},
   "outputs": [
    {
     "name": "stdout",
     "output_type": "stream",
     "text": [
      "NEM :: 0.14261931187569368\n"
     ]
    }
   ],
   "source": [
    "## BNF\n",
    "\n",
    "\n",
    "bnf_Ytest = Btest.loc[:, 'Target']\n",
    "bnf_Xtest = Btest.iloc[:, :-1]\n",
    "\n",
    "featNames = list(bnf_Xtest)\n",
    "\n",
    "bnf_Xtest = scaler.transform(bnf_Xtest)\n",
    "# bnf_Ytest = onehot.transform(bnf_Ytest)\n",
    "\n",
    "bnf_Xtest = pd.DataFrame(bnf_Xtest, columns = featNames)\n",
    "\n",
    "\n",
    "pred = model.predict(bnf_Xtest)\n",
    "\n",
    "pred = np.argmax(pred,axis=1)\n",
    "\n",
    "bnf_Ytest=bnf_Ytest.tolist()\n",
    "\n",
    "dist_sum = 0\n",
    "for i in range(len(pred)):\n",
    "    dist = abs(pred[i] - bnf_Ytest[i])\n",
    "    dist_sum = dist_sum + dist\n",
    "    \n",
    "print(\"NEM ::\", (dist_sum*bin_width)/len(bnf_Ytest))\n"
   ]
  }
 ],
 "metadata": {
  "kernelspec": {
   "display_name": "Python 3",
   "language": "python",
   "name": "python3"
  },
  "language_info": {
   "codemirror_mode": {
    "name": "ipython",
    "version": 3
   },
   "file_extension": ".py",
   "mimetype": "text/x-python",
   "name": "python",
   "nbconvert_exporter": "python",
   "pygments_lexer": "ipython3",
   "version": "3.6.6"
  }
 },
 "nbformat": 4,
 "nbformat_minor": 2
}
