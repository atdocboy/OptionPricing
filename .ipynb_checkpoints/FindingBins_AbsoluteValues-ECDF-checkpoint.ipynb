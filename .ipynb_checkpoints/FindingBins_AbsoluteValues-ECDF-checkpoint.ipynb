{
 "cells": [
  {
   "cell_type": "code",
   "execution_count": 27,
   "metadata": {},
   "outputs": [],
   "source": [
    "import pandas as pd\n",
    "import numpy as np\n",
    "from sklearn.utils import class_weight\n",
    "from sklearn.preprocessing import StandardScaler,MinMaxScaler"
   ]
  },
  {
   "cell_type": "code",
   "execution_count": 28,
   "metadata": {},
   "outputs": [],
   "source": [
    "# Path settings\n",
    "\n",
    "path_var = 1 \n",
    "\n",
    "if (path_var == 1):\n",
    "    filepath = '/home/docboy/Desktop/Option_Pricing/datasets/'\n",
    "\n",
    "else:\n",
    "    filepath = '/home/sharan/Desktop/Option_Pricing/datasets/'"
   ]
  },
  {
   "cell_type": "code",
   "execution_count": 29,
   "metadata": {},
   "outputs": [],
   "source": [
    "data = pd.read_csv(filepath + 'BANKNIFTY_feature_set_ECDF_STEP_2.csv')\n",
    "\n",
    "# data = pd.read_csv(filepath + 'NIFTY50_feature_set_ECDF_STEP_2.csv')"
   ]
  },
  {
   "cell_type": "code",
   "execution_count": 30,
   "metadata": {},
   "outputs": [],
   "source": [
    "data=data.loc[data['ttm']>3,:]\n",
    "data=data.loc[data['ttm']<=45,:]\n",
    "bound=np.percentile(data['percentage'],100)\n",
    "data=data.loc[data['percentage']<bound]"
   ]
  },
  {
   "cell_type": "code",
   "execution_count": 31,
   "metadata": {},
   "outputs": [
    {
     "data": {
      "text/plain": [
       "20416"
      ]
     },
     "execution_count": 31,
     "metadata": {},
     "output_type": "execute_result"
    }
   ],
   "source": [
    "len(data)\n",
    "# if (data.loc[:, 'percentage'] >= 5) is True:\n",
    "#     data.loc[:, 'Date']\n",
    "# data.loc[data[\"percentage\"] >= 5]"
   ]
  },
  {
   "cell_type": "code",
   "execution_count": 32,
   "metadata": {},
   "outputs": [
    {
     "data": {
      "text/plain": [
       "array([[<matplotlib.axes._subplots.AxesSubplot object at 0x7f7571a33908>]],\n",
       "      dtype=object)"
      ]
     },
     "execution_count": 32,
     "metadata": {},
     "output_type": "execute_result"
    },
    {
     "data": {
      "image/png": "[encoded data removed]",
      "text/plain": [
       "<Figure size 432x288 with 1 Axes>"
      ]
     },
     "metadata": {
      "needs_background": "light"
     },
     "output_type": "display_data"
    }
   ],
   "source": [
    "# original Data\n",
    "data.hist(column='percentage', bins =50)"
   ]
  },
  {
   "cell_type": "code",
   "execution_count": 33,
   "metadata": {},
   "outputs": [],
   "source": [
    "maxVal=5\n",
    "minVal=0"
   ]
  },
  {
   "cell_type": "code",
   "execution_count": 34,
   "metadata": {},
   "outputs": [
    {
     "name": "stdout",
     "output_type": "stream",
     "text": [
      "20416\n"
     ]
    }
   ],
   "source": [
    "print(len(data))"
   ]
  },
  {
   "cell_type": "code",
   "execution_count": 35,
   "metadata": {},
   "outputs": [
    {
     "name": "stdout",
     "output_type": "stream",
     "text": [
      "0.1\n"
     ]
    }
   ],
   "source": [
    "bins=50\n",
    "\n",
    "step=(maxVal-minVal)/bins\n",
    "print(step)"
   ]
  },
  {
   "cell_type": "code",
   "execution_count": 36,
   "metadata": {
    "scrolled": true
   },
   "outputs": [
    {
     "name": "stdout",
     "output_type": "stream",
     "text": [
      "[0.0, 0.1, 0.2, 0.30000000000000004, 0.4, 0.5, 0.6000000000000001, 0.7000000000000001, 0.8, 0.9, 1.0, 1.1, 1.2000000000000002, 1.3, 1.4000000000000001, 1.5, 1.6, 1.7000000000000002, 1.8, 1.9000000000000001, 2.0, 2.1, 2.2, 2.3000000000000003, 2.4000000000000004, 2.5, 2.6, 2.7, 2.8000000000000003, 2.9000000000000004, 3.0, 3.1, 3.2, 3.3000000000000003, 3.4000000000000004, 3.5, 3.6, 3.7, 3.8000000000000003, 3.9000000000000004, 4.0, 4.1000000000000005, 4.2, 4.3, 4.4, 4.5, 4.6000000000000005, 4.7, 4.800000000000001, 4.9]\n"
     ]
    }
   ],
   "source": [
    "# print(step)\n",
    "thresh=[]\n",
    "for i in range(0,bins):\n",
    "    val=(minVal+(i*step))\n",
    "    val=val\n",
    "    thresh.append(val)\n",
    "    \n",
    "print(thresh)"
   ]
  },
  {
   "cell_type": "code",
   "execution_count": 37,
   "metadata": {
    "scrolled": true
   },
   "outputs": [
    {
     "name": "stdout",
     "output_type": "stream",
     "text": [
      "Class 49:\n",
      "346\n",
      "Class 48:\n",
      "89\n",
      "Class 47:\n",
      "89\n",
      "Class 46:\n",
      "79\n",
      "Class 45:\n",
      "103\n",
      "Class 44:\n",
      "125\n",
      "Class 43:\n",
      "158\n",
      "Class 42:\n",
      "153\n",
      "Class 41:\n",
      "180\n",
      "Class 40:\n",
      "196\n",
      "Class 39:\n",
      "196\n",
      "Class 38:\n",
      "216\n",
      "Class 37:\n",
      "208\n",
      "Class 36:\n",
      "229\n",
      "Class 35:\n",
      "265\n",
      "Class 34:\n",
      "204\n",
      "Class 33:\n",
      "273\n",
      "Class 32:\n",
      "282\n",
      "Class 31:\n",
      "262\n",
      "Class 30:\n",
      "293\n",
      "Class 29:\n",
      "304\n",
      "Class 28:\n",
      "297\n",
      "Class 27:\n",
      "317\n",
      "Class 26:\n",
      "338\n",
      "Class 25:\n",
      "364\n",
      "Class 24:\n",
      "330\n",
      "Class 23:\n",
      "408\n",
      "Class 22:\n",
      "377\n",
      "Class 21:\n",
      "384\n",
      "Class 20:\n",
      "449\n",
      "Class 19:\n",
      "403\n",
      "Class 18:\n",
      "437\n",
      "Class 17:\n",
      "430\n",
      "Class 16:\n",
      "466\n",
      "Class 15:\n",
      "480\n",
      "Class 14:\n",
      "532\n",
      "Class 13:\n",
      "507\n",
      "Class 12:\n",
      "553\n",
      "Class 11:\n",
      "550\n",
      "Class 10:\n",
      "577\n",
      "Class 9:\n",
      "582\n",
      "Class 8:\n",
      "628\n",
      "Class 7:\n",
      "635\n",
      "Class 6:\n",
      "681\n",
      "Class 5:\n",
      "689\n",
      "Class 4:\n",
      "733\n",
      "Class 3:\n",
      "825\n",
      "Class 2:\n",
      "885\n",
      "Class 1:\n",
      "1011\n",
      "Class 0:\n",
      "1298\n"
     ]
    }
   ],
   "source": [
    "Target=[-1] * len(data)\n",
    "data['Target']=Target\n",
    "\n",
    "for i in range(len(thresh)-1,-1,-1):\n",
    "    data.loc[np.logical_and(data['percentage']>=thresh[i],data['Target']==-1),'Target']=i\n",
    "    print(\"Class {}:\".format(i))\n",
    "    print(len(data.loc[data['Target']==i]))\n",
    "#     print(len(data.loc[data['Target']==i])/len(data)*100)\n",
    "\n",
    "data = data.dropna()"
   ]
  },
  {
   "cell_type": "code",
   "execution_count": 38,
   "metadata": {},
   "outputs": [],
   "source": [
    "data.to_csv(filepath + 'BANKNIFTY_feature_set_ECDF_complete.csv', index =  False)\n",
    "\n",
    "\n",
    "# data.to_csv(filepath + 'NIFTY50_feature_set_ECDF_complete.csv', index =  False)"
   ]
  }
 ],
 "metadata": {
  "kernelspec": {
   "display_name": "Python 3",
   "language": "python",
   "name": "python3"
  },
  "language_info": {
   "codemirror_mode": {
    "name": "ipython",
    "version": 3
   },
   "file_extension": ".py",
   "mimetype": "text/x-python",
   "name": "python",
   "nbconvert_exporter": "python",
   "pygments_lexer": "ipython3",
   "version": "3.7.3"
  }
 },
 "nbformat": 4,
 "nbformat_minor": 2
}
