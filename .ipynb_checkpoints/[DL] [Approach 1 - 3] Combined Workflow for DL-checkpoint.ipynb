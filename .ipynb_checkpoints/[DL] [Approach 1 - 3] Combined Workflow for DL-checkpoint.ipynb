{
 "cells": [
  {
   "cell_type": "code",
   "execution_count": 1,
   "metadata": {},
   "outputs": [
    {
     "name": "stderr",
     "output_type": "stream",
     "text": [
      "Using TensorFlow backend.\n"
     ]
    }
   ],
   "source": [
    "import numpy as np\n",
    "import matplotlib.pyplot as plt\n",
    "from scipy import stats\n",
    "import pandas as pd\n",
    "import math\n",
    "import keras\n",
    "from sklearn.model_selection import train_test_split\n",
    "from keras.callbacks import EarlyStopping\n",
    "from sklearn.preprocessing import StandardScaler,MinMaxScaler,RobustScaler\n",
    "from sklearn.utils import class_weight\n",
    "from keras import optimizers\n",
    "from sklearn.preprocessing import OneHotEncoder\n",
    "import matplotlib.pyplot as plt\n",
    "from keras.models import load_model\n",
    "import joblib\n",
    "# import py_vollib.black_scholes.implied_volatility\n",
    "import multiprocessing\n",
    "from multiprocessing import Pool\n",
    "import os\n",
    "import py_vollib.black_scholes.implied_volatility as vb\n",
    "import statistics\n",
    "%matplotlib inline"
   ]
  },
  {
   "cell_type": "code",
   "execution_count": 2,
   "metadata": {},
   "outputs": [],
   "source": [
    "# Path settings\n",
    "\n",
    "\n",
    "path_var = 1 \n",
    "\n",
    "if (path_var == 1):\n",
    "    filepath = '/home/docboy/Desktop/Option_Pricing/datasets/'\n",
    "    modelpath = '/home/docboy/Desktop/Option_Pricing/pickles/'\n",
    "\n",
    "\n",
    "else:\n",
    "    filepath = '/home/sharan/Desktop/OptionPricing-master/datasets/'\n",
    "    modelpath = '/home/sharan/Desktop/OptionPricing-master/pickles/'\n",
    "\n",
    "\n",
    "\n",
    "nfty = filepath + 'NIFTY50_feature_set_COV_complete.csv'\n",
    "nfty_ecdf = filepath + 'NIFTY50_feature_set_ECDF_complete.csv'\n",
    "\n",
    "nfty_ecdf_19_20 = filepath + 'NIFTY50_feature_set_ECDF_complete.csv'\n",
    "    \n",
    "bnfty = filepath + 'BANKNIFTY_feature_set_COV_complete.csv'\n",
    "bnfty_ecdf = filepath + 'BANKNIFTY_feature_set_ECDF_complete.csv'\n"
   ]
  },
  {
   "cell_type": "code",
   "execution_count": 3,
   "metadata": {},
   "outputs": [
    {
     "name": "stdout",
     "output_type": "stream",
     "text": [
      "Approach var set to ECDF\n"
     ]
    }
   ],
   "source": [
    "# Set the automated variables + Plus drop all useless columns approach specific\n",
    "\n",
    "\n",
    "###########################\n",
    "###############################################\n",
    "\n",
    "approach = 1                      #------------------>>> # Change value as needed\n",
    "\n",
    "###############################################\n",
    "###########################\n",
    "\n",
    "\n",
    "if (approach == 1):\n",
    "    feats = pd.read_csv(nfty_ecdf)\n",
    "    print ('Approach var set to ECDF')\n",
    "    \n",
    "    dropNames = ['date','percentage','strike','spot','opPrice']\n",
    "    \n",
    "    b_feats = pd.read_csv(bnfty_ecdf)\n",
    "    \n",
    "else:\n",
    "    feats = pd.read_csv(nfty)\n",
    "    print ('Approach var set to :: '+ str(approach))\n",
    "    \n",
    "    b_feats = pd.read_csv(bnfty)\n",
    "    \n",
    "    if (approach == 2):\n",
    "        dropNames= ['date','percentage','strike','spot','opPrice','change_oi','ts_atr','prevOp','avg_atmError']\n",
    "        \n",
    "    else:\n",
    "        dropNames= ['date', 'percentage','strike','spot','opPrice','ts_atr','change_oi']\n",
    "        \n",
    "###################\n",
    "\n",
    "X=feats.iloc[:,:-1]\n",
    "Y=feats.loc[:,'Target']\n",
    "X = X.drop(dropNames, axis = 1)    "
   ]
  },
  {
   "cell_type": "code",
   "execution_count": 4,
   "metadata": {},
   "outputs": [
    {
     "data": {
      "text/plain": [
       "Index(['f1', 'f2', 'f3', 'f4', 'f5', 'f6', 'f7', 'f8', 'f9', 'f10', 'f11',\n",
       "       'f12', 'f13', 'f14', 'f15', 'f16', 'f17', 'f18', 'f19', 'ttm',\n",
       "       'atmError', 'yield03'],\n",
       "      dtype='object')"
      ]
     },
     "execution_count": 4,
     "metadata": {},
     "output_type": "execute_result"
    }
   ],
   "source": [
    "X.columns"
   ]
  },
  {
   "cell_type": "code",
   "execution_count": 5,
   "metadata": {},
   "outputs": [],
   "source": [
    "# Start the scaling process\n",
    "\n",
    "featNames = list(X)  \n",
    "scaler = RobustScaler()\n",
    "X = scaler.fit_transform(X)\n",
    "X = pd.DataFrame(X, columns = featNames)\n"
   ]
  },
  {
   "cell_type": "code",
   "execution_count": 6,
   "metadata": {},
   "outputs": [],
   "source": [
    "# # # Save the scalar file\n",
    "# joblib.dump(scaler, modelpath + 'DL_SCALER_NIFTY_0.02_Expt' + str(approach) + '.model')\n",
    "# print(\"Scaler saved to path ::\", modelpath + 'DL_SCALER_NIFTY_0.02_Expt' + str(approach) + '.model' )"
   ]
  },
  {
   "cell_type": "code",
   "execution_count": 7,
   "metadata": {},
   "outputs": [],
   "source": [
    "onehot = OneHotEncoder(sparse=False)\n",
    "Y = Y.values\n",
    "Y = Y.reshape(len(Y), 1)\n",
    "Y = onehot.fit_transform(Y)\n",
    "# joblib.dump(onehot, modelpath + 'DL_ONEHOT_NIFTY_0.02_Expt' + str(approach) + '.model')"
   ]
  },
  {
   "cell_type": "code",
   "execution_count": 8,
   "metadata": {},
   "outputs": [
    {
     "name": "stdout",
     "output_type": "stream",
     "text": [
      "X & Y_Dim of Train is (10838, 22) (10838, 50)\n",
      "X & Y_Dim of Test is (2679, 22) (2679, 50)\n"
     ]
    }
   ],
   "source": [
    "import datetime\n",
    "feats['date'] = pd.to_datetime(feats['date'])\n",
    "test=feats[(feats['date']>=datetime.datetime(2017,10,1))]\n",
    "split_val = test.index[0]\n",
    "\n",
    "X_train = X.iloc[0:split_val, :]\n",
    "X_test = X.iloc[split_val:, :]\n",
    "Y_train = Y[:split_val]\n",
    "Y_test = Y[split_val:]\n",
    "print ('X & Y_Dim of Train is', X_train.shape, Y_train.shape)\n",
    "print ('X & Y_Dim of Test is', X_test.shape, Y_test.shape)"
   ]
  },
  {
   "cell_type": "code",
   "execution_count": 48,
   "metadata": {},
   "outputs": [
    {
     "name": "stdout",
     "output_type": "stream",
     "text": [
      "Model: \"sequential_12\"\n",
      "_________________________________________________________________\n",
      "Layer (type)                 Output Shape              Param #   \n",
      "=================================================================\n",
      "dense_40 (Dense)             (None, 128)               2944      \n",
      "_________________________________________________________________\n",
      "dense_41 (Dense)             (None, 64)                8256      \n",
      "_________________________________________________________________\n",
      "dense_42 (Dense)             (None, 50)                3250      \n",
      "=================================================================\n",
      "Total params: 14,450\n",
      "Trainable params: 14,450\n",
      "Non-trainable params: 0\n",
      "_________________________________________________________________\n",
      "Train on 10838 samples, validate on 2679 samples\n",
      "Epoch 1/40\n",
      "10838/10838 [==============================] - 2s 200us/step - loss: 3.8905 - accuracy: 0.0289 - val_loss: 3.8000 - val_accuracy: 0.0411\n",
      "Epoch 2/40\n",
      "10838/10838 [==============================] - 2s 192us/step - loss: 3.7469 - accuracy: 0.0559 - val_loss: 3.5969 - val_accuracy: 0.0803\n",
      "Epoch 3/40\n",
      "10838/10838 [==============================] - 2s 220us/step - loss: 3.5576 - accuracy: 0.0671 - val_loss: 3.3776 - val_accuracy: 0.0814\n",
      "Epoch 4/40\n",
      "10838/10838 [==============================] - 1s 133us/step - loss: 3.3538 - accuracy: 0.0800 - val_loss: 3.1859 - val_accuracy: 0.0922\n",
      "Epoch 5/40\n",
      "10838/10838 [==============================] - 2s 168us/step - loss: 3.1738 - accuracy: 0.0912 - val_loss: 3.0413 - val_accuracy: 0.1027\n",
      "Epoch 6/40\n",
      "10838/10838 [==============================] - 2s 144us/step - loss: 3.0324 - accuracy: 0.1073 - val_loss: 2.9301 - val_accuracy: 0.1146\n",
      "Epoch 7/40\n",
      "10838/10838 [==============================] - 2s 163us/step - loss: 2.9199 - accuracy: 0.1224 - val_loss: 2.8395 - val_accuracy: 0.1362\n",
      "Epoch 8/40\n",
      "10838/10838 [==============================] - 2s 210us/step - loss: 2.8268 - accuracy: 0.1395 - val_loss: 2.7660 - val_accuracy: 0.1471\n",
      "Epoch 9/40\n",
      "10838/10838 [==============================] - 2s 219us/step - loss: 2.7476 - accuracy: 0.1550 - val_loss: 2.7011 - val_accuracy: 0.1571\n",
      "Epoch 10/40\n",
      "10838/10838 [==============================] - 2s 196us/step - loss: 2.6787 - accuracy: 0.1736 - val_loss: 2.6457 - val_accuracy: 0.1680\n",
      "Epoch 11/40\n",
      "10838/10838 [==============================] - 2s 180us/step - loss: 2.6174 - accuracy: 0.1796 - val_loss: 2.6012 - val_accuracy: 0.1732\n",
      "Epoch 12/40\n",
      "10838/10838 [==============================] - 1s 112us/step - loss: 2.5634 - accuracy: 0.1903 - val_loss: 2.5553 - val_accuracy: 0.1777\n",
      "Epoch 13/40\n",
      "10838/10838 [==============================] - 1s 124us/step - loss: 2.5149 - accuracy: 0.2041 - val_loss: 2.5137 - val_accuracy: 0.1725\n",
      "Epoch 14/40\n",
      "10838/10838 [==============================] - 1s 129us/step - loss: 2.4702 - accuracy: 0.2118 - val_loss: 2.4727 - val_accuracy: 0.1822\n",
      "Epoch 15/40\n",
      "10838/10838 [==============================] - 1s 97us/step - loss: 2.4301 - accuracy: 0.2159 - val_loss: 2.4427 - val_accuracy: 0.1866\n",
      "Epoch 16/40\n",
      "10838/10838 [==============================] - 1s 112us/step - loss: 2.3925 - accuracy: 0.2274 - val_loss: 2.4109 - val_accuracy: 0.1851\n",
      "Epoch 17/40\n",
      "10838/10838 [==============================] - 1s 132us/step - loss: 2.3584 - accuracy: 0.2377 - val_loss: 2.3836 - val_accuracy: 0.1922\n",
      "Epoch 18/40\n",
      "10838/10838 [==============================] - 1s 109us/step - loss: 2.3273 - accuracy: 0.2410 - val_loss: 2.3563 - val_accuracy: 0.2016\n",
      "Epoch 19/40\n",
      "10838/10838 [==============================] - 1s 108us/step - loss: 2.2990 - accuracy: 0.2457 - val_loss: 2.3258 - val_accuracy: 0.2113\n",
      "Epoch 20/40\n",
      "10838/10838 [==============================] - 1s 117us/step - loss: 2.2709 - accuracy: 0.2552 - val_loss: 2.3126 - val_accuracy: 0.1941\n",
      "Epoch 21/40\n",
      "10838/10838 [==============================] - 1s 122us/step - loss: 2.2471 - accuracy: 0.2544 - val_loss: 2.2858 - val_accuracy: 0.2023\n",
      "Epoch 22/40\n",
      "10838/10838 [==============================] - 1s 113us/step - loss: 2.2238 - accuracy: 0.2586 - val_loss: 2.2650 - val_accuracy: 0.2060\n",
      "Epoch 23/40\n",
      "10838/10838 [==============================] - 1s 116us/step - loss: 2.2020 - accuracy: 0.2644 - val_loss: 2.2527 - val_accuracy: 0.2068\n",
      "Epoch 24/40\n",
      "10838/10838 [==============================] - 1s 119us/step - loss: 2.1817 - accuracy: 0.2711 - val_loss: 2.2383 - val_accuracy: 0.2102\n",
      "Epoch 25/40\n",
      "10838/10838 [==============================] - 1s 110us/step - loss: 2.1635 - accuracy: 0.2737 - val_loss: 2.2208 - val_accuracy: 0.2150\n",
      "Epoch 26/40\n",
      "10838/10838 [==============================] - 1s 114us/step - loss: 2.1443 - accuracy: 0.2776 - val_loss: 2.2138 - val_accuracy: 0.2150\n",
      "Epoch 27/40\n",
      "10838/10838 [==============================] - 1s 113us/step - loss: 2.1280 - accuracy: 0.2820 - val_loss: 2.1993 - val_accuracy: 0.2206\n",
      "Epoch 28/40\n",
      "10838/10838 [==============================] - 1s 111us/step - loss: 2.1128 - accuracy: 0.2819 - val_loss: 2.1815 - val_accuracy: 0.2180\n",
      "Epoch 29/40\n",
      "10838/10838 [==============================] - 1s 106us/step - loss: 2.0980 - accuracy: 0.2862 - val_loss: 2.1772 - val_accuracy: 0.2176\n",
      "Epoch 30/40\n",
      "10838/10838 [==============================] - 1s 107us/step - loss: 2.0856 - accuracy: 0.2888 - val_loss: 2.1668 - val_accuracy: 0.2258\n",
      "Epoch 31/40\n",
      "10838/10838 [==============================] - 1s 108us/step - loss: 2.0724 - accuracy: 0.2924 - val_loss: 2.1562 - val_accuracy: 0.2225\n",
      "Epoch 32/40\n",
      "10838/10838 [==============================] - 1s 113us/step - loss: 2.0584 - accuracy: 0.2956 - val_loss: 2.1541 - val_accuracy: 0.2214\n",
      "Epoch 33/40\n",
      "10838/10838 [==============================] - 1s 116us/step - loss: 2.0476 - accuracy: 0.2927 - val_loss: 2.1440 - val_accuracy: 0.2243\n",
      "Epoch 34/40\n",
      "10838/10838 [==============================] - 1s 113us/step - loss: 2.0358 - accuracy: 0.2980 - val_loss: 2.1376 - val_accuracy: 0.2344\n",
      "Epoch 35/40\n",
      "10838/10838 [==============================] - 1s 119us/step - loss: 2.0245 - accuracy: 0.2995 - val_loss: 2.1297 - val_accuracy: 0.2236\n",
      "Epoch 36/40\n",
      "10838/10838 [==============================] - 1s 109us/step - loss: 2.0149 - accuracy: 0.3038 - val_loss: 2.1232 - val_accuracy: 0.2225\n",
      "Epoch 37/40\n",
      "10838/10838 [==============================] - 1s 113us/step - loss: 2.0029 - accuracy: 0.3050 - val_loss: 2.1176 - val_accuracy: 0.2277\n",
      "Epoch 38/40\n",
      "10838/10838 [==============================] - 1s 102us/step - loss: 1.9942 - accuracy: 0.3109 - val_loss: 2.1195 - val_accuracy: 0.2273\n",
      "Epoch 39/40\n",
      "10838/10838 [==============================] - 1s 102us/step - loss: 1.9871 - accuracy: 0.3098 - val_loss: 2.1110 - val_accuracy: 0.2281\n",
      "Epoch 40/40\n",
      "10838/10838 [==============================] - 1s 112us/step - loss: 1.9769 - accuracy: 0.3091 - val_loss: 2.1125 - val_accuracy: 0.2217\n"
     ]
    }
   ],
   "source": [
    "opt=optimizers.Adam(lr=0.00012);\n",
    "model = keras.models.Sequential()\n",
    "model.add(keras.layers.Dense(units=128, activation='relu',input_dim=X_train.shape[1]))\n",
    "# model.add(keras.layers.Dropout(0.2))\n",
    "# model.add(keras.layers.Dense(units=128, activation='relu'))\n",
    "# model.add(keras.layers.Dropout(0.2))\n",
    "model.add(keras.layers.Dense(units=64, activation='relu'))\n",
    "# model.add(keras.layers.Dropout(0.2))\n",
    "model.add(keras.layers.Dense(units=50, activation='softmax'))\n",
    "model.summary()\n",
    "model.compile(loss='categorical_crossentropy',\n",
    "  optimizer=opt,\n",
    "  metrics=['accuracy'],)\n",
    "history=model.fit(X_train, Y_train,\n",
    "  batch_size=32,\n",
    "  epochs=40,\n",
    "  verbose=1,\n",
    "#   callbacks=[EarlyStopping(monitor='val_loss', patience=1,min_delta=-0.01)],\n",
    "#   class_weight=class_weights,\n",
    "#   shuffle=True,                \n",
    "  validation_data=(X_test, Y_test))"
   ]
  },
  {
   "cell_type": "code",
   "execution_count": 49,
   "metadata": {},
   "outputs": [
    {
     "data": {
      "image/png": "[encoded data removed]",
      "text/plain": [
       "<Figure size 432x288 with 1 Axes>"
      ]
     },
     "metadata": {
      "needs_background": "light"
     },
     "output_type": "display_data"
    },
    {
     "data": {
      "image/png": "[encoded data removed]",
      "text/plain": [
       "<Figure size 432x288 with 1 Axes>"
      ]
     },
     "metadata": {
      "needs_background": "light"
     },
     "output_type": "display_data"
    }
   ],
   "source": [
    "if(path_var ==1):\n",
    "    plt.plot(history.history['accuracy'])\n",
    "    plt.plot(history.history['val_accuracy'])\n",
    "    plt.title('model accuracy')\n",
    "    plt.ylabel('accuracy')\n",
    "    plt.xlabel('epoch')\n",
    "    plt.legend(['train', 'test'], loc='upper left')\n",
    "    plt.show()\n",
    "    plt.plot(history.history['loss'])\n",
    "    plt.plot(history.history['val_loss'])\n",
    "    plt.title('model loss')\n",
    "    plt.ylabel('loss')\n",
    "    plt.xlabel('epoch')\n",
    "    plt.legend(['train', 'test'], loc='upper left')\n",
    "    plt.show()\n",
    "\n",
    "elif(path_var==2):\n",
    "\n",
    "    plt.plot(history.history['acc'])\n",
    "    plt.plot(history.history['val_acc'])\n",
    "    plt.title('model accuracy')\n",
    "    plt.ylabel('accuracy')\n",
    "    plt.xlabel('epoch')\n",
    "    plt.legend(['train', 'test'], loc='upper left')\n",
    "    plt.show()\n",
    "    plt.plot(history.history['loss'])\n",
    "    plt.plot(history.history['val_loss'])\n",
    "    plt.title('model loss')\n",
    "    plt.ylabel('loss')\n",
    "    plt.xlabel('epoch')\n",
    "    plt.legend(['train', 'test'], loc='upper left')\n",
    "    plt.show()"
   ]
  },
  {
   "cell_type": "code",
   "execution_count": 50,
   "metadata": {},
   "outputs": [
    {
     "name": "stdout",
     "output_type": "stream",
     "text": [
      "Test accuracy: 22.17245250940323\n"
     ]
    }
   ],
   "source": [
    "score = model.evaluate(X_test, Y_test, verbose=0)\n",
    "print('Test accuracy:', score[1]*100)\n",
    "\n",
    "Y_pred=model.predict(X_test)\n",
    "Y_pred=np.argmax(Y_pred,axis=1)"
   ]
  },
  {
   "cell_type": "code",
   "execution_count": 51,
   "metadata": {},
   "outputs": [
    {
     "name": "stdout",
     "output_type": "stream",
     "text": [
      "0.18021649869354237\n"
     ]
    }
   ],
   "source": [
    "OGY_test=onehot.inverse_transform(Y_test)\n",
    "# OGY_test=sum(OGY_test, [])\n",
    "OGY_test=OGY_test.ravel()\n",
    "# print(OGY_test)\n",
    "\n",
    "# # Check if Binwidth value exists\n",
    "maxVal=5\n",
    "minVal=0\n",
    "\n",
    "width = maxVal - minVal\n",
    "\n",
    "num_bins = 50\n",
    "\n",
    "\n",
    "bin_width = width/num_bins\n",
    "# print(bin_width)\n",
    "\n",
    "# Normalized Error Metric (NEM)\n",
    "diff = []\n",
    "dist_sum = 0\n",
    "for i in range(len(Y_pred)):\n",
    "    dist = abs(Y_pred[i] - OGY_test[i])\n",
    "    d = Y_pred[i] - OGY_test[i]\n",
    "    diff.append(d)\n",
    "    dist_sum = dist_sum + dist\n",
    "    \n",
    "print((dist_sum*bin_width)/len(Y_test))"
   ]
  },
  {
   "cell_type": "code",
   "execution_count": 72,
   "metadata": {},
   "outputs": [],
   "source": [
    "# u = {'C_i' : OGY_test, 'P_i' : Y_pred, 'C_i-P_i': diff}\n",
    "# g = pd.DataFrame(u)\n",
    "# g.to_csv(filepath + 'ANN_Cipi.csv', index = False)\n"
   ]
  },
  {
   "cell_type": "code",
   "execution_count": 13,
   "metadata": {},
   "outputs": [],
   "source": [
    "def c_int(lst):\n",
    "    df = pd.DataFrame(lst)\n",
    "    df = df.sort_values(by = 0).reset_index(drop=True)\n",
    "    cp1 = df[np.logical_and(df[0] >= -2,df[0] <= 2)]\n",
    "    return (len(cp1)/len(df))*100\n",
    "   \n",
    "# lst = Y_test - k\n",
    "# c_int(lst)"
   ]
  },
  {
   "cell_type": "code",
   "execution_count": 14,
   "metadata": {},
   "outputs": [
    {
     "name": "stdout",
     "output_type": "stream",
     "text": [
      "Confidence Interval:74.91601343784995\n"
     ]
    }
   ],
   "source": [
    "CP=[]\n",
    "for i in range(len(Y_pred)):\n",
    "    dist = OGY_test[i] - Y_pred[i]\n",
    "    CP.append(dist)\n",
    "CP=np.array(CP,dtype=float)\n",
    "\n",
    "print(\"Confidence Interval:{}\".format(c_int(CP)))\n",
    "# np.savetxt(filepath+\"CPNIFTY.csv\",CP, delimiter=\",\")"
   ]
  },
  {
   "cell_type": "code",
   "execution_count": 15,
   "metadata": {},
   "outputs": [
    {
     "name": "stdout",
     "output_type": "stream",
     "text": [
      "Model saved to path :: /home/sharan/Desktop/OptionPricing-master/pickles/DL_NIFTY_0.02_Expt1.model\n"
     ]
    }
   ],
   "source": [
    "# # Saving the model\n",
    "# joblib.dump(model, modelpath + 'DL_NIFTY_0.02_Expt' + str(approach) + '.model')\n",
    "# print(\"Model saved to path ::\", modelpath + 'DL_NIFTY_0.02_Expt' + str(approach) + '.model' )"
   ]
  },
  {
   "cell_type": "code",
   "execution_count": 16,
   "metadata": {
    "scrolled": true
   },
   "outputs": [
    {
     "name": "stdout",
     "output_type": "stream",
     "text": [
      "              precision    recall  f1-score   support\n",
      "\n",
      "           0       0.79      0.80      0.79       197\n",
      "           1       0.38      0.41      0.39       160\n",
      "           2       0.26      0.34      0.29       132\n",
      "           3       0.19      0.13      0.15       118\n",
      "           4       0.12      0.12      0.12       107\n",
      "           5       0.08      0.03      0.04       104\n",
      "           6       0.16      0.27      0.20        93\n",
      "           7       0.17      0.24      0.20        90\n",
      "           8       0.22      0.09      0.13        78\n",
      "           9       0.21      0.07      0.11        84\n",
      "          10       0.16      0.40      0.23        70\n",
      "          11       0.50      0.01      0.03        68\n",
      "          12       0.20      0.29      0.24        58\n",
      "          13       0.21      0.27      0.24        63\n",
      "          14       0.18      0.05      0.08        62\n",
      "          15       0.12      0.12      0.12        50\n",
      "          16       0.18      0.25      0.21        55\n",
      "          17       0.23      0.17      0.20        53\n",
      "          18       0.12      0.06      0.08        52\n",
      "          19       0.17      0.36      0.23        50\n",
      "          20       0.12      0.07      0.09        45\n",
      "          21       0.58      0.12      0.20        59\n",
      "          22       0.23      0.15      0.18        47\n",
      "          23       0.18      0.55      0.27        42\n",
      "          24       0.00      0.00      0.00        40\n",
      "          25       0.08      0.02      0.04        41\n",
      "          26       0.23      0.45      0.30        49\n",
      "          27       0.09      0.12      0.10        42\n",
      "          28       0.00      0.00      0.00        30\n",
      "          29       0.00      0.00      0.00        34\n",
      "          30       0.11      0.36      0.17        42\n",
      "          31       0.14      0.13      0.14        39\n",
      "          32       0.00      0.00      0.00        35\n",
      "          33       0.17      0.04      0.06        25\n",
      "          34       0.00      0.00      0.00        38\n",
      "          35       0.07      0.03      0.04        34\n",
      "          36       0.10      0.17      0.13        30\n",
      "          37       0.14      0.41      0.21        32\n",
      "          38       0.00      0.00      0.00        31\n",
      "          39       0.12      0.09      0.10        23\n",
      "          40       0.21      0.11      0.14        28\n",
      "          41       0.11      0.07      0.09        28\n",
      "          42       0.00      0.00      0.00        25\n",
      "          43       0.14      0.45      0.21        29\n",
      "          44       0.00      0.00      0.00        14\n",
      "          45       0.00      0.00      0.00        18\n",
      "          46       0.00      0.00      0.00        10\n",
      "          47       0.00      0.00      0.00         8\n",
      "          48       0.00      0.00      0.00         7\n",
      "          49       0.23      0.90      0.37        10\n",
      "\n",
      "    accuracy                           0.23      2679\n",
      "   macro avg       0.15      0.17      0.14      2679\n",
      "weighted avg       0.22      0.23      0.20      2679\n",
      "\n"
     ]
    },
    {
     "name": "stderr",
     "output_type": "stream",
     "text": [
      "/home/sharan/anaconda3/lib/python3.6/site-packages/sklearn/metrics/_classification.py:1268: UndefinedMetricWarning: Precision and F-score are ill-defined and being set to 0.0 in labels with no predicted samples. Use `zero_division` parameter to control this behavior.\n",
      "  _warn_prf(average, modifier, msg_start, len(result))\n"
     ]
    }
   ],
   "source": [
    "from sklearn.metrics import confusion_matrix,classification_report\n",
    "print(classification_report(OGY_test, Y_pred))"
   ]
  },
  {
   "cell_type": "markdown",
   "metadata": {},
   "source": [
    "# Port Part"
   ]
  },
  {
   "cell_type": "code",
   "execution_count": 17,
   "metadata": {},
   "outputs": [
    {
     "name": "stdout",
     "output_type": "stream",
     "text": [
      "Test Size=6792\n",
      "b_X & b_Y_Dim of Test is (6792, 22) (6792, 50)\n"
     ]
    }
   ],
   "source": [
    "b_feats['date'] = pd.to_datetime(b_feats['date'])\n",
    "b_test=b_feats[(b_feats['date']>=datetime.date(2017,10,1))]\n",
    "ind = b_test.index[0]\n",
    "\n",
    "b_X = b_feats.iloc[ind:,:-1]\n",
    "b_Y = b_feats.loc[ind:,'Target']\n",
    "b_X = b_X.drop(dropNames, axis = 1)\n",
    "\n",
    "featNames = list(b_X)\n",
    "b_X = scaler.transform(b_X)\n",
    "b_X = pd.DataFrame(b_X, columns = featNames)\n",
    "\n",
    "print(\"Test Size={}\".format(len(b_Y)))\n",
    "\n",
    "# Generate Class weights\n",
    "\n",
    "class_weights = class_weight.compute_class_weight('balanced',np.unique(b_Y),b_Y)\n",
    "\n",
    "\n",
    "# Port the Onehot tranform\n",
    "b_Y = b_Y.values\n",
    "b_Y = b_Y.reshape(len(b_Y), 1)\n",
    "b_Y = onehot.transform(b_Y)\n",
    "\n",
    "\n",
    "\n",
    "\n",
    "# Split the train and test sets without random optimizations\n",
    "\n",
    "\n",
    "b_X_test = b_X.iloc[:, :]\n",
    "b_Y_test = b_Y[:]\n",
    "print ('b_X & b_Y_Dim of Test is', b_X_test.shape, b_Y_test.shape)"
   ]
  },
  {
   "cell_type": "code",
   "execution_count": 18,
   "metadata": {},
   "outputs": [
    {
     "name": "stdout",
     "output_type": "stream",
     "text": [
      "Test accuracy: 24.263839811542994\n"
     ]
    }
   ],
   "source": [
    "score = model.evaluate(b_X_test, b_Y_test, verbose=0)\n",
    "print('Test accuracy:', score[1]*100)\n",
    "\n",
    "b_Y_pred=model.predict(b_X_test)\n",
    "b_Y_pred=np.argmax(b_Y_pred,axis=1)"
   ]
  },
  {
   "cell_type": "code",
   "execution_count": 19,
   "metadata": {},
   "outputs": [
    {
     "name": "stdout",
     "output_type": "stream",
     "text": [
      "0.18938457008244997\n"
     ]
    }
   ],
   "source": [
    "b_OGY_test = onehot.inverse_transform(b_Y_test)\n",
    "b_OGY_test = b_OGY_test.ravel()\n",
    "\n",
    "# Check if Binwidth value exists\n",
    "maxVal=5\n",
    "minVal=0\n",
    "\n",
    "width = maxVal - minVal\n",
    "\n",
    "num_bins = 50\n",
    "\n",
    "\n",
    "bin_width = width/num_bins\n",
    "# print(bin_width)\n",
    "\n",
    "# Normalized Error Metric (NEM)\n",
    "\n",
    "dist_sum = 0\n",
    "for i in range(len(b_Y_pred)):\n",
    "    dist = abs(b_Y_pred[i] - b_OGY_test[i])\n",
    "    dist_sum = dist_sum + dist\n",
    "    \n",
    "print((dist_sum*bin_width)/len(b_Y_test))"
   ]
  },
  {
   "cell_type": "code",
   "execution_count": 20,
   "metadata": {},
   "outputs": [
    {
     "name": "stdout",
     "output_type": "stream",
     "text": [
      "Confidence Interval:71.52532391048292\n"
     ]
    }
   ],
   "source": [
    "CP=[]\n",
    "for i in range(len(b_Y_pred)):\n",
    "    dist = b_OGY_test[i] - b_Y_pred[i]    \n",
    "    CP.append(dist)\n",
    "CP=np.array(CP,dtype=float)\n",
    "\n",
    "print(\"Confidence Interval:{}\".format(c_int(CP)))"
   ]
  }
 ],
 "metadata": {
  "kernelspec": {
   "display_name": "Python 3",
   "language": "python",
   "name": "python3"
  },
  "language_info": {
   "codemirror_mode": {
    "name": "ipython",
    "version": 3
   },
   "file_extension": ".py",
   "mimetype": "text/x-python",
   "name": "python",
   "nbconvert_exporter": "python",
   "pygments_lexer": "ipython3",
   "version": "3.7.3"
  }
 },
 "nbformat": 4,
 "nbformat_minor": 2
}
