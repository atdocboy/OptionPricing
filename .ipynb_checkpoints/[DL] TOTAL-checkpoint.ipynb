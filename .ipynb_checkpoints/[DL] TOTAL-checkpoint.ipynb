{
 "cells": [
  {
   "cell_type": "code",
   "execution_count": 1,
   "metadata": {},
   "outputs": [
    {
     "name": "stderr",
     "output_type": "stream",
     "text": [
      "Using TensorFlow backend.\n",
      "/home/sharan/anaconda3/lib/python3.6/site-packages/tensorflow/python/framework/dtypes.py:517: FutureWarning: Passing (type, 1) or '1type' as a synonym of type is deprecated; in a future version of numpy, it will be understood as (type, (1,)) / '(1,)type'.\n",
      "  _np_qint8 = np.dtype([(\"qint8\", np.int8, 1)])\n",
      "/home/sharan/anaconda3/lib/python3.6/site-packages/tensorflow/python/framework/dtypes.py:518: FutureWarning: Passing (type, 1) or '1type' as a synonym of type is deprecated; in a future version of numpy, it will be understood as (type, (1,)) / '(1,)type'.\n",
      "  _np_quint8 = np.dtype([(\"quint8\", np.uint8, 1)])\n",
      "/home/sharan/anaconda3/lib/python3.6/site-packages/tensorflow/python/framework/dtypes.py:519: FutureWarning: Passing (type, 1) or '1type' as a synonym of type is deprecated; in a future version of numpy, it will be understood as (type, (1,)) / '(1,)type'.\n",
      "  _np_qint16 = np.dtype([(\"qint16\", np.int16, 1)])\n",
      "/home/sharan/anaconda3/lib/python3.6/site-packages/tensorflow/python/framework/dtypes.py:520: FutureWarning: Passing (type, 1) or '1type' as a synonym of type is deprecated; in a future version of numpy, it will be understood as (type, (1,)) / '(1,)type'.\n",
      "  _np_quint16 = np.dtype([(\"quint16\", np.uint16, 1)])\n",
      "/home/sharan/anaconda3/lib/python3.6/site-packages/tensorflow/python/framework/dtypes.py:521: FutureWarning: Passing (type, 1) or '1type' as a synonym of type is deprecated; in a future version of numpy, it will be understood as (type, (1,)) / '(1,)type'.\n",
      "  _np_qint32 = np.dtype([(\"qint32\", np.int32, 1)])\n",
      "/home/sharan/anaconda3/lib/python3.6/site-packages/tensorflow/python/framework/dtypes.py:526: FutureWarning: Passing (type, 1) or '1type' as a synonym of type is deprecated; in a future version of numpy, it will be understood as (type, (1,)) / '(1,)type'.\n",
      "  np_resource = np.dtype([(\"resource\", np.ubyte, 1)])\n"
     ]
    }
   ],
   "source": [
    "import numpy as np\n",
    "import matplotlib.pyplot as plt\n",
    "from scipy import stats\n",
    "import pandas as pd\n",
    "import math\n",
    "import keras\n",
    "from sklearn.model_selection import train_test_split\n",
    "from keras.callbacks import EarlyStopping\n",
    "from sklearn.preprocessing import StandardScaler,MinMaxScaler,RobustScaler\n",
    "from sklearn.utils import class_weight\n",
    "from keras import optimizers\n",
    "from sklearn.preprocessing import OneHotEncoder\n",
    "import matplotlib.pyplot as plt\n",
    "from keras.models import load_model\n",
    "import joblib\n",
    "%matplotlib inline"
   ]
  },
  {
   "cell_type": "code",
   "execution_count": 2,
   "metadata": {},
   "outputs": [],
   "source": [
    "# Set all file paths\n",
    "\n",
    "## ---->>> File paths for datasets\n",
    "\n",
    "nfty = '/home/sharan/Desktop/Option Pricing Work/Work/NIFTY_feature_setFinal_0.02_Cov.csv'\n",
    "b_nfty = '/home/sharan/Desktop/Option Pricing Work/Work/BANKNIFTY_feature_setFinal_0.02_Cov.csv'\n",
    "\n",
    "nfty_ecdf = '/home/sharan/Desktop/Option Pricing Work/Work/NIFTY50_feature_set_FINAL_ecdf.csv'\n",
    "b_nfty_ecdf = '/home/sharan/Desktop/Option Pricing Work/Work/BANKNIFTY_feature_set_FINAL_ecdf.csv'\n",
    "\n",
    "\n",
    "\n",
    "\n",
    "## ---->>> File paths for saving models and pickle bits\n",
    "save_model = '/home/sharan/Desktop/Option Pricing Work/Work/'\n",
    "save_pickle = '/home/sharan/Desktop/Option Pricing Work/Work/'\n"
   ]
  },
  {
   "cell_type": "code",
   "execution_count": 3,
   "metadata": {},
   "outputs": [
    {
     "name": "stdout",
     "output_type": "stream",
     "text": [
      "Approach var set to ECDF\n"
     ]
    }
   ],
   "source": [
    "# Set the automated variables + Plus drop all useless columns approach specific\n",
    "\n",
    "\n",
    "###########################\n",
    "###############################################\n",
    "\n",
    "approach = 1                           #------------------>>> # Change value as needed\n",
    "\n",
    "###############################################\n",
    "###########################\n",
    "\n",
    "\n",
    "if (approach == 1):\n",
    "    n_feats = pd.read_csv(nfty_ecdf)\n",
    "    print ('Approach var set to ECDF')\n",
    "    \n",
    "    dropNames = ['date', 'percentage', 'repoRate', 'yield1']\n",
    "    \n",
    "    b_feats = pd.read_csv(b_nfty_ecdf)\n",
    "    \n",
    "elif (approach == 2):\n",
    "    n_feats = pd.read_csv(nfty)\n",
    "    print ('Approach var set to :: '+ str(approach))\n",
    "    \n",
    "    b_feats = pd.read_csv(b_nfty)\n",
    "    \n",
    "    dropNames= ['date', 'percentage'] + ['oi','del_oi','op_spread','op_jump','op_atr','op_log_ret_m','op_log_ret_sd','prevOp']\n",
    "        \n",
    "else:    \n",
    "    n_feats = pd.read_csv(nfty)\n",
    "    print ('Approach var set to :: '+ str(approach))\n",
    "    \n",
    "    b_feats = pd.read_csv(b_nfty)\n",
    "        \n",
    "    dropNames= ['date', 'percentage'] + ['oi','del_oi','op_spread','op_jump','op_atr','op_log_ret_m','op_log_ret_sd']\n",
    "\n",
    "###################\n",
    "\n",
    "n_feats = n_feats.drop(dropNames, axis = 1)\n",
    "b_feats = b_feats.drop(dropNames, axis = 1)\n",
    "\n",
    "feats = n_feats.append(b_feats, ignore_index=True)\n",
    "\n",
    "X=feats.iloc[:,:-1]\n",
    "Y=feats.loc[:,'Target']    "
   ]
  },
  {
   "cell_type": "code",
   "execution_count": 4,
   "metadata": {},
   "outputs": [
    {
     "name": "stdout",
     "output_type": "stream",
     "text": [
      "[ 1.22259508  0.83181126  0.73061497  0.70516129  0.6771995   0.68742138\n",
      "  0.64143192  0.61821267  0.6189128   0.5953159   0.60654828  0.61061453\n",
      "  0.56573499  0.60993304  0.57830688  0.56514995  0.58076514  0.58138298\n",
      "  0.58637339  0.63694639  0.61198208  0.63992974  0.6576414   0.71813403\n",
      "  0.8255287   0.81324405  0.89006515  0.96897163  1.07790927  1.13146998\n",
      "  1.23642534  1.41948052  1.61686391  1.71855346  2.0018315   2.35560345\n",
      "  2.42888889  2.51843318  2.8025641   3.90357143  4.67094017  5.465\n",
      "  6.35465116  6.35465116  7.28666667  9.26271186  9.5877193  22.77083333\n",
      " 16.07352941  7.38513514]\n"
     ]
    }
   ],
   "source": [
    "class_weights = class_weight.compute_class_weight('balanced',np.unique(Y),Y)\n",
    "print(class_weights)"
   ]
  },
  {
   "cell_type": "code",
   "execution_count": 5,
   "metadata": {},
   "outputs": [
    {
     "data": {
      "text/plain": [
       "OneHotEncoder(categories='auto', drop=None, dtype=<class 'numpy.float64'>,\n",
       "              handle_unknown='error', sparse=False)"
      ]
     },
     "execution_count": 5,
     "metadata": {},
     "output_type": "execute_result"
    }
   ],
   "source": [
    "# Start the scaling process\n",
    "\n",
    "featNames = list(X)  \n",
    "scaler = RobustScaler()\n",
    "scaler.fit(X)\n",
    "\n",
    "onehot = OneHotEncoder(sparse=False)\n",
    "Y = Y.values\n",
    "Y = Y.reshape(len(Y), 1)\n",
    "onehot.fit(Y)"
   ]
  },
  {
   "cell_type": "code",
   "execution_count": 6,
   "metadata": {},
   "outputs": [
    {
     "name": "stdout",
     "output_type": "stream",
     "text": [
      "Scaler saved to path :: /home/sharan/Desktop/Option Pricing Work/Work/DL_SCALER_Combined_0.02_Expt1.model\n"
     ]
    }
   ],
   "source": [
    "# # Save the scalar file\n",
    "\n",
    "joblib.dump(scaler, save_pickle+'DL_SCALER_Combined_0.02_Expt'+str(approach)+'.model')\n",
    "print(\"Scaler saved to path ::\", save_pickle+'DL_SCALER_Combined_0.02_Expt'+str(approach)+'.model' )"
   ]
  },
  {
   "cell_type": "code",
   "execution_count": 7,
   "metadata": {},
   "outputs": [
    {
     "name": "stdout",
     "output_type": "stream",
     "text": [
      "X & Y_Dim of Train is (21860, 22) (21860, 50)\n",
      "X & Y_Dim of Test is (5465, 22) (5465, 50)\n"
     ]
    }
   ],
   "source": [
    "# Split the train and test sets without random optimizations\n",
    "\n",
    "\n",
    "a = len(n_feats)\n",
    "split_val = round(a*0.8)\n",
    "\n",
    "# Removing the Random splits\n",
    "\n",
    "Ntrain = n_feats.iloc[0:split_val, :]\n",
    "Ntest = n_feats.iloc[split_val:, :]\n",
    "\n",
    "b = len(b_feats)\n",
    "split_val = round(b*0.8)\n",
    "\n",
    "# Removing the Random splits\n",
    "\n",
    "Btrain = b_feats.iloc[0:split_val, :]\n",
    "Btest = b_feats.iloc[split_val:, :]\n",
    "\n",
    "\n",
    "train = Ntrain.append(Btrain, ignore_index=True)\n",
    "\n",
    "train = train.sample(frac=1).reset_index(drop=True)\n",
    "\n",
    "test = Ntest.append(Btest, ignore_index=True)\n",
    "\n",
    "test = test.sample(frac=1).reset_index(drop=True)\n",
    "\n",
    "X_train=train.iloc[:,:-1]\n",
    "X_train = scaler.transform(X_train)\n",
    "X_train = pd.DataFrame(X_train, columns = featNames)\n",
    "Y_train=train.loc[:,'Target']\n",
    "Y_train = Y_train.values\n",
    "Y_train = Y_train.reshape(len(Y_train), 1)\n",
    "Y_train = onehot.transform(Y_train)\n",
    "\n",
    "X_test=test.iloc[:,:-1]\n",
    "X_test = scaler.transform(X_test)\n",
    "X_test = pd.DataFrame(X_test, columns = featNames)\n",
    "Y_test=test.loc[:,'Target']\n",
    "Y_test = Y_test.values\n",
    "Y_test = Y_test.reshape(len(Y_test), 1)\n",
    "Y_test = onehot.transform(Y_test)\n",
    "\n",
    "print ('X & Y_Dim of Train is', X_train.shape, Y_train.shape)\n",
    "print ('X & Y_Dim of Test is', X_test.shape, Y_test.shape)"
   ]
  },
  {
   "cell_type": "code",
   "execution_count": 8,
   "metadata": {},
   "outputs": [
    {
     "name": "stdout",
     "output_type": "stream",
     "text": [
      "_________________________________________________________________\n",
      "Layer (type)                 Output Shape              Param #   \n",
      "=================================================================\n",
      "dense_1 (Dense)              (None, 128)               2944      \n",
      "_________________________________________________________________\n",
      "dense_2 (Dense)              (None, 64)                8256      \n",
      "_________________________________________________________________\n",
      "dense_3 (Dense)              (None, 50)                3250      \n",
      "=================================================================\n",
      "Total params: 14,450\n",
      "Trainable params: 14,450\n",
      "Non-trainable params: 0\n",
      "_________________________________________________________________\n",
      "Train on 21860 samples, validate on 5465 samples\n",
      "Epoch 1/45\n",
      "21860/21860 [==============================] - 4s 165us/step - loss: 3.8584 - acc: 0.0315 - val_loss: 3.7508 - val_acc: 0.0417\n",
      "Epoch 2/45\n",
      "21860/21860 [==============================] - 3s 144us/step - loss: 3.6960 - acc: 0.0432 - val_loss: 3.5472 - val_acc: 0.0584\n",
      "Epoch 3/45\n",
      "21860/21860 [==============================] - 3s 121us/step - loss: 3.5118 - acc: 0.0576 - val_loss: 3.3473 - val_acc: 0.0765\n",
      "Epoch 4/45\n",
      "21860/21860 [==============================] - 3s 140us/step - loss: 3.3209 - acc: 0.0728 - val_loss: 3.1551 - val_acc: 0.0939\n",
      "Epoch 5/45\n",
      "21860/21860 [==============================] - 3s 117us/step - loss: 3.1551 - acc: 0.0896 - val_loss: 3.0021 - val_acc: 0.1027\n",
      "Epoch 6/45\n",
      "21860/21860 [==============================] - 3s 125us/step - loss: 3.0280 - acc: 0.1022 - val_loss: 2.8848 - val_acc: 0.1186\n",
      "Epoch 7/45\n",
      "21860/21860 [==============================] - 3s 120us/step - loss: 2.9305 - acc: 0.1124 - val_loss: 2.7921 - val_acc: 0.1314\n",
      "Epoch 8/45\n",
      "21860/21860 [==============================] - 3s 125us/step - loss: 2.8518 - acc: 0.1210 - val_loss: 2.7203 - val_acc: 0.1356\n",
      "Epoch 9/45\n",
      "21860/21860 [==============================] - 3s 133us/step - loss: 2.7867 - acc: 0.1306 - val_loss: 2.6582 - val_acc: 0.1407\n",
      "Epoch 10/45\n",
      "21860/21860 [==============================] - 3s 118us/step - loss: 2.7310 - acc: 0.1372 - val_loss: 2.6090 - val_acc: 0.1500\n",
      "Epoch 11/45\n",
      "21860/21860 [==============================] - 3s 123us/step - loss: 2.6817 - acc: 0.1473 - val_loss: 2.5637 - val_acc: 0.1570\n",
      "Epoch 12/45\n",
      "21860/21860 [==============================] - 3s 121us/step - loss: 2.6388 - acc: 0.1539 - val_loss: 2.5207 - val_acc: 0.1585\n",
      "Epoch 13/45\n",
      "21860/21860 [==============================] - 3s 118us/step - loss: 2.6002 - acc: 0.1623 - val_loss: 2.4897 - val_acc: 0.1683\n",
      "Epoch 14/45\n",
      "21860/21860 [==============================] - 3s 119us/step - loss: 2.5662 - acc: 0.1655 - val_loss: 2.4569 - val_acc: 0.1726\n",
      "Epoch 15/45\n",
      "21860/21860 [==============================] - 3s 128us/step - loss: 2.5354 - acc: 0.1684 - val_loss: 2.4315 - val_acc: 0.1674\n",
      "Epoch 16/45\n",
      "21860/21860 [==============================] - 2s 114us/step - loss: 2.5084 - acc: 0.1723 - val_loss: 2.4021 - val_acc: 0.1740\n",
      "Epoch 17/45\n",
      "21860/21860 [==============================] - 3s 115us/step - loss: 2.4835 - acc: 0.1812 - val_loss: 2.3827 - val_acc: 0.1760\n",
      "Epoch 18/45\n",
      "21860/21860 [==============================] - 2s 114us/step - loss: 2.4618 - acc: 0.1801 - val_loss: 2.3638 - val_acc: 0.1755\n",
      "Epoch 19/45\n",
      "21860/21860 [==============================] - 3s 116us/step - loss: 2.4414 - acc: 0.1841 - val_loss: 2.3488 - val_acc: 0.1779\n",
      "Epoch 20/45\n",
      "21860/21860 [==============================] - 3s 122us/step - loss: 2.4226 - acc: 0.1898 - val_loss: 2.3347 - val_acc: 0.1788\n",
      "Epoch 21/45\n",
      "21860/21860 [==============================] - 3s 120us/step - loss: 2.4063 - acc: 0.1908 - val_loss: 2.3185 - val_acc: 0.1777\n",
      "Epoch 22/45\n",
      "21860/21860 [==============================] - 3s 133us/step - loss: 2.3908 - acc: 0.1911 - val_loss: 2.3103 - val_acc: 0.1784\n",
      "Epoch 23/45\n",
      "21860/21860 [==============================] - 3s 116us/step - loss: 2.3774 - acc: 0.1979 - val_loss: 2.2962 - val_acc: 0.1790\n",
      "Epoch 24/45\n",
      "21860/21860 [==============================] - 3s 116us/step - loss: 2.3646 - acc: 0.1975 - val_loss: 2.2903 - val_acc: 0.1766\n",
      "Epoch 25/45\n",
      "21860/21860 [==============================] - 3s 114us/step - loss: 2.3523 - acc: 0.1997 - val_loss: 2.2805 - val_acc: 0.1757\n",
      "Epoch 26/45\n",
      "21860/21860 [==============================] - 3s 114us/step - loss: 2.3411 - acc: 0.2022 - val_loss: 2.2711 - val_acc: 0.1804\n",
      "Epoch 27/45\n",
      "21860/21860 [==============================] - 3s 133us/step - loss: 2.3313 - acc: 0.2064 - val_loss: 2.2608 - val_acc: 0.1828\n",
      "Epoch 28/45\n",
      "21860/21860 [==============================] - 3s 135us/step - loss: 2.3221 - acc: 0.2041 - val_loss: 2.2589 - val_acc: 0.1735\n",
      "Epoch 29/45\n",
      "21860/21860 [==============================] - 3s 123us/step - loss: 2.3124 - acc: 0.2062 - val_loss: 2.2570 - val_acc: 0.1773\n",
      "Epoch 30/45\n",
      "21860/21860 [==============================] - 3s 125us/step - loss: 2.3040 - acc: 0.2064 - val_loss: 2.2511 - val_acc: 0.1768\n",
      "Epoch 31/45\n",
      "21860/21860 [==============================] - 2s 112us/step - loss: 2.2965 - acc: 0.2122 - val_loss: 2.2482 - val_acc: 0.1791\n",
      "Epoch 32/45\n",
      "21860/21860 [==============================] - 3s 118us/step - loss: 2.2890 - acc: 0.2113 - val_loss: 2.2368 - val_acc: 0.1769\n",
      "Epoch 33/45\n",
      "21860/21860 [==============================] - 3s 131us/step - loss: 2.2823 - acc: 0.2090 - val_loss: 2.2340 - val_acc: 0.1841\n",
      "Epoch 34/45\n",
      "21860/21860 [==============================] - 3s 129us/step - loss: 2.2754 - acc: 0.2133 - val_loss: 2.2326 - val_acc: 0.1791\n",
      "Epoch 35/45\n",
      "21860/21860 [==============================] - 3s 131us/step - loss: 2.2689 - acc: 0.2155 - val_loss: 2.2294 - val_acc: 0.1826\n",
      "Epoch 36/45\n",
      "21860/21860 [==============================] - 3s 131us/step - loss: 2.2629 - acc: 0.2158 - val_loss: 2.2266 - val_acc: 0.1793\n",
      "Epoch 37/45\n",
      "21860/21860 [==============================] - 3s 141us/step - loss: 2.2575 - acc: 0.2156 - val_loss: 2.2255 - val_acc: 0.1863\n",
      "Epoch 38/45\n",
      "21860/21860 [==============================] - 3s 124us/step - loss: 2.2524 - acc: 0.2188 - val_loss: 2.2220 - val_acc: 0.1806\n",
      "Epoch 39/45\n",
      "21860/21860 [==============================] - 3s 127us/step - loss: 2.2470 - acc: 0.2225 - val_loss: 2.2241 - val_acc: 0.1824\n",
      "Epoch 40/45\n",
      "21860/21860 [==============================] - 2s 111us/step - loss: 2.2418 - acc: 0.2178 - val_loss: 2.2210 - val_acc: 0.1769\n",
      "Epoch 41/45\n",
      "21860/21860 [==============================] - 3s 127us/step - loss: 2.2376 - acc: 0.2217 - val_loss: 2.2167 - val_acc: 0.1802\n",
      "Epoch 42/45\n",
      "21860/21860 [==============================] - 3s 115us/step - loss: 2.2332 - acc: 0.2224 - val_loss: 2.2223 - val_acc: 0.1799\n",
      "Epoch 43/45\n",
      "21860/21860 [==============================] - 2s 112us/step - loss: 2.2284 - acc: 0.2246 - val_loss: 2.2173 - val_acc: 0.1819\n",
      "Epoch 44/45\n",
      "21860/21860 [==============================] - 2s 112us/step - loss: 2.2243 - acc: 0.2236 - val_loss: 2.2217 - val_acc: 0.1722\n",
      "Epoch 45/45\n",
      "21860/21860 [==============================] - 3s 115us/step - loss: 2.2207 - acc: 0.2253 - val_loss: 2.2183 - val_acc: 0.1771\n"
     ]
    }
   ],
   "source": [
    "opt=optimizers.Adam(lr=0.00005);\n",
    "# opt=optimizers.Adagrad(lr=0.001);\n",
    "model = keras.models.Sequential()\n",
    "model.add(keras.layers.Dense(units=128, activation='relu',input_dim=X_train.shape[1]))\n",
    "# model.add(keras.layers.Dropout(0.6))\n",
    "# model.add(keras.layers.Dense(units=256, activation='relu'))\n",
    "# model.add(keras.layers.Dropout(0.5))\n",
    "# model.add(keras.layers.Dense(units=128, activation='relu'))\n",
    "# model.add(keras.layers.Dropout(0.6))\n",
    "model.add(keras.layers.Dense(units=64, activation='relu'))\n",
    "# model.add(keras.layers.Dropout(0.6))\n",
    "model.add(keras.layers.Dense(units=50, activation='softmax'))\n",
    "model.summary()\n",
    "model.compile(loss='categorical_crossentropy',\n",
    "  optimizer=opt,\n",
    "  metrics=['accuracy'],)\n",
    "history=model.fit(X_train, Y_train,\n",
    "  batch_size=16,\n",
    "  epochs=45,\n",
    "  verbose=1,\n",
    "  class_weight=class_weights,\n",
    "  validation_data=(X_test, Y_test),\n",
    "  shuffle=True)"
   ]
  },
  {
   "cell_type": "code",
   "execution_count": 9,
   "metadata": {},
   "outputs": [
    {
     "data": {
      "image/png": "[encoded data removed]",
      "text/plain": [
       "<matplotlib.figure.Figure at 0x7fda7cd92550>"
      ]
     },
     "metadata": {},
     "output_type": "display_data"
    },
    {
     "data": {
      "image/png": "[encoded data removed]",
      "text/plain": [
       "<matplotlib.figure.Figure at 0x7fda78202d30>"
      ]
     },
     "metadata": {},
     "output_type": "display_data"
    }
   ],
   "source": [
    "plt.plot(history.history['acc'])\n",
    "plt.plot(history.history['val_acc'])\n",
    "plt.title('model accuracy')\n",
    "plt.ylabel('accuracy')\n",
    "plt.xlabel('epoch')\n",
    "plt.legend(['train', 'test'], loc='upper left')\n",
    "plt.show()\n",
    "plt.plot(history.history['loss'])\n",
    "plt.plot(history.history['val_loss'])\n",
    "plt.title('model loss')\n",
    "plt.ylabel('loss')\n",
    "plt.xlabel('epoch')\n",
    "plt.legend(['train', 'test'], loc='upper left')\n",
    "plt.show()"
   ]
  },
  {
   "cell_type": "code",
   "execution_count": 10,
   "metadata": {},
   "outputs": [
    {
     "name": "stdout",
     "output_type": "stream",
     "text": [
      "Model saved to path :: /home/sharan/Desktop/Option Pricing Work/Work/DL_Combined_0.02_Expt1.model\n"
     ]
    }
   ],
   "source": [
    "# Saving the model\n",
    "joblib.dump(model, save_model+'DL_Combined_0.02_Expt'+str(approach)+'.model')\n",
    "print(\"Model saved to path ::\", save_model+'DL_Combined_0.02_Expt'+str(approach)+'.model' )"
   ]
  },
  {
   "cell_type": "code",
   "execution_count": 11,
   "metadata": {},
   "outputs": [
    {
     "name": "stdout",
     "output_type": "stream",
     "text": [
      "Test accuracy: 17.7127172932206\n"
     ]
    }
   ],
   "source": [
    "score = model.evaluate(X_test, Y_test, verbose=0)\n",
    "print('Test accuracy:', score[1]*100)\n",
    "\n",
    "Y_pred=model.predict(X_test)\n",
    "Y_pred=np.argmax(Y_pred,axis=1)"
   ]
  },
  {
   "cell_type": "code",
   "execution_count": 12,
   "metadata": {},
   "outputs": [
    {
     "name": "stdout",
     "output_type": "stream",
     "text": [
      "19.205855443732847\n"
     ]
    }
   ],
   "source": [
    "OGY_test=onehot.inverse_transform(Y_test)\n",
    "# OGY_test=sum(OGY_test, [])\n",
    "OGY_test=OGY_test.ravel()\n",
    "# print(OGY_test)\n",
    "\n",
    "# # Check if Binwidth value exists\n",
    "maxVal=5\n",
    "minVal=0\n",
    "\n",
    "width = maxVal - minVal\n",
    "\n",
    "num_bins = 50\n",
    "\n",
    "\n",
    "bin_width = width/num_bins\n",
    "# print(bin_width)\n",
    "\n",
    "# Normalized Error Metric (NEM)\n",
    "\n",
    "dist_sum = 0\n",
    "for i in range(len(Y_pred)):\n",
    "    dist = abs(Y_pred[i] - OGY_test[i])\n",
    "    dist_sum = dist_sum + dist\n",
    "    \n",
    "print((dist_sum*bin_width)/len(Y_test)*100)"
   ]
  },
  {
   "cell_type": "code",
   "execution_count": 13,
   "metadata": {},
   "outputs": [
    {
     "name": "stdout",
     "output_type": "stream",
     "text": [
      "              precision    recall  f1-score   support\n",
      "\n",
      "           0       0.74      0.62      0.68        98\n",
      "           1       0.41      0.61      0.49       140\n",
      "           2       0.37      0.39      0.38       181\n",
      "           3       0.26      0.11      0.16       178\n",
      "           4       0.24      0.22      0.23       195\n",
      "           5       0.21      0.28      0.24       184\n",
      "           6       0.25      0.29      0.27       206\n",
      "           7       0.08      0.02      0.03       201\n",
      "           8       0.19      0.30      0.23       227\n",
      "           9       0.19      0.09      0.12       209\n",
      "          10       0.18      0.31      0.22       216\n",
      "          11       0.22      0.06      0.10       203\n",
      "          12       0.15      0.20      0.17       222\n",
      "          13       0.13      0.07      0.09       212\n",
      "          14       0.11      0.02      0.04       210\n",
      "          15       0.12      0.28      0.17       205\n",
      "          16       0.20      0.06      0.09       216\n",
      "          17       0.12      0.17      0.14       207\n",
      "          18       0.13      0.18      0.15       202\n",
      "          19       0.19      0.13      0.15       185\n",
      "          20       0.09      0.04      0.06       186\n",
      "          21       0.15      0.24      0.18       174\n",
      "          22       0.12      0.09      0.10       161\n",
      "          23       0.15      0.25      0.19       147\n",
      "          24       0.06      0.02      0.03       111\n",
      "          25       0.07      0.10      0.08       116\n",
      "          26       0.10      0.02      0.03       114\n",
      "          27       0.09      0.24      0.13        88\n",
      "          28       0.00      0.00      0.00        73\n",
      "          29       0.04      0.03      0.04        62\n",
      "          30       0.07      0.03      0.04        64\n",
      "          31       0.22      0.21      0.21        63\n",
      "          32       0.06      0.05      0.05        42\n",
      "          33       0.10      0.05      0.06        44\n",
      "          34       0.08      0.26      0.13        27\n",
      "          35       0.00      0.00      0.00        14\n",
      "          36       0.00      0.00      0.00        15\n",
      "          37       0.17      0.13      0.15        23\n",
      "          38       0.14      0.33      0.19        18\n",
      "          39       0.00      0.00      0.00         7\n",
      "          40       0.00      0.00      0.00         4\n",
      "          41       0.20      0.17      0.18         6\n",
      "          42       0.00      0.00      0.00         4\n",
      "          43       0.00      0.00      0.00         2\n",
      "          44       0.00      0.00      0.00         1\n",
      "          49       1.00      0.50      0.67         2\n",
      "\n",
      "    accuracy                           0.18      5465\n",
      "   macro avg       0.16      0.16      0.15      5465\n",
      "weighted avg       0.17      0.18      0.16      5465\n",
      "\n"
     ]
    },
    {
     "name": "stderr",
     "output_type": "stream",
     "text": [
      "/home/sharan/anaconda3/lib/python3.6/site-packages/sklearn/metrics/_classification.py:1268: UndefinedMetricWarning: Precision and F-score are ill-defined and being set to 0.0 in labels with no predicted samples. Use `zero_division` parameter to control this behavior.\n",
      "  _warn_prf(average, modifier, msg_start, len(result))\n"
     ]
    }
   ],
   "source": [
    "from sklearn.metrics import confusion_matrix,classification_report\n",
    "print(classification_report(OGY_test, Y_pred))"
   ]
  },
  {
   "cell_type": "markdown",
   "metadata": {},
   "source": [
    "DL_NEM = []\n",
    "DL_D_NEM = []\n",
    "\n",
    "path=\"/home/sharan/Desktop/Option Pricing Work/Work/Serial GBM Runs/\"\n",
    "\n",
    "sigma = np.linspace(0.01, 0.2, 20)\n",
    "\n",
    "for si in sigma:\n",
    "    si=round(si,2)\n",
    "    feats = pd.read_csv(path+\"GBM_feature_set_final_ecdf_\"+str(si)+\".csv\")\n",
    "    X=feats.iloc[:,:-1]\n",
    "    X['atmError']=X['atmError']*100\n",
    "    Y=feats.loc[:,'Target']\n",
    "    dr = ['percentage']\n",
    "    X = X.drop(dr, axis = 1)\n",
    "    featNames=list(X)\n",
    "    X = scaler.transform(X)\n",
    "    X = pd.DataFrame(X, columns=featNames)\n",
    "    \n",
    "    Y = Y.values\n",
    "    \n",
    "    Y_pred = model.predict(X)\n",
    "    Y_pred = np.argmax(Y_pred,axis=1)\n",
    "    \n",
    "    dist_sum = 0\n",
    "    d_dist_sum = 0\n",
    "    for i in range(len(Y_pred)):\n",
    "        dist = abs(Y_pred[i] - Y[i]) # NEM\n",
    "        d_dist = (Y_pred[i] - Y[i]) # Directional NEM (NEM without the mod)\n",
    "        \n",
    "        dist_sum = dist_sum + dist # NEM\n",
    "        d_dist_sum = d_dist_sum + d_dist\n",
    "    \n",
    "    nem = (dist_sum*bin_width)/len(Y)*100\n",
    "    d_nem = (d_dist_sum*bin_width)/len(Y)*100\n",
    "    \n",
    "    DL_NEM.append(nem)\n",
    "    DL_D_NEM.append(d_nem)\n",
    "    \n",
    "dresults=pd.DataFrame({'sigma' : sigma, \n",
    "              'nem': DL_NEM, \n",
    "              'd_nem' : DL_D_NEM})\n",
    "dresults.to_csv(path+\"DresultsGBMCombined.csv\" ,index=False)    "
   ]
  },
  {
   "cell_type": "markdown",
   "metadata": {},
   "source": [
    "DL_NEM = []\n",
    "DL_D_NEM = []\n",
    "path=\"/home/sharan/Desktop/Option Pricing Work/Work/Binomial/\"\n",
    "\n",
    "U=[]\n",
    "D=[]\n",
    "for i in range(1,10):\n",
    "    u=1+(i*pow(10,-3))\n",
    "    d=1/u\n",
    "    U.append(u)\n",
    "    D.append(d)\n",
    "\n",
    "for u in U:\n",
    "    u=round(u,5)\n",
    "    feats = pd.read_csv(path+\"BM_feature_set_final_ecdf_\"+str(u)+\".csv\")\n",
    "    X=feats.iloc[:,:-1]\n",
    "    X['atmError']=X['atmError']*100\n",
    "    Y=feats.loc[:,'Target']\n",
    "    dr = ['percentage']\n",
    "    X = X.drop(dr, axis = 1)\n",
    "    featNames=list(X)    \n",
    "    X = scaler.transform(X)\n",
    "    X = pd.DataFrame(X, columns=featNames)\n",
    "    \n",
    "    Y = Y.values\n",
    "    \n",
    "    Y_pred = model.predict(X)\n",
    "    Y_pred = np.argmax(Y_pred,axis=1)\n",
    "    \n",
    "    dist_sum = 0\n",
    "    d_dist_sum = 0\n",
    "    for i in range(len(Y_pred)):\n",
    "        dist = abs(Y_pred[i] - Y[i]) # NEM\n",
    "        d_dist = (Y_pred[i] - Y[i]) # Directional NEM (NEM without the mod)\n",
    "        \n",
    "        dist_sum = dist_sum + dist # NEM\n",
    "        d_dist_sum = d_dist_sum + d_dist\n",
    "    \n",
    "    nem = (dist_sum*bin_width)/len(Y)*100\n",
    "    d_nem = (d_dist_sum*bin_width)/len(Y)*100\n",
    "    \n",
    "    DL_NEM.append(nem)\n",
    "    DL_D_NEM.append(d_nem)\n",
    "    \n",
    "dresults=pd.DataFrame({'U' : U, \n",
    "              'nem': DL_NEM, \n",
    "              'd_nem' : DL_D_NEM})\n",
    "dresults.to_csv(path+\"DresultsBMCombined.csv\" ,index=False)    "
   ]
  },
  {
   "cell_type": "code",
   "execution_count": null,
   "metadata": {},
   "outputs": [],
   "source": []
  }
 ],
 "metadata": {
  "kernelspec": {
   "display_name": "Python 3",
   "language": "python",
   "name": "python3"
  },
  "language_info": {
   "codemirror_mode": {
    "name": "ipython",
    "version": 3
   },
   "file_extension": ".py",
   "mimetype": "text/x-python",
   "name": "python",
   "nbconvert_exporter": "python",
   "pygments_lexer": "ipython3",
   "version": "3.7.3"
  }
 },
 "nbformat": 4,
 "nbformat_minor": 2
}
