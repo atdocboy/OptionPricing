{
 "cells": [
  {
   "cell_type": "code",
   "execution_count": 1,
   "metadata": {},
   "outputs": [
    {
     "name": "stderr",
     "output_type": "stream",
     "text": [
      "Using TensorFlow backend.\n",
      "/home/sharan/anaconda3/lib/python3.6/site-packages/tensorflow/python/framework/dtypes.py:517: FutureWarning: Passing (type, 1) or '1type' as a synonym of type is deprecated; in a future version of numpy, it will be understood as (type, (1,)) / '(1,)type'.\n",
      "  _np_qint8 = np.dtype([(\"qint8\", np.int8, 1)])\n",
      "/home/sharan/anaconda3/lib/python3.6/site-packages/tensorflow/python/framework/dtypes.py:518: FutureWarning: Passing (type, 1) or '1type' as a synonym of type is deprecated; in a future version of numpy, it will be understood as (type, (1,)) / '(1,)type'.\n",
      "  _np_quint8 = np.dtype([(\"quint8\", np.uint8, 1)])\n",
      "/home/sharan/anaconda3/lib/python3.6/site-packages/tensorflow/python/framework/dtypes.py:519: FutureWarning: Passing (type, 1) or '1type' as a synonym of type is deprecated; in a future version of numpy, it will be understood as (type, (1,)) / '(1,)type'.\n",
      "  _np_qint16 = np.dtype([(\"qint16\", np.int16, 1)])\n",
      "/home/sharan/anaconda3/lib/python3.6/site-packages/tensorflow/python/framework/dtypes.py:520: FutureWarning: Passing (type, 1) or '1type' as a synonym of type is deprecated; in a future version of numpy, it will be understood as (type, (1,)) / '(1,)type'.\n",
      "  _np_quint16 = np.dtype([(\"quint16\", np.uint16, 1)])\n",
      "/home/sharan/anaconda3/lib/python3.6/site-packages/tensorflow/python/framework/dtypes.py:521: FutureWarning: Passing (type, 1) or '1type' as a synonym of type is deprecated; in a future version of numpy, it will be understood as (type, (1,)) / '(1,)type'.\n",
      "  _np_qint32 = np.dtype([(\"qint32\", np.int32, 1)])\n",
      "/home/sharan/anaconda3/lib/python3.6/site-packages/tensorflow/python/framework/dtypes.py:526: FutureWarning: Passing (type, 1) or '1type' as a synonym of type is deprecated; in a future version of numpy, it will be understood as (type, (1,)) / '(1,)type'.\n",
      "  np_resource = np.dtype([(\"resource\", np.ubyte, 1)])\n"
     ]
    }
   ],
   "source": [
    "import numpy as np\n",
    "import matplotlib.pyplot as plt\n",
    "from scipy import stats\n",
    "import pandas as pd\n",
    "import math\n",
    "import keras\n",
    "from sklearn.model_selection import train_test_split\n",
    "from keras.callbacks import EarlyStopping\n",
    "from sklearn.preprocessing import StandardScaler,MinMaxScaler,RobustScaler\n",
    "from sklearn.utils import class_weight\n",
    "from keras import optimizers\n",
    "from sklearn.preprocessing import OneHotEncoder\n",
    "import matplotlib.pyplot as plt\n",
    "from keras.models import load_model\n",
    "import joblib\n",
    "# import py_vollib.black_scholes.implied_volatility\n",
    "import multiprocessing\n",
    "from multiprocessing import Pool\n",
    "import os\n",
    "# import py_vollib.black_scholes.implied_volatility as vb\n",
    "%matplotlib inline"
   ]
  },
  {
   "cell_type": "code",
   "execution_count": 2,
   "metadata": {},
   "outputs": [],
   "source": [
    "# Path settings\n",
    "\n",
    "\n",
    "path_var = 2 \n",
    "\n",
    "if (path_var == 1):\n",
    "    filepath = '/home/docboy/Desktop/Option_Pricing/datasets/'\n",
    "    modelpath = '/home/docboy/Desktop/Option_Pricing/pickles/'\n",
    "\n",
    "\n",
    "else:\n",
    "    filepath = '/home/sharan/Desktop/OptionPricing-master/datasets/'\n",
    "    modelpath = '/home/sharan/Desktop/OptionPricing-master/pickles/'\n",
    "\n",
    "\n",
    "\n",
    "nfty = filepath + 'NIFTY50_feature_set_COV_complete.csv'\n",
    "nfty_ecdf = filepath + 'NIFTY50_feature_set_ECDF_complete.csv'\n",
    "    \n",
    "bnfty = filepath + 'BANKNIFTY_feature_set_COV_complete.csv'\n",
    "bnfty_ecdf = filepath + 'BANKNIFTY_feature_set_ECDF_complete.csv'\n"
   ]
  },
  {
   "cell_type": "code",
   "execution_count": 3,
   "metadata": {},
   "outputs": [
    {
     "name": "stdout",
     "output_type": "stream",
     "text": [
      "Approach var set to :: 3\n"
     ]
    }
   ],
   "source": [
    "# Set the automated variables + Plus drop all useless columns approach specific\n",
    "\n",
    "\n",
    "###########################\n",
    "###############################################\n",
    "\n",
    "approach = 3                      #------------------>>> # Change value as needed\n",
    "\n",
    "###############################################\n",
    "###########################\n",
    "\n",
    "\n",
    "if (approach == 1):\n",
    "    feats = pd.read_csv(nfty_ecdf)\n",
    "    print ('Approach var set to ECDF')\n",
    "    \n",
    "    dropNames = ['date','percentage','strike','spot','opPrice']\n",
    "    \n",
    "    b_feats = pd.read_csv(bnfty_ecdf)\n",
    "    \n",
    "else:\n",
    "    feats = pd.read_csv(nfty)\n",
    "    print ('Approach var set to :: '+ str(approach))\n",
    "    \n",
    "    b_feats = pd.read_csv(bnfty)\n",
    "    \n",
    "    if (approach == 2):\n",
    "        dropNames= ['date','percentage','strike','spot','opPrice','change_oi','ts_atr','prevOp','avg_atmError']\n",
    "        \n",
    "    else:\n",
    "        dropNames= ['date', 'percentage','strike','spot','opPrice','ts_atr','change_oi']\n",
    "        \n",
    "###################\n",
    "\n",
    "X=feats.iloc[:,:-1]\n",
    "Y=feats.loc[:,'Target']\n",
    "X = X.drop(dropNames, axis = 1)    \n",
    "\n",
    "\n",
    "\n",
    "b_X = b_feats.iloc[:,:-1]\n",
    "b_Y = b_feats.loc[:,'Target']\n",
    "b_X = b_X.drop(dropNames, axis = 1)    \n",
    "\n",
    "\n"
   ]
  },
  {
   "cell_type": "code",
   "execution_count": 4,
   "metadata": {},
   "outputs": [
    {
     "data": {
      "text/plain": [
       "Index(['close_mean', 'close_sd', 'open_mean', 'open_sd', 'high_mean',\n",
       "       'high_sd', 'low_mean', 'low_sd', 'close_lr_open_lr_cov',\n",
       "       'close_lr_high_lr_cov', 'close_lr_low_lr_cov', 'open_lr_high_lr_cov',\n",
       "       'open_lr_low_lr_cov', 'high_lr_low_lr_cov', 'avg_atmError', 'prevOp',\n",
       "       'ttm', 'atmError', 'yield03'],\n",
       "      dtype='object')"
      ]
     },
     "execution_count": 4,
     "metadata": {},
     "output_type": "execute_result"
    }
   ],
   "source": [
    "X.columns"
   ]
  },
  {
   "cell_type": "code",
   "execution_count": 5,
   "metadata": {},
   "outputs": [],
   "source": [
    "# Start the scaling process\n",
    "\n",
    "featNames = list(X)  \n",
    "scaler = RobustScaler()\n",
    "X = scaler.fit_transform(X)\n",
    "X = pd.DataFrame(X, columns = featNames)\n"
   ]
  },
  {
   "cell_type": "code",
   "execution_count": 6,
   "metadata": {},
   "outputs": [
    {
     "name": "stdout",
     "output_type": "stream",
     "text": [
      "Scaler saved to path :: /home/sharan/Desktop/OptionPricing-master/pickles/DL_SCALER_NIFTY_0.02_Expt3.model\n"
     ]
    }
   ],
   "source": [
    "# # Save the scalar file\n",
    "\n",
    "joblib.dump(scaler, modelpath + 'DL_SCALER_NIFTY_0.02_Expt' + str(approach) + '.model')\n",
    "print(\"Scaler saved to path ::\", modelpath + 'DL_SCALER_NIFTY_0.02_Expt' + str(approach) + '.model' )"
   ]
  },
  {
   "cell_type": "code",
   "execution_count": 7,
   "metadata": {},
   "outputs": [
    {
     "name": "stdout",
     "output_type": "stream",
     "text": [
      "[0.35568421 0.4152381  0.47341506 0.49782689 0.53003922 0.54390342\n",
      " 0.59280702 0.59673289 0.66745679 0.64515513 0.71893617 0.79976331\n",
      " 0.76795455 0.83950311 0.88339869 0.86089172 0.9723741  0.91324324\n",
      " 0.98656934 1.05182879 1.14542373 0.96542857 1.08128    1.17530435\n",
      " 1.32509804 1.24571429 1.15521368 1.22872727 1.48527473 1.33821782\n",
      " 1.36525253 1.3516     1.57162791 1.6895     1.51865169 1.63830303\n",
      " 1.41528796 1.48527473 1.63830303 1.86427586 1.89034965 1.91716312\n",
      " 1.89034965 1.97313869 2.67643564 3.03730337 3.51064935 4.15876923\n",
      " 4.74245614 1.55356322]\n"
     ]
    }
   ],
   "source": [
    "class_weights = class_weight.compute_class_weight('balanced',np.unique(Y),Y)\n",
    "print(class_weights)"
   ]
  },
  {
   "cell_type": "code",
   "execution_count": 8,
   "metadata": {},
   "outputs": [
    {
     "data": {
      "text/plain": [
       "['/home/sharan/Desktop/OptionPricing-master/pickles/DL_ONEHOT_NIFTY_0.02_Expt3.model']"
      ]
     },
     "execution_count": 8,
     "metadata": {},
     "output_type": "execute_result"
    }
   ],
   "source": [
    "onehot = OneHotEncoder(sparse=False)\n",
    "Y = Y.values\n",
    "Y = Y.reshape(len(Y), 1)\n",
    "Y = onehot.fit_transform(Y)\n",
    "joblib.dump(onehot, modelpath + 'DL_ONEHOT_NIFTY_0.02_Expt' + str(approach) + '.model')"
   ]
  },
  {
   "cell_type": "code",
   "execution_count": 9,
   "metadata": {},
   "outputs": [
    {
     "name": "stdout",
     "output_type": "stream",
     "text": [
      "X & Y_Dim of Train is (10813, 19) (10813, 50)\n",
      "X & Y_Dim of Test is (2703, 19) (2703, 50)\n"
     ]
    }
   ],
   "source": [
    "# Split the train and test sets without random optimizations\n",
    "\n",
    "\n",
    "a = len(feats)\n",
    "split_val = round(a*0.8)\n",
    "\n",
    "# Removing the Random splits\n",
    "\n",
    "X_train = X.iloc[0:split_val, :]\n",
    "X_test = X.iloc[split_val:, :]\n",
    "Y_train = Y[:split_val]\n",
    "Y_test = Y[split_val:]\n",
    "print ('X & Y_Dim of Train is', X_train.shape, Y_train.shape)\n",
    "print ('X & Y_Dim of Test is', X_test.shape, Y_test.shape)\n",
    "\n",
    "\n"
   ]
  },
  {
   "cell_type": "code",
   "execution_count": 10,
   "metadata": {},
   "outputs": [
    {
     "name": "stdout",
     "output_type": "stream",
     "text": [
      "_________________________________________________________________\n",
      "Layer (type)                 Output Shape              Param #   \n",
      "=================================================================\n",
      "dense_1 (Dense)              (None, 128)               2560      \n",
      "_________________________________________________________________\n",
      "dense_2 (Dense)              (None, 64)                8256      \n",
      "_________________________________________________________________\n",
      "dense_3 (Dense)              (None, 50)                3250      \n",
      "=================================================================\n",
      "Total params: 14,066\n",
      "Trainable params: 14,066\n",
      "Non-trainable params: 0\n",
      "_________________________________________________________________\n",
      "Train on 10813 samples, validate on 2703 samples\n",
      "Epoch 1/60\n",
      "10813/10813 [==============================] - 1s 126us/step - loss: 3.8707 - acc: 0.0437 - val_loss: 3.7310 - val_acc: 0.0799\n",
      "Epoch 2/60\n",
      "10813/10813 [==============================] - 1s 61us/step - loss: 3.6093 - acc: 0.0662 - val_loss: 3.3838 - val_acc: 0.0825\n",
      "Epoch 3/60\n",
      "10813/10813 [==============================] - 1s 54us/step - loss: 3.3086 - acc: 0.0815 - val_loss: 3.1381 - val_acc: 0.0925\n",
      "Epoch 4/60\n",
      "10813/10813 [==============================] - 1s 56us/step - loss: 3.1054 - acc: 0.0953 - val_loss: 2.9828 - val_acc: 0.1017\n",
      "Epoch 5/60\n",
      "10813/10813 [==============================] - 1s 54us/step - loss: 2.9601 - acc: 0.1126 - val_loss: 2.8685 - val_acc: 0.1188\n",
      "Epoch 6/60\n",
      "10813/10813 [==============================] - 1s 55us/step - loss: 2.8478 - acc: 0.1337 - val_loss: 2.7823 - val_acc: 0.1424\n",
      "Epoch 7/60\n",
      "10813/10813 [==============================] - 1s 56us/step - loss: 2.7564 - acc: 0.1515 - val_loss: 2.7070 - val_acc: 0.1461\n",
      "Epoch 8/60\n",
      "10813/10813 [==============================] - 1s 57us/step - loss: 2.6790 - acc: 0.1678 - val_loss: 2.6424 - val_acc: 0.1550\n",
      "Epoch 9/60\n",
      "10813/10813 [==============================] - 1s 55us/step - loss: 2.6103 - acc: 0.1806 - val_loss: 2.5854 - val_acc: 0.1643\n",
      "Epoch 10/60\n",
      "10813/10813 [==============================] - 1s 53us/step - loss: 2.5482 - acc: 0.1900 - val_loss: 2.5311 - val_acc: 0.1728\n",
      "Epoch 11/60\n",
      "10813/10813 [==============================] - 1s 64us/step - loss: 2.4918 - acc: 0.1974 - val_loss: 2.4777 - val_acc: 0.1828\n",
      "Epoch 12/60\n",
      "10813/10813 [==============================] - 1s 64us/step - loss: 2.4397 - acc: 0.2074 - val_loss: 2.4355 - val_acc: 0.1839\n",
      "Epoch 13/60\n",
      "10813/10813 [==============================] - 1s 62us/step - loss: 2.3906 - acc: 0.2184 - val_loss: 2.3893 - val_acc: 0.1946\n",
      "Epoch 14/60\n",
      "10813/10813 [==============================] - 1s 60us/step - loss: 2.3438 - acc: 0.2272 - val_loss: 2.3493 - val_acc: 0.2068\n",
      "Epoch 15/60\n",
      "10813/10813 [==============================] - 1s 76us/step - loss: 2.3018 - acc: 0.2363 - val_loss: 2.3133 - val_acc: 0.2112\n",
      "Epoch 16/60\n",
      "10813/10813 [==============================] - 1s 81us/step - loss: 2.2613 - acc: 0.2479 - val_loss: 2.2726 - val_acc: 0.2138\n",
      "Epoch 17/60\n",
      "10813/10813 [==============================] - 1s 60us/step - loss: 2.2245 - acc: 0.2565 - val_loss: 2.2446 - val_acc: 0.2220\n",
      "Epoch 18/60\n",
      "10813/10813 [==============================] - 1s 61us/step - loss: 2.1903 - acc: 0.2610 - val_loss: 2.2177 - val_acc: 0.2290\n",
      "Epoch 19/60\n",
      "10813/10813 [==============================] - 1s 63us/step - loss: 2.1578 - acc: 0.2711 - val_loss: 2.1893 - val_acc: 0.2342\n",
      "Epoch 20/60\n",
      "10813/10813 [==============================] - 1s 60us/step - loss: 2.1273 - acc: 0.2770 - val_loss: 2.1623 - val_acc: 0.2386\n",
      "Epoch 21/60\n",
      "10813/10813 [==============================] - 1s 62us/step - loss: 2.0999 - acc: 0.2884 - val_loss: 2.1436 - val_acc: 0.2394\n",
      "Epoch 22/60\n",
      "10813/10813 [==============================] - 1s 64us/step - loss: 2.0739 - acc: 0.2973 - val_loss: 2.1158 - val_acc: 0.2482\n",
      "Epoch 23/60\n",
      "10813/10813 [==============================] - 1s 61us/step - loss: 2.0490 - acc: 0.2981 - val_loss: 2.0957 - val_acc: 0.2371\n",
      "Epoch 24/60\n",
      "10813/10813 [==============================] - 1s 60us/step - loss: 2.0275 - acc: 0.3016 - val_loss: 2.0821 - val_acc: 0.2420\n",
      "Epoch 25/60\n",
      "10813/10813 [==============================] - 1s 63us/step - loss: 2.0067 - acc: 0.3040 - val_loss: 2.0606 - val_acc: 0.2497\n",
      "Epoch 26/60\n",
      "10813/10813 [==============================] - 1s 59us/step - loss: 1.9852 - acc: 0.3135 - val_loss: 2.0498 - val_acc: 0.2490\n",
      "Epoch 27/60\n",
      "10813/10813 [==============================] - 1s 63us/step - loss: 1.9670 - acc: 0.3162 - val_loss: 2.0402 - val_acc: 0.2519\n",
      "Epoch 28/60\n",
      "10813/10813 [==============================] - 1s 61us/step - loss: 1.9506 - acc: 0.3180 - val_loss: 2.0145 - val_acc: 0.2564\n",
      "Epoch 29/60\n",
      "10813/10813 [==============================] - 1s 62us/step - loss: 1.9355 - acc: 0.3216 - val_loss: 2.0055 - val_acc: 0.2571\n",
      "Epoch 30/60\n",
      "10813/10813 [==============================] - 1s 62us/step - loss: 1.9194 - acc: 0.3230 - val_loss: 1.9955 - val_acc: 0.2653\n",
      "Epoch 31/60\n",
      "10813/10813 [==============================] - 1s 64us/step - loss: 1.9055 - acc: 0.3315 - val_loss: 1.9876 - val_acc: 0.2667\n",
      "Epoch 32/60\n",
      "10813/10813 [==============================] - 1s 63us/step - loss: 1.8925 - acc: 0.3326 - val_loss: 1.9802 - val_acc: 0.2693\n",
      "Epoch 33/60\n",
      "10813/10813 [==============================] - 1s 65us/step - loss: 1.8789 - acc: 0.3339 - val_loss: 1.9741 - val_acc: 0.2671\n",
      "Epoch 34/60\n",
      "10813/10813 [==============================] - 1s 68us/step - loss: 1.8674 - acc: 0.3358 - val_loss: 1.9644 - val_acc: 0.2623\n",
      "Epoch 35/60\n",
      "10813/10813 [==============================] - 1s 63us/step - loss: 1.8555 - acc: 0.3364 - val_loss: 1.9534 - val_acc: 0.2660\n",
      "Epoch 36/60\n",
      "10813/10813 [==============================] - 1s 60us/step - loss: 1.8457 - acc: 0.3396 - val_loss: 1.9560 - val_acc: 0.2601\n",
      "Epoch 37/60\n",
      "10813/10813 [==============================] - 1s 60us/step - loss: 1.8354 - acc: 0.3415 - val_loss: 1.9452 - val_acc: 0.2697\n",
      "Epoch 38/60\n",
      "10813/10813 [==============================] - 1s 62us/step - loss: 1.8259 - acc: 0.3442 - val_loss: 1.9496 - val_acc: 0.2582\n",
      "Epoch 39/60\n",
      "10813/10813 [==============================] - 1s 65us/step - loss: 1.8168 - acc: 0.3436 - val_loss: 1.9357 - val_acc: 0.2693\n",
      "Epoch 40/60\n",
      "10813/10813 [==============================] - 1s 68us/step - loss: 1.8076 - acc: 0.3472 - val_loss: 1.9415 - val_acc: 0.2704\n",
      "Epoch 41/60\n",
      "10813/10813 [==============================] - 1s 70us/step - loss: 1.7994 - acc: 0.3471 - val_loss: 1.9257 - val_acc: 0.2738\n",
      "Epoch 42/60\n",
      "10813/10813 [==============================] - 1s 64us/step - loss: 1.7911 - acc: 0.3536 - val_loss: 1.9295 - val_acc: 0.2667\n",
      "Epoch 43/60\n",
      "10813/10813 [==============================] - 1s 67us/step - loss: 1.7837 - acc: 0.3530 - val_loss: 1.9205 - val_acc: 0.2741\n",
      "Epoch 44/60\n",
      "10813/10813 [==============================] - 1s 68us/step - loss: 1.7763 - acc: 0.3539 - val_loss: 1.9202 - val_acc: 0.2734\n",
      "Epoch 45/60\n",
      "10813/10813 [==============================] - 1s 65us/step - loss: 1.7700 - acc: 0.3547 - val_loss: 1.9193 - val_acc: 0.2693\n",
      "Epoch 46/60\n",
      "10813/10813 [==============================] - 1s 75us/step - loss: 1.7613 - acc: 0.3549 - val_loss: 1.9229 - val_acc: 0.2697\n",
      "Epoch 47/60\n",
      "10813/10813 [==============================] - 1s 69us/step - loss: 1.7556 - acc: 0.3555 - val_loss: 1.9074 - val_acc: 0.2752\n",
      "Epoch 48/60\n",
      "10813/10813 [==============================] - 1s 61us/step - loss: 1.7497 - acc: 0.3566 - val_loss: 1.9107 - val_acc: 0.2745\n",
      "Epoch 49/60\n",
      "10813/10813 [==============================] - 1s 59us/step - loss: 1.7444 - acc: 0.3611 - val_loss: 1.9115 - val_acc: 0.2605\n",
      "Epoch 50/60\n",
      "10813/10813 [==============================] - 1s 59us/step - loss: 1.7383 - acc: 0.3581 - val_loss: 1.9233 - val_acc: 0.2701\n",
      "Epoch 51/60\n",
      "10813/10813 [==============================] - 1s 61us/step - loss: 1.7333 - acc: 0.3598 - val_loss: 1.9076 - val_acc: 0.2656\n",
      "Epoch 52/60\n",
      "10813/10813 [==============================] - 1s 60us/step - loss: 1.7273 - acc: 0.3682 - val_loss: 1.9086 - val_acc: 0.2667\n",
      "Epoch 53/60\n",
      "10813/10813 [==============================] - 1s 61us/step - loss: 1.7214 - acc: 0.3658 - val_loss: 1.9090 - val_acc: 0.2675\n",
      "Epoch 54/60\n",
      "10813/10813 [==============================] - 1s 63us/step - loss: 1.7169 - acc: 0.3655 - val_loss: 1.9116 - val_acc: 0.2793\n"
     ]
    },
    {
     "name": "stdout",
     "output_type": "stream",
     "text": [
      "Epoch 55/60\n",
      "10813/10813 [==============================] - 1s 59us/step - loss: 1.7122 - acc: 0.3632 - val_loss: 1.9131 - val_acc: 0.2760\n",
      "Epoch 56/60\n",
      "10813/10813 [==============================] - 1s 57us/step - loss: 1.7067 - acc: 0.3713 - val_loss: 1.9071 - val_acc: 0.2704\n",
      "Epoch 57/60\n",
      "10813/10813 [==============================] - 1s 58us/step - loss: 1.7021 - acc: 0.3661 - val_loss: 1.9078 - val_acc: 0.2767\n",
      "Epoch 58/60\n",
      "10813/10813 [==============================] - 1s 57us/step - loss: 1.6980 - acc: 0.3682 - val_loss: 1.9008 - val_acc: 0.2764\n",
      "Epoch 59/60\n",
      "10813/10813 [==============================] - 1s 58us/step - loss: 1.6940 - acc: 0.3691 - val_loss: 1.9065 - val_acc: 0.2701\n",
      "Epoch 60/60\n",
      "10813/10813 [==============================] - 1s 59us/step - loss: 1.6890 - acc: 0.3727 - val_loss: 1.8964 - val_acc: 0.2834\n"
     ]
    }
   ],
   "source": [
    "opt=optimizers.Adam(lr=0.00012);\n",
    "model = keras.models.Sequential()\n",
    "model.add(keras.layers.Dense(units=128, activation='relu',input_dim=X_train.shape[1]))\n",
    "# model.add(keras.layers.Dropout(0.5))\n",
    "# model.add(keras.layers.Dense(units=128, activation='relu'))\n",
    "# model.add(keras.layers.Dropout(0.6))\n",
    "model.add(keras.layers.Dense(units=64, activation='relu'))\n",
    "# model.add(keras.layers.Dropout(0.6))\n",
    "model.add(keras.layers.Dense(units=50, activation='softmax'))\n",
    "model.summary()\n",
    "model.compile(loss='categorical_crossentropy',\n",
    "  optimizer=opt,\n",
    "  metrics=['accuracy'],)\n",
    "history=model.fit(X_train, Y_train,\n",
    "  batch_size=32,\n",
    "  epochs=60,\n",
    "  verbose=1,\n",
    "#   class_weight=class_weights,\n",
    "  validation_data=(X_test, Y_test),\n",
    "  shuffle=True)"
   ]
  },
  {
   "cell_type": "code",
   "execution_count": 11,
   "metadata": {},
   "outputs": [
    {
     "data": {
      "image/png": "[encoded data removed]",
      "text/plain": [
       "<matplotlib.figure.Figure at 0x7fecd004c438>"
      ]
     },
     "metadata": {},
     "output_type": "display_data"
    },
    {
     "data": {
      "image/png": "[encoded data removed]",
      "text/plain": [
       "<matplotlib.figure.Figure at 0x7fecd01006d8>"
      ]
     },
     "metadata": {},
     "output_type": "display_data"
    }
   ],
   "source": [
    "if(path_var ==1):\n",
    "    plt.plot(history.history['accuracy'])\n",
    "    plt.plot(history.history['val_accuracy'])\n",
    "    plt.title('model accuracy')\n",
    "    plt.ylabel('accuracy')\n",
    "    plt.xlabel('epoch')\n",
    "    plt.legend(['train', 'test'], loc='upper left')\n",
    "    plt.show()\n",
    "    plt.plot(history.history['loss'])\n",
    "    plt.plot(history.history['val_loss'])\n",
    "    plt.title('model loss')\n",
    "    plt.ylabel('loss')\n",
    "    plt.xlabel('epoch')\n",
    "    plt.legend(['train', 'test'], loc='upper left')\n",
    "    plt.show()\n",
    "\n",
    "elif(path_var==2):\n",
    "\n",
    "    plt.plot(history.history['acc'])\n",
    "    plt.plot(history.history['val_acc'])\n",
    "    plt.title('model accuracy')\n",
    "    plt.ylabel('accuracy')\n",
    "    plt.xlabel('epoch')\n",
    "    plt.legend(['train', 'test'], loc='upper left')\n",
    "    plt.show()\n",
    "    plt.plot(history.history['loss'])\n",
    "    plt.plot(history.history['val_loss'])\n",
    "    plt.title('model loss')\n",
    "    plt.ylabel('loss')\n",
    "    plt.xlabel('epoch')\n",
    "    plt.legend(['train', 'test'], loc='upper left')\n",
    "    plt.show()"
   ]
  },
  {
   "cell_type": "code",
   "execution_count": 12,
   "metadata": {},
   "outputs": [
    {
     "name": "stdout",
     "output_type": "stream",
     "text": [
      "Test accuracy: 28.33888273061843\n"
     ]
    }
   ],
   "source": [
    "score = model.evaluate(X_test, Y_test, verbose=0)\n",
    "print('Test accuracy:', score[1]*100)\n",
    "\n",
    "Y_pred=model.predict(X_test)\n",
    "Y_pred=np.argmax(Y_pred,axis=1)"
   ]
  },
  {
   "cell_type": "code",
   "execution_count": 13,
   "metadata": {},
   "outputs": [
    {
     "name": "stdout",
     "output_type": "stream",
     "text": [
      "0.13984461709211987\n"
     ]
    }
   ],
   "source": [
    "OGY_test=onehot.inverse_transform(Y_test)\n",
    "# OGY_test=sum(OGY_test, [])\n",
    "OGY_test=OGY_test.ravel()\n",
    "# print(OGY_test)\n",
    "\n",
    "# # Check if Binwidth value exists\n",
    "maxVal=5\n",
    "minVal=0\n",
    "\n",
    "width = maxVal - minVal\n",
    "\n",
    "num_bins = 50\n",
    "\n",
    "\n",
    "bin_width = width/num_bins\n",
    "# print(bin_width)\n",
    "\n",
    "# Normalized Error Metric (NEM)\n",
    "\n",
    "dist_sum = 0\n",
    "for i in range(len(Y_pred)):\n",
    "    dist = abs(Y_pred[i] - OGY_test[i])\n",
    "    dist_sum = dist_sum + dist\n",
    "    \n",
    "print((dist_sum*bin_width)/len(Y_test))"
   ]
  },
  {
   "cell_type": "code",
   "execution_count": 14,
   "metadata": {},
   "outputs": [
    {
     "name": "stdout",
     "output_type": "stream",
     "text": [
      "Model saved to path :: /home/sharan/Desktop/OptionPricing-master/pickles/DL_NIFTY_0.02_Expt3.model\n"
     ]
    }
   ],
   "source": [
    "# Saving the model\n",
    "joblib.dump(model, modelpath + 'DL_NIFTY_0.02_Expt' + str(approach) + '.model')\n",
    "print(\"Model saved to path ::\", modelpath + 'DL_NIFTY_0.02_Expt' + str(approach) + '.model' )"
   ]
  },
  {
   "cell_type": "code",
   "execution_count": 15,
   "metadata": {
    "scrolled": true
   },
   "outputs": [
    {
     "name": "stdout",
     "output_type": "stream",
     "text": [
      "              precision    recall  f1-score   support\n",
      "\n",
      "           0       0.79      0.83      0.81       197\n",
      "           1       0.45      0.49      0.47       162\n",
      "           2       0.35      0.41      0.38       133\n",
      "           3       0.31      0.29      0.30       119\n",
      "           4       0.29      0.28      0.28       108\n",
      "           5       0.21      0.17      0.19       106\n",
      "           6       0.26      0.25      0.25        93\n",
      "           7       0.24      0.35      0.28        92\n",
      "           8       0.19      0.18      0.19        78\n",
      "           9       0.23      0.20      0.21        86\n",
      "          10       0.23      0.30      0.26        70\n",
      "          11       0.28      0.12      0.16        68\n",
      "          12       0.25      0.35      0.29        60\n",
      "          13       0.07      0.02      0.03        63\n",
      "          14       0.20      0.23      0.21        62\n",
      "          15       0.18      0.31      0.23        52\n",
      "          16       0.15      0.13      0.14        55\n",
      "          17       0.12      0.06      0.08        53\n",
      "          18       0.25      0.04      0.06        54\n",
      "          19       0.22      0.56      0.31        50\n",
      "          20       0.22      0.09      0.12        46\n",
      "          21       0.23      0.29      0.26        59\n",
      "          22       0.25      0.06      0.10        47\n",
      "          23       0.21      0.50      0.30        42\n",
      "          24       0.00      0.00      0.00        40\n",
      "          25       0.23      0.32      0.27        41\n",
      "          26       0.35      0.22      0.27        51\n",
      "          27       0.17      0.17      0.17        42\n",
      "          28       0.11      0.23      0.15        30\n",
      "          29       0.00      0.00      0.00        34\n",
      "          30       0.31      0.36      0.33        42\n",
      "          31       0.18      0.15      0.16        39\n",
      "          32       0.15      0.11      0.13        35\n",
      "          33       0.12      0.24      0.16        25\n",
      "          34       0.26      0.13      0.17        39\n",
      "          35       0.09      0.03      0.04        35\n",
      "          36       0.12      0.23      0.16        30\n",
      "          37       0.13      0.16      0.14        32\n",
      "          38       0.20      0.23      0.21        31\n",
      "          39       0.14      0.04      0.07        23\n",
      "          40       0.25      0.04      0.06        28\n",
      "          41       0.24      0.43      0.31        28\n",
      "          42       0.11      0.04      0.06        25\n",
      "          43       0.17      0.43      0.24        30\n",
      "          44       0.00      0.00      0.00        15\n",
      "          45       0.00      0.00      0.00        18\n",
      "          46       0.17      0.10      0.12        10\n",
      "          47       0.00      0.00      0.00         8\n",
      "          48       0.22      0.29      0.25         7\n",
      "          49       0.41      0.90      0.56        10\n",
      "\n",
      "    accuracy                           0.28      2703\n",
      "   macro avg       0.21      0.23      0.20      2703\n",
      "weighted avg       0.27      0.28      0.26      2703\n",
      "\n"
     ]
    },
    {
     "name": "stderr",
     "output_type": "stream",
     "text": [
      "/home/sharan/anaconda3/lib/python3.6/site-packages/sklearn/metrics/_classification.py:1268: UndefinedMetricWarning: Precision and F-score are ill-defined and being set to 0.0 in labels with no predicted samples. Use `zero_division` parameter to control this behavior.\n",
      "  _warn_prf(average, modifier, msg_start, len(result))\n"
     ]
    }
   ],
   "source": [
    "from sklearn.metrics import confusion_matrix,classification_report\n",
    "print(classification_report(OGY_test, Y_pred))"
   ]
  },
  {
   "cell_type": "markdown",
   "metadata": {},
   "source": [
    "# Port Part"
   ]
  },
  {
   "cell_type": "code",
   "execution_count": 16,
   "metadata": {},
   "outputs": [
    {
     "name": "stdout",
     "output_type": "stream",
     "text": [
      "b_X & b_Y_Dim of Test is (20414, 19) (20414, 50)\n"
     ]
    }
   ],
   "source": [
    "### Begin Port Part\n",
    "\n",
    "# Scale the dataset according to saved scaler\n",
    "\n",
    "featNames = list(b_X)\n",
    "b_X = scaler.transform(b_X)\n",
    "b_X = pd.DataFrame(b_X, columns = featNames)\n",
    "\n",
    "\n",
    "# Generate Class weights\n",
    "\n",
    "class_weights = class_weight.compute_class_weight('balanced',np.unique(b_Y),b_Y)\n",
    "\n",
    "\n",
    "# Port the Onehot tranform\n",
    "b_Y = b_Y.values\n",
    "b_Y = b_Y.reshape(len(b_Y), 1)\n",
    "b_Y = onehot.transform(b_Y)\n",
    "\n",
    "\n",
    "\n",
    "\n",
    "# Split the train and test sets without random optimizations\n",
    "\n",
    "\n",
    "b_X_test = b_X.iloc[:, :]\n",
    "b_Y_test = b_Y[:]\n",
    "print ('b_X & b_Y_Dim of Test is', b_X_test.shape, b_Y_test.shape)\n"
   ]
  },
  {
   "cell_type": "code",
   "execution_count": 17,
   "metadata": {},
   "outputs": [
    {
     "name": "stdout",
     "output_type": "stream",
     "text": [
      "Test accuracy: 21.279514061022986\n"
     ]
    }
   ],
   "source": [
    "score = model.evaluate(b_X_test, b_Y_test, verbose=0)\n",
    "print('Test accuracy:', score[1]*100)\n",
    "\n",
    "b_Y_pred=model.predict(b_X_test)\n",
    "b_Y_pred=np.argmax(b_Y_pred,axis=1)"
   ]
  },
  {
   "cell_type": "code",
   "execution_count": 18,
   "metadata": {},
   "outputs": [
    {
     "name": "stdout",
     "output_type": "stream",
     "text": [
      "0.23196335847947488\n"
     ]
    }
   ],
   "source": [
    "b_OGY_test = onehot.inverse_transform(b_Y_test)\n",
    "b_OGY_test = b_OGY_test.ravel()\n",
    "\n",
    "# Check if Binwidth value exists\n",
    "maxVal=5\n",
    "minVal=0\n",
    "\n",
    "width = maxVal - minVal\n",
    "\n",
    "num_bins = 50\n",
    "\n",
    "\n",
    "bin_width = width/num_bins\n",
    "# print(bin_width)\n",
    "\n",
    "# Normalized Error Metric (NEM)\n",
    "\n",
    "dist_sum = 0\n",
    "for i in range(len(b_Y_pred)):\n",
    "    dist = abs(b_Y_pred[i] - b_OGY_test[i])\n",
    "    dist_sum = dist_sum + dist\n",
    "    \n",
    "print((dist_sum*bin_width)/len(b_Y_test))"
   ]
  },
  {
   "cell_type": "markdown",
   "metadata": {},
   "source": [
    "DL_NEM = []\n",
    "DL_D_NEM = []\n",
    "\n",
    "path=\"/home/sharan/Desktop/Option Pricing Work/Work/Serial GBM Runs/\"\n",
    "\n",
    "sigma = np.linspace(0.01, 0.2, 20)\n",
    "\n",
    "for si in sigma:\n",
    "    si=round(si,2)\n",
    "    feats = pd.read_csv(path+\"GBM_feature_set_final_ecdf_\"+str(si)+\".csv\")\n",
    "    X=feats.iloc[:,:-1]\n",
    "    X['atmError']=X['atmError']*100\n",
    "    Y=feats.loc[:,'Target']\n",
    "    dr = ['percentage']\n",
    "    X = X.drop(dr, axis = 1)\n",
    "    featNames=list(X)\n",
    "    X = scaler.transform(X)\n",
    "    X = pd.DataFrame(X, columns=featNames)\n",
    "    \n",
    "    Y = Y.values\n",
    "    \n",
    "    Y_pred = model.predict(X)\n",
    "    Y_pred = np.argmax(Y_pred,axis=1)\n",
    "    \n",
    "    dist_sum = 0\n",
    "    d_dist_sum = 0\n",
    "    for i in range(len(Y_pred)):\n",
    "        dist = abs(Y_pred[i] - Y[i]) # NEM\n",
    "        d_dist = (Y_pred[i] - Y[i]) # Directional NEM (NEM without the mod)\n",
    "        \n",
    "        dist_sum = dist_sum + dist # NEM\n",
    "        d_dist_sum = d_dist_sum + d_dist\n",
    "    \n",
    "    nem = (dist_sum*bin_width)/len(Y)*100\n",
    "    d_nem = (d_dist_sum*bin_width)/len(Y)*100\n",
    "    \n",
    "    DL_NEM.append(nem)\n",
    "    DL_D_NEM.append(d_nem)\n",
    "    \n",
    "dresults=pd.DataFrame({'sigma' : sigma, \n",
    "              'nem': DL_NEM, \n",
    "              'd_nem' : DL_D_NEM})\n",
    "dresults.to_csv(path+\"DresultsGBM.csv\" ,index=False)    "
   ]
  },
  {
   "cell_type": "markdown",
   "metadata": {},
   "source": [
    "DL_NEM = []\n",
    "DL_D_NEM = []\n",
    "path=\"/home/sharan/Desktop/Option Pricing Work/Work/Binomial/\"\n",
    "\n",
    "U=[]\n",
    "D=[]\n",
    "for i in range(1,10):\n",
    "    u=1+(i*pow(10,-3))\n",
    "    d=1/u\n",
    "    U.append(u)\n",
    "    D.append(d)\n",
    "\n",
    "for u in U:\n",
    "    u=round(u,5)\n",
    "    feats = pd.read_csv(path+\"BM_feature_set_final_ecdf_\"+str(u)+\".csv\")\n",
    "    X=feats.iloc[:,:-1]\n",
    "    X['atmError']=X['atmError']*100\n",
    "    Y=feats.loc[:,'Target']\n",
    "    dr = ['percentage']\n",
    "    X = X.drop(dr, axis = 1)\n",
    "    featNames=list(X)    \n",
    "    X = scaler.transform(X)\n",
    "    X = pd.DataFrame(X, columns=featNames)\n",
    "    \n",
    "    Y = Y.values\n",
    "    \n",
    "    Y_pred = model.predict(X)\n",
    "    Y_pred = np.argmax(Y_pred,axis=1)\n",
    "    \n",
    "    dist_sum = 0\n",
    "    d_dist_sum = 0\n",
    "    for i in range(len(Y_pred)):\n",
    "        dist = abs(Y_pred[i] - Y[i]) # NEM\n",
    "        d_dist = (Y_pred[i] - Y[i]) # Directional NEM (NEM without the mod)\n",
    "        \n",
    "        dist_sum = dist_sum + dist # NEM\n",
    "        d_dist_sum = d_dist_sum + d_dist\n",
    "    \n",
    "    nem = (dist_sum*bin_width)/len(Y)*100\n",
    "    d_nem = (d_dist_sum*bin_width)/len(Y)*100\n",
    "    \n",
    "    DL_NEM.append(nem)\n",
    "    DL_D_NEM.append(d_nem)\n",
    "    \n",
    "dresults=pd.DataFrame({'U' : U, \n",
    "              'nem': DL_NEM, \n",
    "              'd_nem' : DL_D_NEM})\n",
    "dresults.to_csv(path+\"DresultsBM.csv\" ,index=False)    "
   ]
  },
  {
   "cell_type": "markdown",
   "metadata": {},
   "source": [
    "def worker(date,UnderlyingPrice, StrikePrice, InterestRate, Daystoexpiration,l_callPrice,h_callPrice,a_callPrice):\n",
    "#     implied_volatility(price, S, K, t, r, flag)\n",
    "#     l_iv=vb.implied_volatility(l_callPrice, UnderlyingPrice, StrikePrice, Daystoexpiration/365, InterestRate/100, 'c')\n",
    "#     h_iv=vb.implied_volatility(h_callPrice, UnderlyingPrice, StrikePrice, Daystoexpiration/365, InterestRate/100, 'c')\n",
    "    a_iv=vb.implied_volatility(a_callPrice, UnderlyingPrice, StrikePrice, Daystoexpiration/365, InterestRate/100, 'c')\n",
    "    return [date,a_iv]"
   ]
  },
  {
   "cell_type": "markdown",
   "metadata": {},
   "source": [
    "test_latest_ecdf=\"/home/sharan/Desktop/Option Pricing Work/Work/nifty_19-20_feature_set_ecdf_new_FINAL.csv\"\n",
    "latest_ecdf_feats = pd.read_csv(test_latest_ecdf)\n",
    "\n",
    "dropNames = ['date', 'percentage','strike','spot','opPrice']\n",
    "\n",
    "X_latest=latest_ecdf_feats.iloc[:,:-1]\n",
    "Y_latest=latest_ecdf_feats.loc[:,'Target']\n",
    "X_latest = X_latest.drop(dropNames, axis = 1)\n",
    "\n",
    "featNames = list(X_latest)  \n",
    "X_latest = scaler.transform(X_latest)\n",
    "X_latest = pd.DataFrame(X_latest, columns = featNames)\n",
    "Y_latest = Y_latest.values\n",
    "Y_latest = Y_latest.reshape(len(Y_latest), 1)\n",
    "Y_latest = onehot.transform(Y_latest)\n",
    "score = model.evaluate(X_latest, Y_latest, verbose=0)\n",
    "\n",
    "Y_latest_pred=model.predict(X_latest)\n",
    "Y_latest_pred=np.argmax(Y_latest_pred,axis=1)\n",
    "\n",
    "OGY_latest=onehot.inverse_transform(Y_latest)\n",
    "\n",
    "OGY_latest=OGY_latest.ravel()\n",
    "# print(OGY_latest_test)\n",
    "\n",
    "# # Check if Binwidth value exists\n",
    "maxVal=5\n",
    "minVal=0\n",
    "\n",
    "width = maxVal - minVal\n",
    "\n",
    "num_bins = 50\n",
    "\n",
    "\n",
    "bin_width = width/num_bins\n",
    "# print(bin_width)\n",
    "\n",
    "\n",
    "dist_sum = 0\n",
    "step = 0.1\n",
    "\n",
    "date=[]\n",
    "lower_iv=[]\n",
    "higher_iv=[]\n",
    "actual_iv=[]\n",
    "\n",
    "params=[]\n",
    "\n",
    "total_res=[]\n",
    "\n",
    "for i in range(len(Y_latest_pred)):    \n",
    "    \n",
    "    lower_bound_opPrice = ((Y_latest_pred[i]*step) * latest_ecdf_feats.loc[i,'strike'])/100\n",
    "    \n",
    "    higher_bound_opPrice = (( (Y_latest_pred[i]+1) * step) * latest_ecdf_feats.loc[i,'strike'])/100\n",
    "    \n",
    "    actual_opPrice = latest_ecdf_feats.loc[i,'opPrice']\n",
    "    \n",
    "    print(\"\\nDate={}\".format(latest_ecdf_feats.loc[i,'date']))\n",
    "    print(\"Lower={}\".format(lower_bound_opPrice))\n",
    "    print(\"Higher={}\".format(higher_bound_opPrice))\n",
    "    print(\"Actual={}\".format(actual_opPrice))    \n",
    "    print(\"S={}\".format(latest_ecdf_feats.loc[i,'spot']))\n",
    "    print(\"K={}\".format(latest_ecdf_feats.loc[i,'strike']))\n",
    "    print(\"TTM={}\".format(latest_ecdf_feats.loc[i,'ttm']))\n",
    "    print(\"R={}\".format(latest_ecdf_feats.loc[i,'yield03']))    \n",
    "    \n",
    "#     params.append((latest_ecdf_feats.loc[i,'date'],latest_ecdf_feats.loc[i,'spot'], \n",
    "#                    latest_ecdf_feats.loc[i,'strike'],\n",
    "#                    latest_ecdf_feats.loc[i,'yield03'], latest_ecdf_feats.loc[i,'ttm'],\n",
    "#                   lower_bound_opPrice,higher_bound_opPrice,actual_opPrice))\n",
    "\n",
    "    res_list=worker(latest_ecdf_feats.loc[i,'date'],latest_ecdf_feats.loc[i,'spot'], \n",
    "                   latest_ecdf_feats.loc[i,'strike'],\n",
    "                   latest_ecdf_feats.loc[i,'yield03'], latest_ecdf_feats.loc[i,'ttm'],\n",
    "                  lower_bound_opPrice,higher_bound_opPrice,actual_opPrice)\n",
    "    \n",
    "    total_res.append(res_list)\n",
    "#     break\n",
    "\n",
    "# IV=[]\n",
    "# pool = Pool()\n",
    "# for res in pool.starmap(worker,params):    \n",
    "#     IV.append(res)\n",
    "    \n",
    "# pool.close()\n",
    "\n",
    "\n",
    "    \n",
    "#     date.append(latest_ecdf_feats.loc[i,'date'])\n",
    "    \n",
    "#     lower_bound_opPrice = ((Y_latest_pred[i]*step) * latest_ecdf_feats.loc[i,'strike'])/100\n",
    "#     print(\"\\nLower={}\".format(lower_bound_opPrice))\n",
    "# #     print(\"OpPrice={}\".format(lower_bound_opPrice))\n",
    "# #     print(\"S={}\".format(latest_ecdf_feats.loc[i,'spot']))\n",
    "# #     print(\"K={}\".format(latest_ecdf_feats.loc[i,'strike']))\n",
    "# #     print(\"TTM={}\".format(latest_ecdf_feats.loc[i,'ttm']/365))\n",
    "# #     print(\"R={}\".format(latest_ecdf_feats.loc[i,'yield03']))\n",
    "#     #BS([UnderlyingPrice, StrikePrice, InterestRate, Daystoexpiration],callPrice=x)\n",
    "#     l_iv = mibian.BS([latest_ecdf_feats.loc[i,'spot'], latest_ecdf_feats.loc[i,'strike'],\n",
    "#                    latest_ecdf_feats.loc[i,'yield03'], latest_ecdf_feats.loc[i,'ttm']],\n",
    "#                                callPrice=lower_bound_opPrice)\n",
    "\n",
    "#     lower_iv.append(l_iv.impliedVolatility)\n",
    "#     print(lower_iv)\n",
    "    \n",
    "#     higher_bound_opPrice = (( (Y_latest_pred[i]+1) * step) * latest_ecdf_feats.loc[i,'strike'])/100\n",
    "#     print(\"Higher={}\".format(higher_bound_opPrice))\n",
    "    \n",
    "#     h_iv = mibian.BS([latest_ecdf_feats.loc[i,'spot'], latest_ecdf_feats.loc[i,'strike'],\n",
    "#                    latest_ecdf_feats.loc[i,'yield03'], latest_ecdf_feats.loc[i,'ttm']],\n",
    "#                                callPrice=higher_bound_opPrice)\n",
    "    \n",
    "#     higher_iv.append(h_iv.impliedVolatility)\n",
    "#     print(higher_iv)\n",
    "\n",
    "#     actual_opPrice = latest_ecdf_feats.loc[i,'opPrice']\n",
    "#     print(\"Actual={}\".format(actual_opPrice))\n",
    "    \n",
    "#     a_iv = mibian.BS([latest_ecdf_feats.loc[i,'spot'], latest_ecdf_feats.loc[i,'strike'],\n",
    "#                    latest_ecdf_feats.loc[i,'yield03'], latest_ecdf_feats.loc[i,'ttm']],\n",
    "#                                callPrice=actual_opPrice)\n",
    "    \n",
    "#     actual_iv.append(a_iv.impliedVolatility)    \n",
    "#     print(actual_iv)\n",
    "#     break"
   ]
  },
  {
   "cell_type": "markdown",
   "metadata": {},
   "source": [
    "vola_names=['Date','LowerBoundIV','HigherBoundIV','ActualIV']\n",
    "vola_dataSet=pd.DataFrame.from_records(IV, columns=vola_names)\n",
    "vola_dataSet"
   ]
  },
  {
   "cell_type": "markdown",
   "metadata": {},
   "source": [
    "Lower=317.8\n",
    "Higher=329.1500000000001\n",
    "Actual=324.8\n",
    "S=11713.2\n",
    "K=11350.0\n",
    "TTM=2.0\n",
    "R=6.18"
   ]
  }
 ],
 "metadata": {
  "kernelspec": {
   "display_name": "Python 3",
   "language": "python",
   "name": "python3"
  },
  "language_info": {
   "codemirror_mode": {
    "name": "ipython",
    "version": 3
   },
   "file_extension": ".py",
   "mimetype": "text/x-python",
   "name": "python",
   "nbconvert_exporter": "python",
   "pygments_lexer": "ipython3",
   "version": "3.6.6"
  }
 },
 "nbformat": 4,
 "nbformat_minor": 2
}
